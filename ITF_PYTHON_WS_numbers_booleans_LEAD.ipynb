{
 "cells": [
  {
   "cell_type": "markdown",
   "metadata": {},
   "source": [
    "<p>Given the code below, use the correct function on line 3 in order to convert <strong>num1 </strong>from integer to float.</p>"
   ]
  },
  {
   "cell_type": "code",
   "execution_count": null,
   "metadata": {},
   "outputs": [],
   "source": [
    "num1 = 25\n",
    "\n",
    "num2 = \n",
    "\n",
    "print(type(num2))"
   ]
  },
  {
   "cell_type": "code",
   "execution_count": 1,
   "metadata": {},
   "outputs": [
    {
     "name": "stdout",
     "output_type": "stream",
     "text": [
      "<class 'float'>\n"
     ]
    }
   ],
   "source": [
    "num1 = 25\n",
    " \n",
    "num2 = float(num1)\n",
    " \n",
    "print(type(num2))"
   ]
  },
  {
   "cell_type": "markdown",
   "metadata": {},
   "source": [
    "<p>Given the code below, use the correct function on line 3 in order to convert <strong>num1 </strong>from float to integer.</p>"
   ]
  },
  {
   "cell_type": "code",
   "execution_count": null,
   "metadata": {},
   "outputs": [],
   "source": [
    "num1 = 13.67\n",
    "\n",
    "num2 = \n",
    "\n",
    "print(type(num2))"
   ]
  },
  {
   "cell_type": "code",
   "execution_count": 2,
   "metadata": {},
   "outputs": [
    {
     "name": "stdout",
     "output_type": "stream",
     "text": [
      "<class 'int'>\n"
     ]
    }
   ],
   "source": [
    "num1 = 13.67\n",
    " \n",
    "num2 = int(num1)\n",
    " \n",
    "print(type(num2))"
   ]
  },
  {
   "cell_type": "markdown",
   "metadata": {},
   "source": [
    "<p>Given the code below, use the correct math operator in between <strong>num1 </strong>and <strong>num2 </strong>on line 4 in order to obtain the result shown.</p>"
   ]
  },
  {
   "cell_type": "code",
   "execution_count": null,
   "metadata": {},
   "outputs": [],
   "source": [
    "num1 = 25\n",
    "num2 = 8\n",
    "\n",
    "num3 = num1 num2\n",
    "\n",
    "print(num3 == 1) #result is True"
   ]
  },
  {
   "cell_type": "code",
   "execution_count": 3,
   "metadata": {},
   "outputs": [
    {
     "name": "stdout",
     "output_type": "stream",
     "text": [
      "True\n"
     ]
    }
   ],
   "source": [
    "num1 = 25\n",
    "num2 = 8\n",
    " \n",
    "num3 = num1 % num2\n",
    " \n",
    "print(num3 == 1) #result is True"
   ]
  },
  {
   "cell_type": "markdown",
   "metadata": {},
   "source": [
    "<p>Given the code below, use the correct math operator in between <strong>num1 </strong>and <strong>num2 </strong>on line 4 in order to obtain the result shown.</p>"
   ]
  },
  {
   "cell_type": "code",
   "execution_count": null,
   "metadata": {},
   "outputs": [],
   "source": [
    "num1 = 10\n",
    "num2 = 3\n",
    "\n",
    "num3 = num1 num2\n",
    "\n",
    "print(num3 == 250 * 4) #result is True"
   ]
  },
  {
   "cell_type": "code",
   "execution_count": 5,
   "metadata": {},
   "outputs": [
    {
     "name": "stdout",
     "output_type": "stream",
     "text": [
      "True\n"
     ]
    }
   ],
   "source": [
    "num1 = 10\n",
    "num2 = 3\n",
    " \n",
    "num3 = num1 ** num2\n",
    " \n",
    "print(num3 == 250 * 4) #result is True"
   ]
  },
  {
   "cell_type": "markdown",
   "metadata": {},
   "source": [
    "<p>Given the code below, use the correct math operator in between <strong>num1 </strong>and <strong>num2 </strong>on line 4 in order to obtain the result shown.</p>"
   ]
  },
  {
   "cell_type": "code",
   "execution_count": null,
   "metadata": {},
   "outputs": [],
   "source": [
    "num1 = 5\n",
    "num2 = 2\n",
    "\n",
    "num3 = num1 num2\n",
    "\n",
    "print(num3 == 5 % 3) #result is True"
   ]
  },
  {
   "cell_type": "code",
   "execution_count": 6,
   "metadata": {},
   "outputs": [
    {
     "name": "stdout",
     "output_type": "stream",
     "text": [
      "True\n"
     ]
    }
   ],
   "source": [
    "num1 = 5\n",
    "num2 = 2\n",
    " \n",
    "num3 = num1 // num2 #integer division\n",
    " \n",
    "print(num3 == 5 % 3) #result is True"
   ]
  },
  {
   "cell_type": "markdown",
   "metadata": {},
   "source": [
    "<p>Given the code below, use the correct function<strong> </strong>on line 3 in order to obtain the distance between <strong>num1 </strong>and 0.</p>"
   ]
  },
  {
   "cell_type": "code",
   "execution_count": null,
   "metadata": {},
   "outputs": [],
   "source": [
    "num1 = -11\n",
    "\n",
    "num2 = \n",
    "\n",
    "print(num2 == 11) #should result in True"
   ]
  },
  {
   "cell_type": "code",
   "execution_count": 7,
   "metadata": {},
   "outputs": [
    {
     "name": "stdout",
     "output_type": "stream",
     "text": [
      "True\n"
     ]
    }
   ],
   "source": [
    "num1 = -11\n",
    " \n",
    "num2 = abs(num1)\n",
    " \n",
    "print(num2 == 11) #should result in True"
   ]
  },
  {
   "cell_type": "markdown",
   "metadata": {},
   "source": [
    "<p>Given the code below, use the correct function<strong> </strong>on line 4 in order to raise <strong>num1 </strong>to the power of <strong>num2</strong>.</p>"
   ]
  },
  {
   "cell_type": "code",
   "execution_count": null,
   "metadata": {},
   "outputs": [],
   "source": [
    "num1 = 10\n",
    "num2 = 5\n",
    "\n",
    "num3 = \n",
    "\n",
    "print(num3 == 100000)"
   ]
  },
  {
   "cell_type": "code",
   "execution_count": 8,
   "metadata": {},
   "outputs": [
    {
     "name": "stdout",
     "output_type": "stream",
     "text": [
      "True\n"
     ]
    }
   ],
   "source": [
    "num1 = 10\n",
    "num2 = 5\n",
    " \n",
    "num3 = pow(num1, num2)\n",
    " \n",
    "print(num3 == 100000)"
   ]
  },
  {
   "cell_type": "markdown",
   "metadata": {},
   "source": [
    "<p>Given the code below, use the correct logical operator in between the two expressions<strong> </strong>on line 1 in order for the final result to be <strong>False</strong>.</p>"
   ]
  },
  {
   "cell_type": "code",
   "execution_count": null,
   "metadata": {},
   "outputs": [],
   "source": [
    "result = ((25 % 7 + 10 / 2) % 3 == 0)  ((abs(-19) / 2 - 2) > 9)\n",
    "\n",
    "print(result) #should return False"
   ]
  },
  {
   "cell_type": "code",
   "execution_count": 9,
   "metadata": {},
   "outputs": [
    {
     "name": "stdout",
     "output_type": "stream",
     "text": [
      "False\n"
     ]
    }
   ],
   "source": [
    "result = ((25 % 7 + 10 / 2) % 3 == 0) and ((abs(-19) / 2 - 2) > 9)\n",
    " \n",
    "print(result) #should return False"
   ]
  },
  {
   "cell_type": "markdown",
   "metadata": {},
   "source": [
    "<p>Given the code below, use the correct logical operator in between the two expressions<strong> </strong>on line 1 in order for the final result to be <strong>True</strong>.</p>"
   ]
  },
  {
   "cell_type": "code",
   "execution_count": null,
   "metadata": {},
   "outputs": [],
   "source": [
    "result = (min(pow(2, abs(3)), 9) == 3 ** 2 - 1)  (66 % 20 + 2 > 2 ** 3)\n",
    "\n",
    "print(result) #should return True"
   ]
  },
  {
   "cell_type": "code",
   "execution_count": 10,
   "metadata": {},
   "outputs": [
    {
     "name": "stdout",
     "output_type": "stream",
     "text": [
      "True\n"
     ]
    }
   ],
   "source": [
    "result = (min(pow(2, abs(3)), 9) == 3 ** 2 - 1) or (66 % 20 + 2 > 2 ** 3)\n",
    " \n",
    "print(result) #should return True"
   ]
  },
  {
   "cell_type": "markdown",
   "metadata": {},
   "source": [
    "<p>Given the code below, use the correct function on line 1 (for which the argument sits inside the parentheses) in order for the final result to be <strong>False</strong>.</p>"
   ]
  },
  {
   "cell_type": "code",
   "execution_count": null,
   "metadata": {},
   "outputs": [],
   "source": [
    "result = (150 % (10 ** 2 / 2))\n",
    "\n",
    "print(result) #should return False"
   ]
  },
  {
   "cell_type": "code",
   "execution_count": 11,
   "metadata": {},
   "outputs": [
    {
     "name": "stdout",
     "output_type": "stream",
     "text": [
      "False\n"
     ]
    }
   ],
   "source": [
    "result = bool(150 % (10 ** 2 / 2))\n",
    " \n",
    "print(result) #should return False"
   ]
  }
 ],
 "metadata": {
  "kernelspec": {
   "display_name": "Python 3.10.10 64-bit",
   "language": "python",
   "name": "python3"
  },
  "language_info": {
   "codemirror_mode": {
    "name": "ipython",
    "version": 3
   },
   "file_extension": ".py",
   "mimetype": "text/x-python",
   "name": "python",
   "nbconvert_exporter": "python",
   "pygments_lexer": "ipython3",
   "version": "3.10.10"
  },
  "orig_nbformat": 4,
  "vscode": {
   "interpreter": {
    "hash": "aee8b7b246df8f9039afb4144a1f6fd8d2ca17a180786b69acc140d282b71a49"
   }
  }
 },
 "nbformat": 4,
 "nbformat_minor": 2
}
