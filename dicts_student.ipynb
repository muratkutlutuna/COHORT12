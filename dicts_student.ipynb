{
 "cells": [
  {
   "cell_type": "markdown",
   "metadata": {},
   "source": [
    "<p>Given the code below, use the correct code on line 3 in order to return the value associated with key <strong>4</strong>. Do not use a method as a solution for this exercise!</p>"
   ]
  },
  {
   "cell_type": "code",
   "execution_count": 5,
   "metadata": {},
   "outputs": [
    {
     "name": "stdout",
     "output_type": "stream",
     "text": [
      "Stellar\n"
     ]
    }
   ],
   "source": [
    "crypto = {1: \"Bitcoin\", 2: \"Ethereum\", 3: \"Litecoin\", 4: \"Stellar\", 5: \"XRP\"}\n",
    "\n",
    "value = crypto[4]\n",
    "\n",
    "print(value)"
   ]
  },
  {
   "cell_type": "markdown",
   "metadata": {},
   "source": [
    "<p>Given the code below, use the correct code on line 3 in order to return the value associated with key <strong>4</strong>. This time, use a method as a solution for this exercise!</p>"
   ]
  },
  {
   "cell_type": "code",
   "execution_count": 6,
   "metadata": {},
   "outputs": [
    {
     "name": "stdout",
     "output_type": "stream",
     "text": [
      "Stellar\n"
     ]
    }
   ],
   "source": [
    "crypto = {1: \"Bitcoin\", 2: \"Ethereum\", 3: \"Litecoin\", 4: \"Stellar\", 5: \"XRP\"}\n",
    "\n",
    "value = crypto.get(4)\n",
    "\n",
    "print(value)"
   ]
  },
  {
   "cell_type": "markdown",
   "metadata": {},
   "source": [
    "<p>Given the code below, use the correct code on line 3 in order to update the value associated with key <strong>4</strong> to <strong>\"Cardano\"</strong>.</p>"
   ]
  },
  {
   "cell_type": "code",
   "execution_count": 9,
   "metadata": {},
   "outputs": [
    {
     "name": "stdout",
     "output_type": "stream",
     "text": [
      "Cardano\n"
     ]
    }
   ],
   "source": [
    "crypto = {1: \"Bitcoin\", 2: \"Ethereum\", 3: \"Litecoin\", 4: \"Stellar\", 5: \"XRP\"}\n",
    "\n",
    "crypto[4] = \"Cardano\"\n",
    "\n",
    "print(crypto[4])"
   ]
  },
  {
   "cell_type": "markdown",
   "metadata": {},
   "source": [
    "<p>Given the code below, use the correct code on line 3 in order to add a new key-value pair to the dictionary: <strong>6: \"Monero\"</strong></p>"
   ]
  },
  {
   "cell_type": "code",
   "execution_count": 10,
   "metadata": {},
   "outputs": [
    {
     "name": "stdout",
     "output_type": "stream",
     "text": [
      "Monero\n"
     ]
    }
   ],
   "source": [
    "crypto = {1: \"Bitcoin\", 2: \"Ethereum\", 3: \"Litecoin\", 4: \"Stellar\", 5: \"XRP\"}\n",
    "\n",
    "crypto.update({6: \"Monero\"})\n",
    "\n",
    "print(crypto[6])"
   ]
  },
  {
   "cell_type": "markdown",
   "metadata": {},
   "source": [
    "<p>Given the code below, use the correct code on line 3 in order to return the number of key-value pairs in the dictionary.</p>"
   ]
  },
  {
   "cell_type": "code",
   "execution_count": 11,
   "metadata": {},
   "outputs": [
    {
     "name": "stdout",
     "output_type": "stream",
     "text": [
      "5\n"
     ]
    }
   ],
   "source": [
    "crypto = {1: \"Bitcoin\", 2: \"Ethereum\", 3: \"Litecoin\", 4: \"Stellar\", 5: \"XRP\"}\n",
    "\n",
    "number = len(crypto)\n",
    "\n",
    "print(number)"
   ]
  },
  {
   "cell_type": "markdown",
   "metadata": {},
   "source": [
    "<p>Given the code below, use the correct code on line 3 in order to delete the key-value pair associated with key <strong>3</strong>. Do not use a method as a solution for this exercise!</p>"
   ]
  },
  {
   "cell_type": "code",
   "execution_count": 12,
   "metadata": {},
   "outputs": [
    {
     "name": "stdout",
     "output_type": "stream",
     "text": [
      "{1: 'Bitcoin', 2: 'Ethereum', 4: 'Stellar', 5: 'XRP'}\n"
     ]
    }
   ],
   "source": [
    "crypto = {1: \"Bitcoin\", 2: \"Ethereum\", 3: \"Litecoin\", 4: \"Stellar\", 5: \"XRP\"}\n",
    "\n",
    "del crypto[3]\n",
    "\n",
    "print(crypto)"
   ]
  },
  {
   "cell_type": "markdown",
   "metadata": {},
   "source": [
    "<p>Given the code below, use the correct code on line 3 in order to delete the key-value pair associated with key <strong>3</strong>. This time, use a method as a solution for this exercise!</p>"
   ]
  },
  {
   "cell_type": "code",
   "execution_count": 13,
   "metadata": {},
   "outputs": [
    {
     "name": "stdout",
     "output_type": "stream",
     "text": [
      "{1: 'Bitcoin', 2: 'Ethereum', 4: 'Stellar', 5: 'XRP'}\n"
     ]
    }
   ],
   "source": [
    "crypto = {1: \"Bitcoin\", 2: \"Ethereum\", 3: \"Litecoin\", 4: \"Stellar\", 5: \"XRP\"}\n",
    "\n",
    "crypto.pop(3)\n",
    "\n",
    "print(crypto)"
   ]
  },
  {
   "cell_type": "markdown",
   "metadata": {},
   "source": [
    "<p>Given the code below, use the correct code on line 3 in order to verify that <strong>7 </strong>is <strong>not </strong>a key in the dictionary.</p>"
   ]
  },
  {
   "cell_type": "code",
   "execution_count": 20,
   "metadata": {},
   "outputs": [
    {
     "name": "stdout",
     "output_type": "stream",
     "text": [
      "False\n"
     ]
    }
   ],
   "source": [
    "crypto = {1: \"Bitcoin\", 2: \"Ethereum\", 3: \"Litecoin\", 4: \"Stellar\", 5: \"XRP\"}\n",
    "\n",
    "check = bool(crypto.get(7))\n",
    "check = 7 in crypto\n",
    "\n",
    "print(check)"
   ]
  },
  {
   "cell_type": "markdown",
   "metadata": {},
   "source": [
    "<p>Given the code below, use the correct method on line 3 in order to delete all the elements in the dictionary.</p>"
   ]
  },
  {
   "cell_type": "code",
   "execution_count": 21,
   "metadata": {},
   "outputs": [
    {
     "name": "stdout",
     "output_type": "stream",
     "text": [
      "{}\n"
     ]
    }
   ],
   "source": [
    "crypto = {1: \"Bitcoin\", 2: \"Ethereum\", 3: \"Litecoin\", 4: \"Stellar\", 5: \"XRP\"}\n",
    "\n",
    "crypto.clear()\n",
    "\n",
    "print(crypto)"
   ]
  },
  {
   "cell_type": "markdown",
   "metadata": {},
   "source": [
    "<p>Given the code below, use the correct code on line 3 in order to get a list of tuples, where each tuple represents a key-value pair in the dictionary.</p>"
   ]
  },
  {
   "cell_type": "code",
   "execution_count": 23,
   "metadata": {},
   "outputs": [
    {
     "name": "stdout",
     "output_type": "stream",
     "text": [
      "[(1, 'Bitcoin'), (2, 'Ethereum'), (3, 'Litecoin'), (4, 'Stellar'), (5, 'XRP')]\n"
     ]
    }
   ],
   "source": [
    "crypto = {1: \"Bitcoin\", 2: \"Ethereum\", 3: \"Litecoin\", 4: \"Stellar\", 5: \"XRP\"}\n",
    "\n",
    "result = crypto.items()\n",
    "\n",
    "print(list(result))"
   ]
  },
  {
   "cell_type": "markdown",
   "metadata": {},
   "source": [
    "<p>Given the code below, use the correct function on line 3 in order to get the sum of all the keys in the dictionary.</p>"
   ]
  },
  {
   "cell_type": "code",
   "execution_count": 24,
   "metadata": {},
   "outputs": [
    {
     "name": "stdout",
     "output_type": "stream",
     "text": [
      "15\n"
     ]
    }
   ],
   "source": [
    "crypto = {1: \"Bitcoin\", 2: \"Ethereum\", 3: \"Litecoin\", 4: \"Stellar\", 5: \"XRP\"}\n",
    "\n",
    "add = sum(crypto.keys())\n",
    "\n",
    "print(add)"
   ]
  },
  {
   "cell_type": "markdown",
   "metadata": {},
   "source": [
    "<p>Given the code below, use the correct method on line 3 in order to get a list of all the values in the dictionary.</p>"
   ]
  },
  {
   "cell_type": "code",
   "execution_count": 25,
   "metadata": {},
   "outputs": [
    {
     "name": "stdout",
     "output_type": "stream",
     "text": [
      "['Bitcoin', 'Ethereum', 'Litecoin', 'Stellar', 'XRP']\n"
     ]
    }
   ],
   "source": [
    "crypto = {1: \"Bitcoin\", 2: \"Ethereum\", 3: \"Litecoin\", 4: \"Stellar\", 5: \"XRP\"}\n",
    "\n",
    "val = crypto.values()\n",
    "\n",
    "print(list(val))"
   ]
  },
  {
   "cell_type": "markdown",
   "metadata": {},
   "source": [
    "<p>Given the code below, use the correct function on line 3 in order to get the smallest key in the dictionary.</p>"
   ]
  },
  {
   "cell_type": "code",
   "execution_count": 26,
   "metadata": {},
   "outputs": [
    {
     "name": "stdout",
     "output_type": "stream",
     "text": [
      "1\n"
     ]
    }
   ],
   "source": [
    "crypto = {1: \"Bitcoin\", 2: \"Ethereum\", 3: \"Litecoin\", 4: \"Stellar\", 5: \"XRP\"}\n",
    "\n",
    "key = min(crypto.keys())\n",
    "\n",
    "print(key)"
   ]
  },
  {
   "cell_type": "markdown",
   "metadata": {},
   "source": [
    "<p>Given the code below, use the correct method on line 3 in order to get a list of all the keys in the dictionary.</p>"
   ]
  },
  {
   "cell_type": "code",
   "execution_count": 27,
   "metadata": {},
   "outputs": [
    {
     "name": "stdout",
     "output_type": "stream",
     "text": [
      "[1, 2, 3, 4, 5]\n"
     ]
    }
   ],
   "source": [
    "crypto = {1: \"Bitcoin\", 2: \"Ethereum\", 3: \"Litecoin\", 4: \"Stellar\", 5: \"XRP\"}\n",
    "\n",
    "keys = crypto.keys()\n",
    "\n",
    "print(list(keys))"
   ]
  },
  {
   "cell_type": "markdown",
   "metadata": {},
   "source": [
    "<p>Given the code below, use the correct method on line 3 in order to return and remove an arbitrary key-value pair from the dictionary.</p>"
   ]
  },
  {
   "cell_type": "code",
   "execution_count": 29,
   "metadata": {},
   "outputs": [
    {
     "name": "stdout",
     "output_type": "stream",
     "text": [
      "4\n"
     ]
    }
   ],
   "source": [
    "crypto = {1: \"Bitcoin\", 2: \"Ethereum\", 3: \"Litecoin\", 4: \"Stellar\", 5: \"XRP\"}\n",
    "\n",
    "crypto.popitem()\n",
    "\n",
    "print(len(crypto))"
   ]
  },
  {
   "cell_type": "code",
   "execution_count": 15,
   "metadata": {},
   "outputs": [
    {
     "name": "stdout",
     "output_type": "stream",
     "text": [
      "4\n"
     ]
    }
   ],
   "source": []
  },
  {
   "cell_type": "markdown",
   "metadata": {},
   "source": []
  }
 ],
 "metadata": {
  "kernelspec": {
   "display_name": "Python 3",
   "language": "python",
   "name": "python3"
  },
  "language_info": {
   "codemirror_mode": {
    "name": "ipython",
    "version": 3
   },
   "file_extension": ".py",
   "mimetype": "text/x-python",
   "name": "python",
   "nbconvert_exporter": "python",
   "pygments_lexer": "ipython3",
   "version": "3.13.2"
  },
  "orig_nbformat": 4
 },
 "nbformat": 4,
 "nbformat_minor": 2
}
