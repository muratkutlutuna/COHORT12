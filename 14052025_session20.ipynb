{
 "cells": [
  {
   "cell_type": "code",
   "execution_count": 1,
   "id": "b35a94da",
   "metadata": {},
   "outputs": [
    {
     "name": "stdout",
     "output_type": "stream",
     "text": [
      "Help on function open in module _io:\n",
      "\n",
      "open(\n",
      "    file,\n",
      "    mode='r',\n",
      "    buffering=-1,\n",
      "    encoding=None,\n",
      "    errors=None,\n",
      "    newline=None,\n",
      "    closefd=True,\n",
      "    opener=None\n",
      ")\n",
      "    Open file and return a stream.  Raise OSError upon failure.\n",
      "\n",
      "    file is either a text or byte string giving the name (and the path\n",
      "    if the file isn't in the current working directory) of the file to\n",
      "    be opened or an integer file descriptor of the file to be\n",
      "    wrapped. (If a file descriptor is given, it is closed when the\n",
      "    returned I/O object is closed, unless closefd is set to False.)\n",
      "\n",
      "    mode is an optional string that specifies the mode in which the file\n",
      "    is opened. It defaults to 'r' which means open for reading in text\n",
      "    mode.  Other common values are 'w' for writing (truncating the file if\n",
      "    it already exists), 'x' for creating and writing to a new file, and\n",
      "    'a' for appending (which on some Unix systems, means that all writes\n",
      "    append to the end of the file regardless of the current seek position).\n",
      "    In text mode, if encoding is not specified the encoding used is platform\n",
      "    dependent: locale.getencoding() is called to get the current locale encoding.\n",
      "    (For reading and writing raw bytes use binary mode and leave encoding\n",
      "    unspecified.) The available modes are:\n",
      "\n",
      "    ========= ===============================================================\n",
      "    Character Meaning\n",
      "    --------- ---------------------------------------------------------------\n",
      "    'r'       open for reading (default)\n",
      "    'w'       open for writing, truncating the file first\n",
      "    'x'       create a new file and open it for writing\n",
      "    'a'       open for writing, appending to the end of the file if it exists\n",
      "    'b'       binary mode\n",
      "    't'       text mode (default)\n",
      "    '+'       open a disk file for updating (reading and writing)\n",
      "    ========= ===============================================================\n",
      "\n",
      "    The default mode is 'rt' (open for reading text). For binary random\n",
      "    access, the mode 'w+b' opens and truncates the file to 0 bytes, while\n",
      "    'r+b' opens the file without truncation. The 'x' mode implies 'w' and\n",
      "    raises an `FileExistsError` if the file already exists.\n",
      "\n",
      "    Python distinguishes between files opened in binary and text modes,\n",
      "    even when the underlying operating system doesn't. Files opened in\n",
      "    binary mode (appending 'b' to the mode argument) return contents as\n",
      "    bytes objects without any decoding. In text mode (the default, or when\n",
      "    't' is appended to the mode argument), the contents of the file are\n",
      "    returned as strings, the bytes having been first decoded using a\n",
      "    platform-dependent encoding or using the specified encoding if given.\n",
      "\n",
      "    buffering is an optional integer used to set the buffering policy.\n",
      "    Pass 0 to switch buffering off (only allowed in binary mode), 1 to select\n",
      "    line buffering (only usable in text mode), and an integer > 1 to indicate\n",
      "    the size of a fixed-size chunk buffer.  When no buffering argument is\n",
      "    given, the default buffering policy works as follows:\n",
      "\n",
      "    * Binary files are buffered in fixed-size chunks; the size of the buffer\n",
      "      is chosen using a heuristic trying to determine the underlying device's\n",
      "      \"block size\" and falling back on `io.DEFAULT_BUFFER_SIZE`.\n",
      "      On many systems, the buffer will typically be 4096 or 8192 bytes long.\n",
      "\n",
      "    * \"Interactive\" text files (files for which isatty() returns True)\n",
      "      use line buffering.  Other text files use the policy described above\n",
      "      for binary files.\n",
      "\n",
      "    encoding is the name of the encoding used to decode or encode the\n",
      "    file. This should only be used in text mode. The default encoding is\n",
      "    platform dependent, but any encoding supported by Python can be\n",
      "    passed.  See the codecs module for the list of supported encodings.\n",
      "\n",
      "    errors is an optional string that specifies how encoding errors are to\n",
      "    be handled---this argument should not be used in binary mode. Pass\n",
      "    'strict' to raise a ValueError exception if there is an encoding error\n",
      "    (the default of None has the same effect), or pass 'ignore' to ignore\n",
      "    errors. (Note that ignoring encoding errors can lead to data loss.)\n",
      "    See the documentation for codecs.register or run 'help(codecs.Codec)'\n",
      "    for a list of the permitted encoding error strings.\n",
      "\n",
      "    newline controls how universal newlines works (it only applies to text\n",
      "    mode). It can be None, '', '\\n', '\\r', and '\\r\\n'.  It works as\n",
      "    follows:\n",
      "\n",
      "    * On input, if newline is None, universal newlines mode is\n",
      "      enabled. Lines in the input can end in '\\n', '\\r', or '\\r\\n', and\n",
      "      these are translated into '\\n' before being returned to the\n",
      "      caller. If it is '', universal newline mode is enabled, but line\n",
      "      endings are returned to the caller untranslated. If it has any of\n",
      "      the other legal values, input lines are only terminated by the given\n",
      "      string, and the line ending is returned to the caller untranslated.\n",
      "\n",
      "    * On output, if newline is None, any '\\n' characters written are\n",
      "      translated to the system default line separator, os.linesep. If\n",
      "      newline is '' or '\\n', no translation takes place. If newline is any\n",
      "      of the other legal values, any '\\n' characters written are translated\n",
      "      to the given string.\n",
      "\n",
      "    If closefd is False, the underlying file descriptor will be kept open\n",
      "    when the file is closed. This does not work when a file name is given\n",
      "    and must be True in that case.\n",
      "\n",
      "    A custom opener can be used by passing a callable as *opener*. The\n",
      "    underlying file descriptor for the file object is then obtained by\n",
      "    calling *opener* with (*file*, *flags*). *opener* must return an open\n",
      "    file descriptor (passing os.open as *opener* results in functionality\n",
      "    similar to passing None).\n",
      "\n",
      "    open() returns a file object whose type depends on the mode, and\n",
      "    through which the standard file operations such as reading and writing\n",
      "    are performed. When open() is used to open a file in a text mode ('w',\n",
      "    'r', 'wt', 'rt', etc.), it returns a TextIOWrapper. When used to open\n",
      "    a file in a binary mode, the returned class varies: in read binary\n",
      "    mode, it returns a BufferedReader; in write binary and append binary\n",
      "    modes, it returns a BufferedWriter, and in read/write mode, it returns\n",
      "    a BufferedRandom.\n",
      "\n",
      "    It is also possible to use a string or bytearray as a file for both\n",
      "    reading and writing. For strings StringIO can be used like a file\n",
      "    opened in a text mode, and for bytes a BytesIO can be used like a file\n",
      "    opened in a binary mode.\n",
      "\n"
     ]
    }
   ],
   "source": [
    "help(open)"
   ]
  },
  {
   "cell_type": "code",
   "execution_count": 2,
   "id": "94036aae",
   "metadata": {},
   "outputs": [
    {
     "data": {
      "text/plain": [
       "<_io.TextIOWrapper name='test.txt' mode='r' encoding='utf-8'>"
      ]
     },
     "execution_count": 2,
     "metadata": {},
     "output_type": "execute_result"
    }
   ],
   "source": [
    "open(\"test.txt\")"
   ]
  },
  {
   "cell_type": "code",
   "execution_count": 3,
   "id": "309cf93f",
   "metadata": {},
   "outputs": [
    {
     "ename": "FileNotFoundError",
     "evalue": "[Errno 2] No such file or directory: 'test2.txt'",
     "output_type": "error",
     "traceback": [
      "\u001b[31m---------------------------------------------------------------------------\u001b[39m",
      "\u001b[31mFileNotFoundError\u001b[39m                         Traceback (most recent call last)",
      "\u001b[36mCell\u001b[39m\u001b[36m \u001b[39m\u001b[32mIn[3]\u001b[39m\u001b[32m, line 1\u001b[39m\n\u001b[32m----> \u001b[39m\u001b[32m1\u001b[39m \u001b[38;5;28;43mopen\u001b[39;49m\u001b[43m(\u001b[49m\u001b[33;43m\"\u001b[39;49m\u001b[33;43mtest2.txt\u001b[39;49m\u001b[33;43m\"\u001b[39;49m\u001b[43m)\u001b[49m\n",
      "\u001b[36mFile \u001b[39m\u001b[32m/Library/Frameworks/Python.framework/Versions/3.13/lib/python3.13/site-packages/IPython/core/interactiveshell.py:326\u001b[39m, in \u001b[36m_modified_open\u001b[39m\u001b[34m(file, *args, **kwargs)\u001b[39m\n\u001b[32m    319\u001b[39m \u001b[38;5;28;01mif\u001b[39;00m file \u001b[38;5;129;01min\u001b[39;00m {\u001b[32m0\u001b[39m, \u001b[32m1\u001b[39m, \u001b[32m2\u001b[39m}:\n\u001b[32m    320\u001b[39m     \u001b[38;5;28;01mraise\u001b[39;00m \u001b[38;5;167;01mValueError\u001b[39;00m(\n\u001b[32m    321\u001b[39m         \u001b[33mf\u001b[39m\u001b[33m\"\u001b[39m\u001b[33mIPython won\u001b[39m\u001b[33m'\u001b[39m\u001b[33mt let you open fd=\u001b[39m\u001b[38;5;132;01m{\u001b[39;00mfile\u001b[38;5;132;01m}\u001b[39;00m\u001b[33m by default \u001b[39m\u001b[33m\"\u001b[39m\n\u001b[32m    322\u001b[39m         \u001b[33m\"\u001b[39m\u001b[33mas it is likely to crash IPython. If you know what you are doing, \u001b[39m\u001b[33m\"\u001b[39m\n\u001b[32m    323\u001b[39m         \u001b[33m\"\u001b[39m\u001b[33myou can use builtins\u001b[39m\u001b[33m'\u001b[39m\u001b[33m open.\u001b[39m\u001b[33m\"\u001b[39m\n\u001b[32m    324\u001b[39m     )\n\u001b[32m--> \u001b[39m\u001b[32m326\u001b[39m \u001b[38;5;28;01mreturn\u001b[39;00m \u001b[43mio_open\u001b[49m\u001b[43m(\u001b[49m\u001b[43mfile\u001b[49m\u001b[43m,\u001b[49m\u001b[43m \u001b[49m\u001b[43m*\u001b[49m\u001b[43margs\u001b[49m\u001b[43m,\u001b[49m\u001b[43m \u001b[49m\u001b[43m*\u001b[49m\u001b[43m*\u001b[49m\u001b[43mkwargs\u001b[49m\u001b[43m)\u001b[49m\n",
      "\u001b[31mFileNotFoundError\u001b[39m: [Errno 2] No such file or directory: 'test2.txt'"
     ]
    }
   ],
   "source": [
    "open(\"test2.txt\")"
   ]
  },
  {
   "cell_type": "code",
   "execution_count": 1,
   "id": "d73a8128",
   "metadata": {},
   "outputs": [
    {
     "data": {
      "text/plain": [
       "<_io.TextIOWrapper name='/Users/muratkutlutuna/Desktop/COHORT12/test.py' mode='r' encoding='utf-8'>"
      ]
     },
     "execution_count": 1,
     "metadata": {},
     "output_type": "execute_result"
    }
   ],
   "source": [
    "open(\"/Users/muratkutlutuna/Desktop/COHORT12/test.py\")"
   ]
  },
  {
   "cell_type": "code",
   "execution_count": 3,
   "id": "c537106b",
   "metadata": {},
   "outputs": [
    {
     "data": {
      "text/plain": [
       "'/Users/muratkutlutuna/Desktop/COHORT12'"
      ]
     },
     "execution_count": 3,
     "metadata": {},
     "output_type": "execute_result"
    }
   ],
   "source": [
    "pwd"
   ]
  },
  {
   "cell_type": "code",
   "execution_count": 2,
   "id": "eb2fdc20",
   "metadata": {},
   "outputs": [
    {
     "name": "stdout",
     "output_type": "stream",
     "text": [
      "<_io.TextIOWrapper name='first_file.txt' mode='r' encoding='utf-8'>\n",
      "<class '_io.TextIOWrapper'>\n"
     ]
    }
   ],
   "source": [
    "my_file = open(\"first_file.txt\")\n",
    "print(my_file)\n",
    "print(type(my_file))\n",
    "my_file.close()\n",
    "# my_file.read(\n"
   ]
  },
  {
   "cell_type": "code",
   "execution_count": 3,
   "id": "8e4ab962",
   "metadata": {},
   "outputs": [
    {
     "data": {
      "text/plain": [
       "['_CHUNK_SIZE',\n",
       " '__class__',\n",
       " '__del__',\n",
       " '__delattr__',\n",
       " '__dict__',\n",
       " '__dir__',\n",
       " '__doc__',\n",
       " '__enter__',\n",
       " '__eq__',\n",
       " '__exit__',\n",
       " '__format__',\n",
       " '__ge__',\n",
       " '__getattribute__',\n",
       " '__getstate__',\n",
       " '__gt__',\n",
       " '__hash__',\n",
       " '__init__',\n",
       " '__init_subclass__',\n",
       " '__iter__',\n",
       " '__le__',\n",
       " '__lt__',\n",
       " '__module__',\n",
       " '__ne__',\n",
       " '__new__',\n",
       " '__next__',\n",
       " '__reduce__',\n",
       " '__reduce_ex__',\n",
       " '__repr__',\n",
       " '__setattr__',\n",
       " '__sizeof__',\n",
       " '__str__',\n",
       " '__subclasshook__',\n",
       " '_checkClosed',\n",
       " '_checkReadable',\n",
       " '_checkSeekable',\n",
       " '_checkWritable',\n",
       " '_finalizing',\n",
       " 'buffer',\n",
       " 'close',\n",
       " 'closed',\n",
       " 'detach',\n",
       " 'encoding',\n",
       " 'errors',\n",
       " 'fileno',\n",
       " 'flush',\n",
       " 'isatty',\n",
       " 'line_buffering',\n",
       " 'mode',\n",
       " 'name',\n",
       " 'newlines',\n",
       " 'read',\n",
       " 'readable',\n",
       " 'readline',\n",
       " 'readlines',\n",
       " 'reconfigure',\n",
       " 'seek',\n",
       " 'seekable',\n",
       " 'tell',\n",
       " 'truncate',\n",
       " 'writable',\n",
       " 'write',\n",
       " 'write_through',\n",
       " 'writelines']"
      ]
     },
     "execution_count": 3,
     "metadata": {},
     "output_type": "execute_result"
    }
   ],
   "source": [
    "dir(my_file)"
   ]
  },
  {
   "cell_type": "code",
   "execution_count": 5,
   "id": "f7c29001",
   "metadata": {},
   "outputs": [
    {
     "ename": "TypeError",
     "evalue": "'str' object cannot be interpreted as an integer",
     "output_type": "error",
     "traceback": [
      "\u001b[31m---------------------------------------------------------------------------\u001b[39m",
      "\u001b[31mTypeError\u001b[39m                                 Traceback (most recent call last)",
      "\u001b[36mCell\u001b[39m\u001b[36m \u001b[39m\u001b[32mIn[5]\u001b[39m\u001b[32m, line 1\u001b[39m\n\u001b[32m----> \u001b[39m\u001b[32m1\u001b[39m sea = \u001b[38;5;28;43mopen\u001b[39;49m\u001b[43m(\u001b[49m\u001b[33;43m\"\u001b[39;49m\u001b[33;43mfishes.txt\u001b[39;49m\u001b[33;43m\"\u001b[39;49m\u001b[43m,\u001b[49m\u001b[33;43m\"\u001b[39;49m\u001b[33;43mr\u001b[39;49m\u001b[33;43m\"\u001b[39;49m\u001b[43m,\u001b[49m\u001b[33;43m\"\u001b[39;49m\u001b[33;43mutf-8\u001b[39;49m\u001b[33;43m\"\u001b[39;49m\u001b[43m)\u001b[49m\n",
      "\u001b[36mFile \u001b[39m\u001b[32m/Library/Frameworks/Python.framework/Versions/3.13/lib/python3.13/site-packages/IPython/core/interactiveshell.py:326\u001b[39m, in \u001b[36m_modified_open\u001b[39m\u001b[34m(file, *args, **kwargs)\u001b[39m\n\u001b[32m    319\u001b[39m \u001b[38;5;28;01mif\u001b[39;00m file \u001b[38;5;129;01min\u001b[39;00m {\u001b[32m0\u001b[39m, \u001b[32m1\u001b[39m, \u001b[32m2\u001b[39m}:\n\u001b[32m    320\u001b[39m     \u001b[38;5;28;01mraise\u001b[39;00m \u001b[38;5;167;01mValueError\u001b[39;00m(\n\u001b[32m    321\u001b[39m         \u001b[33mf\u001b[39m\u001b[33m\"\u001b[39m\u001b[33mIPython won\u001b[39m\u001b[33m'\u001b[39m\u001b[33mt let you open fd=\u001b[39m\u001b[38;5;132;01m{\u001b[39;00mfile\u001b[38;5;132;01m}\u001b[39;00m\u001b[33m by default \u001b[39m\u001b[33m\"\u001b[39m\n\u001b[32m    322\u001b[39m         \u001b[33m\"\u001b[39m\u001b[33mas it is likely to crash IPython. If you know what you are doing, \u001b[39m\u001b[33m\"\u001b[39m\n\u001b[32m    323\u001b[39m         \u001b[33m\"\u001b[39m\u001b[33myou can use builtins\u001b[39m\u001b[33m'\u001b[39m\u001b[33m open.\u001b[39m\u001b[33m\"\u001b[39m\n\u001b[32m    324\u001b[39m     )\n\u001b[32m--> \u001b[39m\u001b[32m326\u001b[39m \u001b[38;5;28;01mreturn\u001b[39;00m \u001b[43mio_open\u001b[49m\u001b[43m(\u001b[49m\u001b[43mfile\u001b[49m\u001b[43m,\u001b[49m\u001b[43m \u001b[49m\u001b[43m*\u001b[49m\u001b[43margs\u001b[49m\u001b[43m,\u001b[49m\u001b[43m \u001b[49m\u001b[43m*\u001b[49m\u001b[43m*\u001b[49m\u001b[43mkwargs\u001b[49m\u001b[43m)\u001b[49m\n",
      "\u001b[31mTypeError\u001b[39m: 'str' object cannot be interpreted as an integer"
     ]
    }
   ],
   "source": [
    "sea = open(\"fishes.txt\",\"r\",\"utf-8\")"
   ]
  },
  {
   "cell_type": "code",
   "execution_count": 9,
   "id": "89380d15",
   "metadata": {},
   "outputs": [
    {
     "name": "stdout",
     "output_type": "stream",
     "text": [
      "Help on built-in function read:\n",
      "\n",
      "read(size=-1, /) method of _io.TextIOWrapper instance\n",
      "    Read at most size characters from stream.\n",
      "\n",
      "    Read from underlying buffer until we have size characters or we hit EOF.\n",
      "    If size is negative or omitted, read until EOF.\n",
      "\n",
      "Orca is a kind of Dolphin.\n",
      "Blue Whale is the largest animal known on earth.\n",
      "Sharks are the sister group to the Rays (batoids).\n",
      "The Tuna Fish can weigh up to 260 kg.\n",
      "Squid and Octopus are in the same class.\n"
     ]
    }
   ],
   "source": [
    "sea = open(\"fishes.txt\",\"r\",encoding=\"utf-8\")\n",
    "help(sea.read)\n",
    "print(sea.read())\n",
    "sea.close()"
   ]
  },
  {
   "cell_type": "code",
   "execution_count": 10,
   "id": "2369c758",
   "metadata": {},
   "outputs": [
    {
     "name": "stdout",
     "output_type": "stream",
     "text": [
      "Orca is a kind of Dolphin.\n",
      "Blue W\n"
     ]
    }
   ],
   "source": [
    "sea = open(\"fishes.txt\",\"r\",encoding=\"utf-8\")\n",
    "print(sea.read(33))\n",
    "sea.close()"
   ]
  },
  {
   "cell_type": "code",
   "execution_count": 1,
   "id": "6206dca2",
   "metadata": {},
   "outputs": [
    {
     "name": "stdout",
     "output_type": "stream",
     "text": [
      "Orca is a kind of Dolphin.\n",
      "Blue W\n",
      "hale is the largest anima\n"
     ]
    }
   ],
   "source": [
    "import time\n",
    "sea = open(\"fishes.txt\",\"r\",encoding=\"utf-8\")\n",
    "print(sea.read(33))\n",
    "time.sleep(30)\n",
    "print(sea.read(25))\n",
    "sea.close()"
   ]
  },
  {
   "cell_type": "code",
   "execution_count": 16,
   "id": "d81dfa96",
   "metadata": {},
   "outputs": [
    {
     "name": "stdout",
     "output_type": "stream",
     "text": [
      "Orca is a kind of Dolphin.\n",
      "Blue W\n",
      "hale is the largest anima\n",
      "Orca is a kind of Dolphin.\n",
      "Blue Whale is the largest animal known on earth.\n",
      "Sharks are the sister group to the Rays (batoids).\n",
      "The Tuna Fish can weigh up to 260 kg.\n",
      "Squid and Octopus are in the same class.\n",
      "\n",
      "Orca is a kind of Dolphin\n",
      "e Whale is the \n",
      "\n",
      "return of the seek:  0\n",
      "Orca is a kind of Dolphin.\n",
      "Blue Whale is the largest animal known on earth.\n",
      "Sharks are the sister group to the Rays (batoids).\n",
      "The Tuna Fish can weigh up to 260 kg.\n",
      "Squid and Octopus are in the same class.\n",
      "\n"
     ]
    },
    {
     "ename": "ValueError",
     "evalue": "negative seek position -1",
     "output_type": "error",
     "traceback": [
      "\u001b[31m---------------------------------------------------------------------------\u001b[39m",
      "\u001b[31mValueError\u001b[39m                                Traceback (most recent call last)",
      "\u001b[36mCell\u001b[39m\u001b[36m \u001b[39m\u001b[32mIn[16]\u001b[39m\u001b[32m, line 18\u001b[39m\n\u001b[32m     16\u001b[39m sea.seek(\u001b[32m0\u001b[39m)\n\u001b[32m     17\u001b[39m \u001b[38;5;28mprint\u001b[39m(sea.read(\u001b[32m0\u001b[39m))\n\u001b[32m---> \u001b[39m\u001b[32m18\u001b[39m \u001b[43msea\u001b[49m\u001b[43m.\u001b[49m\u001b[43mseek\u001b[49m\u001b[43m(\u001b[49m\u001b[43m-\u001b[49m\u001b[32;43m1\u001b[39;49m\u001b[43m)\u001b[49m\n\u001b[32m     19\u001b[39m sea.seek(-\u001b[32m5\u001b[39m)\n\u001b[32m     20\u001b[39m \u001b[38;5;28mprint\u001b[39m(sea.read(\u001b[32m25000\u001b[39m))\n",
      "\u001b[31mValueError\u001b[39m: negative seek position -1"
     ]
    }
   ],
   "source": [
    "sea = open(\"fishes.txt\",\"r\",encoding=\"utf-8\")\n",
    "print(sea.read(33))\n",
    "print(sea.read(25))\n",
    "sea.seek(0)\n",
    "print(sea.read(-50))\n",
    "print(sea.read(25))\n",
    "sea.seek(0)\n",
    "print(sea.read(25))\n",
    "sea.seek(30)\n",
    "print(sea.read(15))\n",
    "sea.seek(10000)\n",
    "print(sea.read(150))\n",
    "sea.seek(0)\n",
    "print(\"return of the seek: \", sea.seek(0))\n",
    "print(sea.read(25000))\n",
    "sea.seek(0)\n",
    "print(sea.read(0))\n",
    "sea.seek(-1)\n",
    "sea.seek(-5)\n",
    "print(sea.read(25000))\n",
    "sea.close()"
   ]
  },
  {
   "cell_type": "code",
   "execution_count": 19,
   "id": "a4012c60",
   "metadata": {},
   "outputs": [
    {
     "name": "stdout",
     "output_type": "stream",
     "text": [
      "Orca is a kind of Dolphin.\n",
      "Blue W\n",
      "hale is the largest anima\n",
      "Orca is a kind of Dolphin\n",
      "e Whale is the \n",
      "return of the seek:  0\n",
      "Orca is a kind of Dolphin.\n",
      "Blue W\n",
      "33\n",
      "hale is the largest animal known on earth.\n",
      "Sharks are the sister group to the Rays (batoids).\n",
      "The Tuna Fish can weigh up to 260 kg.\n",
      "Squid and Octopus are in the same class.\n"
     ]
    }
   ],
   "source": [
    "sea = open(\"fishes.txt\",\"r\",encoding=\"utf-8\")\n",
    "print(sea.read(33))\n",
    "print(sea.read(25))\n",
    "sea.seek(0)\n",
    "print(sea.read(25))\n",
    "sea.seek(30)\n",
    "print(sea.read(15))\n",
    "print(\"return of the seek: \", sea.seek(0))\n",
    "print(sea.read(33))\n",
    "print(sea.tell())\n",
    "print(sea.read())\n",
    "sea.close()"
   ]
  },
  {
   "cell_type": "code",
   "execution_count": null,
   "id": "3b0b6f30",
   "metadata": {},
   "outputs": [
    {
     "ename": "ValueError",
     "evalue": "I/O operation on closed file.",
     "output_type": "error",
     "traceback": [
      "\u001b[31m---------------------------------------------------------------------------\u001b[39m",
      "\u001b[31mValueError\u001b[39m                                Traceback (most recent call last)",
      "\u001b[36mCell\u001b[39m\u001b[36m \u001b[39m\u001b[32mIn[18]\u001b[39m\u001b[32m, line 1\u001b[39m\n\u001b[32m----> \u001b[39m\u001b[32m1\u001b[39m \u001b[43msea\u001b[49m\u001b[43m.\u001b[49m\u001b[43mread\u001b[49m\u001b[43m(\u001b[49m\u001b[43m)\u001b[49m\n",
      "\u001b[31mValueError\u001b[39m: I/O operation on closed file."
     ]
    }
   ],
   "source": [
    "sea.read(3)"
   ]
  },
  {
   "cell_type": "code",
   "execution_count": 37,
   "id": "24d6dfe4",
   "metadata": {},
   "outputs": [
    {
     "name": "stdout",
     "output_type": "stream",
     "text": [
      "['I want to sing', 'Like the birds sing,', 'Not worrying about', 'Who hears or', 'What they think.']\n",
      "17\n",
      "4\n",
      "I want to sing\n",
      "Like the birds sing,\n",
      "next 13 chars: \n",
      "Not worrying\n",
      "Position of the cursor:  48\n"
     ]
    }
   ],
   "source": [
    "with open(\"rumi.txt\",\"w\",encoding=\"utf-8\") as rumi:\n",
    "    rumi.write(\"\"\"I want to sing\n",
    "Like the birds sing,\n",
    "Not worrying about\n",
    "Who hears or\n",
    "What they think.\"\"\")\n",
    "rumi = open(\"rumi.txt\",\"r\",encoding=\"utf-8\")\n",
    "content = rumi.read()\n",
    "print(content.split(\"\\n\"))\n",
    "print(len(content.split()))\n",
    "print(content.count(\"a\"))\n",
    "rumi.seek(0)\n",
    "first_two = rumi.read(35)\n",
    "print(first_two)\n",
    "print(\"next 13 chars: \"+rumi.read(13))\n",
    "print(\"Position of the cursor: \",rumi.tell())\n",
    "rumi.close()"
   ]
  },
  {
   "cell_type": "code",
   "execution_count": 41,
   "id": "975118f2",
   "metadata": {},
   "outputs": [
    {
     "name": "stdout",
     "output_type": "stream",
     "text": [
      "Orca is a kind of Dolphin.\n",
      "\n",
      "Blue Whale is the largest animal known on earth.\n",
      "\n",
      "Sharks are the sister group to the Rays (batoids).\n",
      "\n",
      "<class 'str'> The Tuna Fish can weigh up to 260 kg.\n",
      "\n"
     ]
    }
   ],
   "source": [
    "sea = open(\"fishes.txt\",\"r\")\n",
    "print(sea.readline())\n",
    "print(sea.readline())\n",
    "print(sea.readline())\n",
    "fourth_line = sea.readline()\n",
    "print(type(fourth_line),fourth_line)\n",
    "sea.close()"
   ]
  },
  {
   "cell_type": "code",
   "execution_count": 47,
   "id": "f9fd3018",
   "metadata": {},
   "outputs": [
    {
     "name": "stdout",
     "output_type": "stream",
     "text": [
      "Orca is a kind of Dolphin.\n",
      " Blue Whale is the largest animal known on earth.\n",
      " Sharks are the sister group to the Rays (batoids).\n",
      " The Tuna Fish can weigh up to 260 kg.\n",
      " Squid and Octopus are in the same class.\n"
     ]
    }
   ],
   "source": [
    "sea = open(\"fishes.txt\",\"r\")\n",
    "print(*sea.readlines())\n",
    "sea.close()"
   ]
  },
  {
   "cell_type": "code",
   "execution_count": 62,
   "id": "a6c96762",
   "metadata": {},
   "outputs": [
    {
     "name": "stdout",
     "output_type": "stream",
     "text": [
      "Orca is a kind of Dolphin.\n",
      "Blue Whale is the largest animal known on earth.\n",
      "Sharks are the sister group to the Rays (batoids).\n",
      "The Tuna Fish can weigh up to 260 kg.\n",
      "Squid and Octopus are in the same class.\n"
     ]
    }
   ],
   "source": [
    "sea = open(\"fishes.txt\",\"r\")\n",
    "print(sea.read(999999))\n",
    "sea.close()"
   ]
  },
  {
   "cell_type": "code",
   "execution_count": 70,
   "id": "5749525b",
   "metadata": {},
   "outputs": [
    {
     "name": "stdout",
     "output_type": "stream",
     "text": [
      "I want to sing\n",
      "\n",
      "Like the birds sing,\n",
      "\n",
      "Not worrying about\n",
      "\n"
     ]
    }
   ],
   "source": [
    "f = open(\"rumi.txt\",\"r\",encoding=\"UTF8\")\n",
    "print(f.readline())\n",
    "print(f.readline())\n",
    "print(f.readline())\n",
    "f.close()"
   ]
  },
  {
   "cell_type": "code",
   "execution_count": 73,
   "id": "83ad36bc",
   "metadata": {},
   "outputs": [
    {
     "name": "stdout",
     "output_type": "stream",
     "text": [
      "['Orca is a kind of Dolphin.\\n',\n",
      " 'Blue Whale is the largest animal known on earth.\\n',\n",
      " 'Sharks are the sister group to the Rays (batoids).\\n',\n",
      " 'The Tuna Fish can weigh up to 260 kg.\\n',\n",
      " 'Squid and Octopus are in the same class.']\n",
      "('Orca is a kind of Dolphin.\\n'\n",
      " 'Blue Whale is the largest animal known on earth.\\n'\n",
      " 'Sharks are the sister group to the Rays (batoids).\\n'\n",
      " 'The Tuna Fish can weigh up to 260 kg.\\n'\n",
      " 'Squid and Octopus are in the same class.')\n"
     ]
    }
   ],
   "source": [
    "from pprint import pprint\n",
    "sea = open(\"fishes.txt\",\"r\")\n",
    "pprint(sea.readlines())\n",
    "sea.seek(0)\n",
    "pprint(sea.read())\n",
    "sea.close()"
   ]
  },
  {
   "cell_type": "code",
   "execution_count": 74,
   "id": "eaa3a95b",
   "metadata": {},
   "outputs": [
    {
     "name": "stdout",
     "output_type": "stream",
     "text": [
      "'Orca is a kind of Dolphin.\\n'\n",
      "['Blue Whale is the largest animal known on earth.\\n',\n",
      " 'Sharks are the sister group to the Rays (batoids).\\n',\n",
      " 'The Tuna Fish can weigh up to 260 kg.\\n',\n",
      " 'Squid and Octopus are in the same class.']\n"
     ]
    }
   ],
   "source": [
    "from pprint import pprint\n",
    "sea = open(\"fishes.txt\",\"r\")\n",
    "pprint(sea.readline())\n",
    "pprint(sea.readlines())\n",
    "sea.close()"
   ]
  },
  {
   "cell_type": "code",
   "execution_count": 80,
   "id": "1e7787f8",
   "metadata": {},
   "outputs": [
    {
     "name": "stdout",
     "output_type": "stream",
     "text": [
      "is a kind of Dolphin.\n",
      "\n",
      "['Blue Whale is the largest animal known on earth.\\n',\n",
      " 'Sharks are the sister group to the Rays (batoids).\\n',\n",
      " 'The Tuna Fish can weigh up to 260 kg.\\n',\n",
      " 'Squid and Octopus are in the same class.']\n",
      "<class 'list'>\n",
      "<class 'str'>\n",
      "<class 'str'>\n"
     ]
    }
   ],
   "source": [
    "from pprint import pprint\n",
    "sea = open(\"fishes.txt\",\"r\")\n",
    "sea.read(5)\n",
    "print(sea.readline())\n",
    "pprint(sea.readlines())\n",
    "print(type(sea.readlines()))\n",
    "print(type(sea.readline()))\n",
    "print(type(sea.read()))\n",
    "sea.close()"
   ]
  },
  {
   "cell_type": "code",
   "execution_count": 98,
   "id": "5f49406e",
   "metadata": {},
   "outputs": [
    {
     "name": "stdout",
     "output_type": "stream",
     "text": [
      "File is closed\n",
      "There is no such line. Last line is: 5\n"
     ]
    }
   ],
   "source": [
    "def line_returner(file_name, line_number):\n",
    "    try:\n",
    "        f = open(file_name,\"r\",encoding=\"utf8\")\n",
    "        my_file = f.readlines()\n",
    "        return my_file[line_number - 1]\n",
    "    except IndexError:\n",
    "        return \"There is no such line. Last line is: \"+str(len(my_file))\n",
    "    finally:\n",
    "        print(\"File is closed\")\n",
    "        try:\n",
    "            f.close()\n",
    "        except:\n",
    "            pass\n",
    "\n",
    "print(line_returner(\"fishes.txt\",6))"
   ]
  },
  {
   "cell_type": "code",
   "execution_count": 99,
   "id": "9362c565",
   "metadata": {},
   "outputs": [
    {
     "name": "stdout",
     "output_type": "stream",
     "text": [
      "['I want to sing\\n',\n",
      " 'Like the birds sing,\\n',\n",
      " 'Not worrying about\\n',\n",
      " 'Who hears or\\n',\n",
      " 'What they think.']\n"
     ]
    }
   ],
   "source": [
    "f = open(\"rumi.txt\",\"r\",encoding=\"UTF8\")\n",
    "pprint(f.readlines())\n",
    "f.close()"
   ]
  },
  {
   "cell_type": "code",
   "execution_count": null,
   "id": "d9a349dc",
   "metadata": {},
   "outputs": [
    {
     "name": "stdout",
     "output_type": "stream",
     "text": [
      "Orca is a kind of Dolphin.\n",
      "\n",
      "Blue Whale is the largest animal known on earth.\n",
      "\n",
      "Sharks are the sister group to the Rays (batoids).\n",
      "\n",
      "The Tuna Fish can weigh up to 260 kg.\n",
      "\n",
      "Squid and Octopus are in the same clas\n"
     ]
    }
   ],
   "source": [
    "sea = open(\"fishes.txt\",\"r\")\n",
    "for line in sea:\n",
    "    print(line)\n",
    "sea.close()"
   ]
  },
  {
   "cell_type": "code",
   "execution_count": 106,
   "id": "b129d775",
   "metadata": {},
   "outputs": [
    {
     "name": "stdout",
     "output_type": "stream",
     "text": [
      "I want to sing\n",
      "\n",
      "Like the birds sing,\n",
      "\n",
      "Not worrying about\n",
      "\n",
      "Who hears or\n",
      "\n",
      "What they think.\n"
     ]
    }
   ],
   "source": [
    "f = open(\"rumi.txt\",\"r\",encoding=\"UTF8\")\n",
    "for line in f.readlines():\n",
    "    print(line)\n",
    "f.close()"
   ]
  },
  {
   "cell_type": "code",
   "execution_count": 108,
   "id": "95740a3e",
   "metadata": {},
   "outputs": [
    {
     "name": "stdout",
     "output_type": "stream",
     "text": [
      "<class '_io.TextIOWrapper'>\n"
     ]
    },
    {
     "data": {
      "text/plain": [
       "['_CHUNK_SIZE',\n",
       " '__class__',\n",
       " '__del__',\n",
       " '__delattr__',\n",
       " '__dict__',\n",
       " '__dir__',\n",
       " '__doc__',\n",
       " '__enter__',\n",
       " '__eq__',\n",
       " '__exit__',\n",
       " '__format__',\n",
       " '__ge__',\n",
       " '__getattribute__',\n",
       " '__getstate__',\n",
       " '__gt__',\n",
       " '__hash__',\n",
       " '__init__',\n",
       " '__init_subclass__',\n",
       " '__iter__',\n",
       " '__le__',\n",
       " '__lt__',\n",
       " '__module__',\n",
       " '__ne__',\n",
       " '__new__',\n",
       " '__next__',\n",
       " '__reduce__',\n",
       " '__reduce_ex__',\n",
       " '__repr__',\n",
       " '__setattr__',\n",
       " '__sizeof__',\n",
       " '__str__',\n",
       " '__subclasshook__',\n",
       " '_checkClosed',\n",
       " '_checkReadable',\n",
       " '_checkSeekable',\n",
       " '_checkWritable',\n",
       " '_finalizing',\n",
       " 'buffer',\n",
       " 'close',\n",
       " 'closed',\n",
       " 'detach',\n",
       " 'encoding',\n",
       " 'errors',\n",
       " 'fileno',\n",
       " 'flush',\n",
       " 'isatty',\n",
       " 'line_buffering',\n",
       " 'mode',\n",
       " 'name',\n",
       " 'newlines',\n",
       " 'read',\n",
       " 'readable',\n",
       " 'readline',\n",
       " 'readlines',\n",
       " 'reconfigure',\n",
       " 'seek',\n",
       " 'seekable',\n",
       " 'tell',\n",
       " 'truncate',\n",
       " 'writable',\n",
       " 'write',\n",
       " 'write_through',\n",
       " 'writelines']"
      ]
     },
     "execution_count": 108,
     "metadata": {},
     "output_type": "execute_result"
    }
   ],
   "source": [
    "f = open(\"rumi.txt\",\"r\",encoding=\"UTF8\")\n",
    "print(type(f))\n",
    "dir(f)"
   ]
  },
  {
   "cell_type": "code",
   "execution_count": 122,
   "id": "2f57bb83",
   "metadata": {},
   "outputs": [
    {
     "name": "stdout",
     "output_type": "stream",
     "text": [
      "Orca is a kind of Dolphin.\n",
      "Blue Whale is the largest animal known on earth.\n",
      "Sharks are the sister group to the Rays (batoids).\n",
      "The Tuna Fish can weigh up to 260 kg.\n",
      "Squid and Octopus are in the same class.\n"
     ]
    }
   ],
   "source": [
    "with open(\"fishes.txt\",\"r\") as sea:\n",
    "    print(sea.read())\n",
    "    "
   ]
  },
  {
   "cell_type": "code",
   "execution_count": 123,
   "id": "d0b6940e",
   "metadata": {},
   "outputs": [
    {
     "name": "stdout",
     "output_type": "stream",
     "text": [
      "['Orca is a kind of Dolphin.\\n', 'Blue Whale is the largest animal known on earth.\\n', 'Sharks are the sister group to the Rays (batoids).\\n', 'The Tuna Fish can weigh up to 260 kg.\\n', 'Squid and Octopus are in the same class.']\n"
     ]
    }
   ],
   "source": [
    "with open(\"fishes.txt\",\"r\",encoding=\"utf-8\") as f:\n",
    "    content = f.readlines()\n",
    "    print(content)"
   ]
  },
  {
   "cell_type": "code",
   "execution_count": 131,
   "id": "43372134",
   "metadata": {},
   "outputs": [
    {
     "name": "stdout",
     "output_type": "stream",
     "text": [
      "Orca is a kind of Dolphin.\n",
      "Blue Whale is the largest animal known on earth.\n",
      "Sharks are the sister group to the Rays (batoids).\n",
      "The Tuna Fish can weigh up to 260 kg.\n",
      "Squid and Octopus are in the same class.Orca is a kind of Dolphin.\n",
      "Blue Whale is the largest animal known on earth.\n",
      "Sharks are the sister group to the Rays (batoids).\n",
      "The Tuna Fish can weigh up to 260 kg.\n",
      "Squid and Octopus are in the same class.Orca is a kind of Dolphin.\n",
      "\n",
      "Blue Whale is the largest animal known on earth.\n",
      "\n",
      "Sharks are the sister group to the Rays (batoids).\n",
      "\n",
      "The Tuna Fish can weigh up to 260 kg.\n",
      "\n",
      "Squid and Octopus are in the same class.\n",
      "Orca is a kind of Dolphin.\n",
      "Blue Whale is the largest animal known on earth.\n",
      "Sharks are the sister group to the Rays (batoids).\n",
      "The Tuna Fish can weigh up to 260 kg.\n",
      "Squid and Octopus are in the same class.\n",
      "Orca is a kind of Dolphin.\n",
      "Blue Whale is the largest animal known on earth.\n",
      "Sharks are the sister group to the Rays (batoids).\n",
      "The Tuna Fish can weigh up to 260 kg.\n",
      "Squid and Octopus are in the same class.\n"
     ]
    }
   ],
   "source": [
    "sea = open(\"fishes.txt\",\"r\")\n",
    "content = sea.readlines()\n",
    "sea.close()\n",
    "for line in content:\n",
    "    print(line, end=\"\")\n",
    "print(content[0], end=\"\")\n",
    "print(content[1], end=\"\")\n",
    "print(content[2], end=\"\")\n",
    "print(content[3], end=\"\")\n",
    "print(content[4], end=\"\")\n",
    "\n",
    "print(content[0])\n",
    "print(content[1])\n",
    "print(content[2])\n",
    "print(content[3])\n",
    "print(content[4])\n",
    "print(content[0], content[1], content[2], content[3], content[4], sep=\"\")\n",
    "\n",
    "print(*content, sep=\"\")"
   ]
  },
  {
   "cell_type": "code",
   "execution_count": 133,
   "id": "814277de",
   "metadata": {},
   "outputs": [
    {
     "ename": "ZeroDivisionError",
     "evalue": "division by zero",
     "output_type": "error",
     "traceback": [
      "\u001b[31m---------------------------------------------------------------------------\u001b[39m",
      "\u001b[31mZeroDivisionError\u001b[39m                         Traceback (most recent call last)",
      "\u001b[36mCell\u001b[39m\u001b[36m \u001b[39m\u001b[32mIn[133]\u001b[39m\u001b[32m, line 2\u001b[39m\n\u001b[32m      1\u001b[39m \u001b[38;5;28;01mwith\u001b[39;00m \u001b[38;5;28mopen\u001b[39m(\u001b[33m\"\u001b[39m\u001b[33mtest.txt\u001b[39m\u001b[33m\"\u001b[39m,\u001b[33m\"\u001b[39m\u001b[33mw\u001b[39m\u001b[33m\"\u001b[39m,encoding=\u001b[33m\"\u001b[39m\u001b[33mutf-8\u001b[39m\u001b[33m\"\u001b[39m) \u001b[38;5;28;01mas\u001b[39;00m f:\n\u001b[32m----> \u001b[39m\u001b[32m2\u001b[39m     \u001b[32;43m7\u001b[39;49m\u001b[43m/\u001b[49m\u001b[32;43m0\u001b[39;49m\n",
      "\u001b[31mZeroDivisionError\u001b[39m: division by zero"
     ]
    }
   ],
   "source": [
    "with open(\"test.txt\",\"w\",encoding=\"utf-8\") as f:\n",
    "    7/0"
   ]
  },
  {
   "cell_type": "code",
   "execution_count": 161,
   "id": "e74be049",
   "metadata": {},
   "outputs": [
    {
     "name": "stdout",
     "output_type": "stream",
     "text": [
      "mkdir: files: File exists\n"
     ]
    }
   ],
   "source": [
    "!mkdir files\n",
    "for i in range(10):\n",
    "    open(f\"files/file{i}.txt\",\"w\")"
   ]
  },
  {
   "cell_type": "code",
   "execution_count": 153,
   "id": "a6f6a65e",
   "metadata": {},
   "outputs": [
    {
     "ename": "FileNotFoundError",
     "evalue": "[Errno 2] No such file or directory: 'files'",
     "output_type": "error",
     "traceback": [
      "\u001b[31m---------------------------------------------------------------------------\u001b[39m",
      "\u001b[31mFileNotFoundError\u001b[39m                         Traceback (most recent call last)",
      "\u001b[36mCell\u001b[39m\u001b[36m \u001b[39m\u001b[32mIn[153]\u001b[39m\u001b[32m, line 3\u001b[39m\n\u001b[32m      1\u001b[39m \u001b[38;5;28;01mimport\u001b[39;00m\u001b[38;5;250m \u001b[39m\u001b[34;01mos\u001b[39;00m \n\u001b[32m----> \u001b[39m\u001b[32m3\u001b[39m files = \u001b[43mos\u001b[49m\u001b[43m.\u001b[49m\u001b[43mlistdir\u001b[49m\u001b[43m(\u001b[49m\u001b[33;43m\"\u001b[39;49m\u001b[33;43mfiles\u001b[39;49m\u001b[33;43m\"\u001b[39;49m\u001b[43m)\u001b[49m\n",
      "\u001b[31mFileNotFoundError\u001b[39m: [Errno 2] No such file or directory: 'files'"
     ]
    }
   ],
   "source": [
    "import os \n",
    "\n",
    "files = os.listdir(\"files\")"
   ]
  },
  {
   "cell_type": "code",
   "execution_count": 171,
   "id": "2543c22c",
   "metadata": {},
   "outputs": [
    {
     "name": "stdout",
     "output_type": "stream",
     "text": [
      "['file3.txt', 'file1.txt', 'file0.txt', 'file4.txt', 'file5.txt', 'file7.txt', 'file6.txt', 'file8.txt', 'file9.txt']\n",
      "file3.txt is deleted\n",
      "file1.txt is deleted\n",
      "file0.txt is deleted\n",
      "file4.txt is deleted\n",
      "file5.txt is deleted\n",
      "file7.txt is deleted\n",
      "file6.txt is deleted\n",
      "file8.txt is deleted\n",
      "file9.txt is deleted\n"
     ]
    }
   ],
   "source": [
    "import os\n",
    "files = os.listdir(f\"files\")\n",
    "print(files)\n",
    "for file in files:\n",
    "    if os.path.exists(f\"files/{file}\"):\n",
    "        os.remove(f\"files/{file}\")\n",
    "        print(f\"{file} is deleted\")\n",
    "    else:\n",
    "        pass\n"
   ]
  },
  {
   "cell_type": "code",
   "execution_count": 162,
   "id": "c74abdc1",
   "metadata": {},
   "outputs": [],
   "source": [
    "with open(\"dummy_file.txt\",\"w\",encoding=\"utf-8\") as f:\n",
    "    f.write(\"This is a dummy file\")"
   ]
  },
  {
   "cell_type": "code",
   "execution_count": 176,
   "id": "153ce3f3",
   "metadata": {},
   "outputs": [],
   "source": [
    "f = open(\"dummy_file.txt\",\"w\",encoding=\"utf-8\") \n",
    "f.write(\"This is a dummy file\")\n",
    "f.close()"
   ]
  },
  {
   "cell_type": "code",
   "execution_count": 177,
   "id": "e2b27b4f",
   "metadata": {},
   "outputs": [],
   "source": [
    "f = open(\"dummy_file.txt\",\"w+\",encoding=\"utf-8\") \n",
    "f.write(\"This is a dummy file\")\n",
    "f.close()"
   ]
  },
  {
   "cell_type": "code",
   "execution_count": 180,
   "id": "3f72a3a8",
   "metadata": {},
   "outputs": [
    {
     "name": "stdout",
     "output_type": "stream",
     "text": [
      "This is my first sentenceThis is my second sentenceThis is my third sentence\n",
      "This is my fourth sentenceThis is my last sentence\n"
     ]
    }
   ],
   "source": [
    "with open(\"dummy_file.txt\",\"w\",encoding=\"utf-8\") as f:\n",
    "    f.write(\"This is my first sentence\")\n",
    "    f.write(\"This is my second sentence\")\n",
    "    f.write(\"This is my third sentence\\n\")\n",
    "    f.write(\"This is my fourth sentence\")\n",
    "    f.write(\"This is my last sentence\")\n",
    "\n",
    "with open(\"dummy_file.txt\",\"r\",encoding=\"utf-8\") as f:\n",
    "    print(f.read())"
   ]
  },
  {
   "cell_type": "code",
   "execution_count": 181,
   "id": "b6c3f1d3",
   "metadata": {},
   "outputs": [
    {
     "name": "stdout",
     "output_type": "stream",
     "text": [
      "banana\n",
      "mango\n",
      "pear\n",
      "apple\n",
      "kiwi\n",
      "grape\n",
      "\n"
     ]
    }
   ],
   "source": [
    "fruits = [\"banana\", \"mango\", \"pear\", \"apple\", \"kiwi\", \"grape\"]\n",
    "\n",
    "with open(\"fruits.txt\",\"w\",encoding=\"utf-8\") as f:\n",
    "    for fruit in fruits:\n",
    "        f.write(fruit + \"\\n\")\n",
    "        \n",
    "with open(\"fruits.txt\",\"r\",encoding=\"utf-8\") as f:\n",
    "    print(f.read())"
   ]
  },
  {
   "cell_type": "code",
   "execution_count": 182,
   "id": "f92a5761",
   "metadata": {},
   "outputs": [
    {
     "data": {
      "text/plain": [
       "<_io.TextIOWrapper name='fruits.txt' mode='r' encoding='utf-8'>"
      ]
     },
     "execution_count": 182,
     "metadata": {},
     "output_type": "execute_result"
    }
   ],
   "source": [
    "f"
   ]
  },
  {
   "cell_type": "code",
   "execution_count": 186,
   "id": "4af3696c",
   "metadata": {},
   "outputs": [
    {
     "name": "stdout",
     "output_type": "stream",
     "text": [
      "rose\n",
      "tulip\n",
      "daisy\n",
      "lily\n",
      "sunflower\n",
      "\n"
     ]
    }
   ],
   "source": [
    "flowers = [\"rose\", \"tulip\", \"daisy\", \"lily\", \"sunflower\"]\n",
    "\n",
    "with open(\"flowers.txt\",\"w\",encoding=\"utf-8\") as f:\n",
    "    for flower in flowers:\n",
    "        f.write(flower + \"\\n\")\n",
    "        \n",
    "with open(\"flowers.txt\",\"r\",encoding=\"utf-8\") as f:\n",
    "    print(f.read())"
   ]
  },
  {
   "cell_type": "code",
   "execution_count": 188,
   "id": "64a21f21",
   "metadata": {},
   "outputs": [
    {
     "name": "stdout",
     "output_type": "stream",
     "text": [
      "['rosetulipdaisylilysunflower']\n"
     ]
    }
   ],
   "source": [
    "flowers = [\"rose\", \"tulip\", \"daisy\", \"lily\", \"sunflower\"]\n",
    "\n",
    "with open(\"flowers.txt\",\"w\",encoding=\"utf-8\") as f:\n",
    "    f.writelines(flowers)\n",
    "        \n",
    "with open(\"flowers.txt\",\"r\",encoding=\"utf-8\") as f:\n",
    "    print(f.readlines())"
   ]
  },
  {
   "cell_type": "code",
   "execution_count": null,
   "id": "722c4c67",
   "metadata": {},
   "outputs": [
    {
     "name": "stdout",
     "output_type": "stream",
     "text": [
      "['bananamangopearapplekiwigrape']\n"
     ]
    }
   ],
   "source": [
    "fruits = [\"banana\\n\", \"mango\\n\", \"pear\\n\", \"apple\\n\", \"kiwi\\n\", \"grape\\n\"]\n",
    "\n",
    "with open(\"fruits.txt\",\"w\",encoding=\"utf-8\") as f:\n",
    "    f.writelines(fruits)\n",
    "        \n",
    "with open(\"fruits.txt\",\"r\",encoding=\"utf-8\") as f:\n",
    "    print(f.readlines())"
   ]
  },
  {
   "cell_type": "code",
   "execution_count": 195,
   "id": "51a46c80",
   "metadata": {},
   "outputs": [
    {
     "data": {
      "text/plain": [
       "['banana\\n', 'mango\\n', 'pear\\n', 'apple\\n', 'kiwi\\n', 'grape\\n']"
      ]
     },
     "execution_count": 195,
     "metadata": {},
     "output_type": "execute_result"
    }
   ],
   "source": [
    "fruits = [\"banana\", \"mango\", \"pear\", \"apple\", \"kiwi\", \"grape\"]\n",
    "fruits = [i + \"\\n\" for i in fruits]\n",
    "fruits"
   ]
  },
  {
   "cell_type": "code",
   "execution_count": 201,
   "id": "9a970faf",
   "metadata": {},
   "outputs": [
    {
     "data": {
      "text/plain": [
       "['banana', 'mango', 'pear', 'apple', 'kiwi', 'grape']"
      ]
     },
     "execution_count": 201,
     "metadata": {},
     "output_type": "execute_result"
    }
   ],
   "source": [
    "fruits = [\"banana\", \"mango\", \"pear\", \"apple\", \"kiwi\", \"grape\"]\n",
    "fruits = [i + \"\\n\" for i in fruits]\n",
    "fruits = [i[:-1] for i in fruits]\n",
    "fruits"
   ]
  },
  {
   "cell_type": "code",
   "execution_count": 199,
   "id": "8df96a2f",
   "metadata": {},
   "outputs": [
    {
     "name": "stdout",
     "output_type": "stream",
     "text": [
      "rose\n",
      "tulip\n",
      "daisy\n",
      "lily\n",
      "sunflower\n",
      "\n"
     ]
    }
   ],
   "source": [
    "flowers = [\"rose\", \"tulip\", \"daisy\", \"lily\", \"sunflower\"]\n",
    "flowers = [i + \"\\n\" for i in flowers]\n",
    "with open(\"flowers.txt\",\"w\",encoding=\"utf-8\") as f:\n",
    "    f.writelines(flowers)\n",
    "        \n",
    "with open(\"flowers.txt\",\"r\",encoding=\"utf-8\") as f:\n",
    "    print(*f.readlines(),sep=\"\")"
   ]
  },
  {
   "cell_type": "code",
   "execution_count": null,
   "id": "dcca50b3",
   "metadata": {},
   "outputs": [],
   "source": []
  }
 ],
 "metadata": {
  "kernelspec": {
   "display_name": "Python 3",
   "language": "python",
   "name": "python3"
  },
  "language_info": {
   "codemirror_mode": {
    "name": "ipython",
    "version": 3
   },
   "file_extension": ".py",
   "mimetype": "text/x-python",
   "name": "python",
   "nbconvert_exporter": "python",
   "pygments_lexer": "ipython3",
   "version": "3.13.2"
  }
 },
 "nbformat": 4,
 "nbformat_minor": 5
}
