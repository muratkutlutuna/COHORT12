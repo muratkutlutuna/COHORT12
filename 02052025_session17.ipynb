{
 "cells": [
  {
   "cell_type": "code",
   "execution_count": 2,
   "id": "954a6c32",
   "metadata": {},
   "outputs": [
    {
     "name": "stdout",
     "output_type": "stream",
     "text": [
      "<filter object at 0x107b21a50>\n",
      "====================\n",
      "kiwi\n",
      "me\n",
      "swim\n",
      "====================\n",
      "kiwi\n",
      "me\n",
      "swim\n",
      "====================\n",
      "kiwi\n",
      "me\n",
      "swim\n"
     ]
    }
   ],
   "source": [
    "words = [\"apple\", \"banana\", \"orange\", \"watermelon\", \"kiwi\", \"me\", \"swim\"]\n",
    "print(filter(lambda x: len(x) < 5, words))\n",
    "print(20*\"=\")\n",
    "for i in filter(lambda x: len(x) < 5, words):\n",
    "    print(i)\n",
    "print(20*\"=\")\n",
    "print(* list(filter(lambda x: len(x) < 5, words)), sep=\"\\n\")\n",
    "print(20*\"=\")\n",
    "filtered_words = filter(lambda x: len(x) < 5, words)\n",
    "for i in filtered_words:\n",
    "    print(i)\n"
   ]
  },
  {
   "cell_type": "code",
   "execution_count": 3,
   "id": "a12f3ea3",
   "metadata": {},
   "outputs": [
    {
     "name": "stdout",
     "output_type": "stream",
     "text": [
      "4\n",
      "8\n",
      "16\n"
     ]
    }
   ],
   "source": [
    "def modular_function(n):\n",
    "    return lambda x: x ** n\n",
    "\n",
    "power_of_2 = modular_function(2) # lambda x: x ** 2\n",
    "power_of_3 = modular_function(3) # lambda x: x ** 3\n",
    "power_of_4 = modular_function(4) # lambda x: x ** 4\n",
    "# print(power_of_2)\n",
    "print(power_of_2(2))\n",
    "print(power_of_3(2))\n",
    "print(power_of_4(2))"
   ]
  },
  {
   "cell_type": "code",
   "execution_count": 4,
   "id": "e52ef993",
   "metadata": {},
   "outputs": [
    {
     "name": "stdout",
     "output_type": "stream",
     "text": [
      "alex alex \n",
      "lara lara lara \n",
      "linda linda linda linda \n"
     ]
    }
   ],
   "source": [
    "def repeater(n):\n",
    "    return lambda x: x * n\n",
    "\n",
    "repeat_2_times = repeater(2) # lambda x: x * 2 , repeates 2 times\n",
    "repeat_3_times = repeater(3) # lambda x: x * 3 , repeates 3 times\n",
    "repeat_4_times = repeater(4) # lambda x: x * 4 , repeates 4 times\n",
    "print(repeat_2_times(\"alex \"))\n",
    "print(repeat_3_times(\"lara \"))\n",
    "print(repeat_4_times(\"linda \"))"
   ]
  },
  {
   "cell_type": "code",
   "execution_count": 5,
   "id": "71336c74",
   "metadata": {},
   "outputs": [
    {
     "data": {
      "text/plain": [
       "9"
      ]
     },
     "execution_count": 5,
     "metadata": {},
     "output_type": "execute_result"
    }
   ],
   "source": [
    "(lambda x: x * 3)(3)"
   ]
  },
  {
   "cell_type": "code",
   "execution_count": 6,
   "id": "77db6c0a",
   "metadata": {},
   "outputs": [
    {
     "name": "stdout",
     "output_type": "stream",
     "text": [
      "hello :)\n",
      "hello :(\n",
      "hello :|\n"
     ]
    }
   ],
   "source": [
    "def functioner(emoji):\n",
    "    return lambda message: print(message, emoji)\n",
    "myPrint_smile = functioner(\":)\")\n",
    "myPrint_sad = functioner(\":(\")\n",
    "myPrint_natural = functioner(\":|\")\n",
    "\n",
    "myPrint_smile(\"hello\")\n",
    "myPrint_sad(\"hello\")\n",
    "myPrint_natural(\"hello\")"
   ]
  },
  {
   "cell_type": "code",
   "execution_count": 7,
   "id": "95a4849b",
   "metadata": {},
   "outputs": [],
   "source": [
    "def test():\n",
    "    return \"variable\"\n"
   ]
  },
  {
   "cell_type": "code",
   "execution_count": 8,
   "id": "21c18992",
   "metadata": {},
   "outputs": [
    {
     "name": "stdout",
     "output_type": "stream",
     "text": [
      "Help on module my_module:\n",
      "\n",
      "NAME\n",
      "    my_module\n",
      "\n",
      "DESCRIPTION\n",
      "    This is my first module.\n",
      "    You can write a docstring for any module like that\n",
      "\n",
      "FUNCTIONS\n",
      "    log_user(num)\n",
      "\n",
      "    multiply(a, b)\n",
      "\n",
      "    pow()\n",
      "\n",
      "    sum(a, b)\n",
      "        This function returns sum of two numbers\n",
      "\n",
      "    test()\n",
      "\n",
      "DATA\n",
      "    email = 'andrew@clarusway.com'\n",
      "    name = 'andrew'\n",
      "    password = '1234'\n",
      "\n",
      "FILE\n",
      "    /Users/muratkutlutuna/Desktop/COHORT12/my_module.py\n",
      "\n",
      "\n"
     ]
    }
   ],
   "source": [
    "import my_module as m\n",
    "help(m)"
   ]
  },
  {
   "cell_type": "code",
   "execution_count": 9,
   "id": "d2fbb878",
   "metadata": {},
   "outputs": [
    {
     "name": "stdout",
     "output_type": "stream",
     "text": [
      "Help on module my_module:\n",
      "\n",
      "NAME\n",
      "    my_module\n",
      "\n",
      "DESCRIPTION\n",
      "    This is my first module.\n",
      "    You can write a docstring for any module like that\n",
      "\n",
      "FUNCTIONS\n",
      "    log_user(num)\n",
      "\n",
      "    multiply(a, b)\n",
      "\n",
      "    pow()\n",
      "\n",
      "    sum(a, b)\n",
      "        This function returns sum of two numbers\n",
      "\n",
      "    test()\n",
      "\n",
      "DATA\n",
      "    email = 'andrew@clarusway.com'\n",
      "    name = 'andrew'\n",
      "    password = '1234'\n",
      "\n",
      "FILE\n",
      "    /Users/muratkutlutuna/Desktop/COHORT12/my_module.py\n",
      "\n",
      "\n"
     ]
    }
   ],
   "source": [
    "import my_module as my\n",
    "help(my)"
   ]
  },
  {
   "cell_type": "code",
   "execution_count": 10,
   "id": "35ef71c5",
   "metadata": {},
   "outputs": [
    {
     "name": "stdout",
     "output_type": "stream",
     "text": [
      "this is power function under my module\n"
     ]
    }
   ],
   "source": [
    "my.pow()"
   ]
  },
  {
   "cell_type": "code",
   "execution_count": 11,
   "id": "a8e5a03b",
   "metadata": {},
   "outputs": [],
   "source": [
    "import math"
   ]
  },
  {
   "cell_type": "code",
   "execution_count": 12,
   "id": "c694c9b0",
   "metadata": {},
   "outputs": [
    {
     "data": {
      "text/plain": [
       "243.0"
      ]
     },
     "execution_count": 12,
     "metadata": {},
     "output_type": "execute_result"
    }
   ],
   "source": [
    "math.pow(3,5)"
   ]
  },
  {
   "cell_type": "code",
   "execution_count": 13,
   "id": "fe5bc36d",
   "metadata": {},
   "outputs": [
    {
     "data": {
      "text/plain": [
       "'1234'"
      ]
     },
     "execution_count": 13,
     "metadata": {},
     "output_type": "execute_result"
    }
   ],
   "source": [
    "my.password"
   ]
  },
  {
   "cell_type": "code",
   "execution_count": 1,
   "id": "9150c135",
   "metadata": {},
   "outputs": [
    {
     "name": "stdout",
     "output_type": "stream",
     "text": [
      "value of __name__ variable is my_module\n",
      "This module is being imported\n",
      "my_module\n",
      "__main__\n"
     ]
    }
   ],
   "source": [
    "import my_module\n",
    "print(my_module.__name__)\n",
    "print(__name__)"
   ]
  },
  {
   "cell_type": "code",
   "execution_count": 3,
   "id": "03342870",
   "metadata": {},
   "outputs": [
    {
     "data": {
      "text/plain": [
       "8"
      ]
     },
     "execution_count": 3,
     "metadata": {},
     "output_type": "execute_result"
    }
   ],
   "source": [
    "from my_module import sum as s\n",
    "s(3,5)"
   ]
  },
  {
   "cell_type": "code",
   "execution_count": 4,
   "id": "fd9edad1",
   "metadata": {},
   "outputs": [
    {
     "name": "stdout",
     "output_type": "stream",
     "text": [
      "andrew\n"
     ]
    }
   ],
   "source": [
    "from my_module import name\n",
    "print(name)\n"
   ]
  },
  {
   "cell_type": "code",
   "execution_count": 5,
   "id": "0ac575bf",
   "metadata": {},
   "outputs": [
    {
     "name": "stdout",
     "output_type": "stream",
     "text": [
      "andrew@clarusway.com\n"
     ]
    }
   ],
   "source": [
    "print(my_module.email)"
   ]
  },
  {
   "cell_type": "code",
   "execution_count": 7,
   "id": "25f6b64f",
   "metadata": {},
   "outputs": [],
   "source": [
    "from my_module import *"
   ]
  },
  {
   "cell_type": "code",
   "execution_count": 8,
   "id": "f2356f93",
   "metadata": {},
   "outputs": [
    {
     "name": "stdout",
     "output_type": "stream",
     "text": [
      "this is power function under my module\n"
     ]
    }
   ],
   "source": [
    "pow()"
   ]
  },
  {
   "cell_type": "code",
   "execution_count": 9,
   "id": "5b33b536",
   "metadata": {},
   "outputs": [
    {
     "data": {
      "text/plain": [
       "1746174985.022437"
      ]
     },
     "execution_count": 9,
     "metadata": {},
     "output_type": "execute_result"
    }
   ],
   "source": [
    "import math; import string; import time\n",
    "time.time()"
   ]
  },
  {
   "cell_type": "code",
   "execution_count": 10,
   "id": "f2b63e6d",
   "metadata": {},
   "outputs": [
    {
     "name": "stdout",
     "output_type": "stream",
     "text": [
      "For loop time: 3.4922 seconds\n",
      "List comprehension time: 1.6585 seconds\n"
     ]
    }
   ],
   "source": [
    "import time\n",
    "\n",
    "# Parameters\n",
    "N = 100000000  # 10 million\n",
    "\n",
    "# Regular for loop\n",
    "start = time.time()\n",
    "squares_loop = []\n",
    "for i in range(N):\n",
    "    squares_loop.append(i * i)\n",
    "end = time.time()\n",
    "print(f\"For loop time: {end - start:.4f} seconds\")\n",
    "\n",
    "# List comprehension\n",
    "start = time.time()\n",
    "squares_comp = [i * i for i in range(N)]\n",
    "end = time.time()\n",
    "print(f\"List comprehension time: {end - start:.4f} seconds\")"
   ]
  },
  {
   "cell_type": "code",
   "execution_count": 35,
   "id": "1ce1b4fe",
   "metadata": {},
   "outputs": [
    {
     "name": "stdout",
     "output_type": "stream",
     "text": [
      "O1h'Vvuq(~H52\\}PIc83\n"
     ]
    }
   ],
   "source": [
    "import random\n",
    "import string\n",
    "def pasword_generator(length=15,upper=True,lower=True,digits=True,punctuation=False):\n",
    "    type_char = upper + lower + digits + punctuation\n",
    "    remeinder = length % type_char\n",
    "    floor_division = length // type_char\n",
    "    upper_length = lower_length = digits_length = punctuation_length = 0\n",
    "    uppercase_letters = []\n",
    "    lowercase_letters = []\n",
    "    digits_ = []\n",
    "    punctuation_ = []\n",
    "    new_chrs = []\n",
    "    if upper:\n",
    "        # upper_length = floor_division\n",
    "        uppercase_letters = random.sample(string.ascii_uppercase, floor_division)\n",
    "    if lower:\n",
    "        lowercase_letters = random.sample(string.ascii_lowercase, floor_division)\n",
    "    if digits:\n",
    "        digits_ = random.sample(string.digits, floor_division)\n",
    "    if punctuation:\n",
    "        punctuation_ = random.sample(string.punctuation, floor_division)\n",
    "    total_length = upper_length + lower_length + digits_length + punctuation_length\n",
    "    # print(total_length, remeinder)\n",
    "    all_chr = uppercase_letters + lowercase_letters + digits_ + punctuation_\n",
    "    if remeinder and punctuation:\n",
    "        new_chrs = random.sample(string.punctuation, remeinder)\n",
    "    elif remeinder and digits:\n",
    "        new_chrs = random.sample(string.digits, remeinder)\n",
    "    elif remeinder and lower:\n",
    "        new_chrs = random.sample(string.ascii_lowercase, remeinder)\n",
    "    elif remeinder and upper:\n",
    "        new_chrs = random.sample(string.ascii_uppercase, remeinder)\n",
    "    all_chr += new_chrs\n",
    "    random.shuffle(all_chr)\n",
    "    all_chr = \"\".join(all_chr)\n",
    "    return all_chr\n",
    "    \n",
    "print(pasword_generator(20, upper=True, lower=True, digits=True, punctuation=True))\n",
    "\n",
    "\n"
   ]
  },
  {
   "cell_type": "code",
   "execution_count": null,
   "id": "607987f9",
   "metadata": {},
   "outputs": [],
   "source": []
  }
 ],
 "metadata": {
  "kernelspec": {
   "display_name": "Python 3",
   "language": "python",
   "name": "python3"
  },
  "language_info": {
   "codemirror_mode": {
    "name": "ipython",
    "version": 3
   },
   "file_extension": ".py",
   "mimetype": "text/x-python",
   "name": "python",
   "nbconvert_exporter": "python",
   "pygments_lexer": "ipython3",
   "version": "3.13.2"
  }
 },
 "nbformat": 4,
 "nbformat_minor": 5
}
