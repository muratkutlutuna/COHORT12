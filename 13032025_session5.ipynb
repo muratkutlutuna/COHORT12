{
 "cells": [
  {
   "cell_type": "code",
   "execution_count": null,
   "metadata": {},
   "outputs": [
    {
     "data": {
      "text/plain": [
       "['__add__', '__class__', '__contains__', '__delattr__', '__dir__', '__doc__', '__eq__', '__format__', '__ge__', '__getattribute__', '__getitem__', '__getnewargs__', '__getstate__', '__gt__', '__hash__', '__init__', '__init_subclass__', '__iter__', '__le__', '__len__', '__lt__', '__mod__', '__mul__', '__ne__', '__new__', '__reduce__', '__reduce_ex__', '__repr__', '__rmod__', '__rmul__', '__setattr__', '__sizeof__', '__str__', '__subclasshook__', 'capitalize', 'casefold', 'center', 'count', 'encode', 'endswith', 'expandtabs', 'find', 'format', 'format_map', 'index', 'isalnum', 'isalpha', 'isascii', 'isdecimal', 'isdigit', 'isidentifier', 'islower', 'isnumeric', 'isprintable', 'isspace', 'istitle', 'isupper', 'join', 'ljust', 'lower', 'lstrip', 'maketrans', 'partition', 'removeprefix', 'removesuffix', 'replace', 'rfind', 'rindex', 'rjust', 'rpartition', 'rsplit', 'rstrip', 'split', 'splitlines', 'startswith', 'strip', 'swapcase', 'title', 'translate', 'upper', 'zfill']\n"
      ]
     },
     "metadata": {},
     "output_type": "display_data"
    }
   ],
   "source": [
    "dir(str)"
   ]
  },
  {
   "cell_type": "code",
   "execution_count": null,
   "metadata": {},
   "outputs": [
    {
     "data": {
      "text/plain": [
       "['__add__',\n",
       "'__class__',\n",
       "'__class_getitem__',\n",
       "'__contains__',\n",
       "'__delattr__',\n",
       "'__delitem__',\n",
       "'__dir__',\n",
       "'__doc__',\n",
       "'__eq__',\n",
       "'__format__',\n",
       "'__ge__',\n",
       "'__getattribute__',\n",
       "'__getitem__',\n",
       "'__getstate__',\n",
       "'__gt__',\n",
       "'__hash__',\n",
       "'__iadd__',\n",
       "'__imul__',\n",
       "'__init__',\n",
       "'__init_subclass__',\n",
       "'__iter__',\n",
       "'__le__',\n",
       "'__len__',\n",
       "'__lt__',\n",
       "'__mul__',\n",
       "'__ne__',\n",
       "'__new__',\n",
       "'__reduce__',\n",
       "'__reduce_ex__',\n",
       "'__repr__',\n",
       "'__reversed__',\n",
       "'__rmul__',\n",
       "'__setattr__',\n",
       "'__setitem__',\n",
       "'__sizeof__',\n",
       "'__str__',\n",
       "'__subclasshook__',\n",
       "'append',\n",
       "'clear',\n",
       "'copy',\n",
       "'count',\n",
       "'extend',\n",
       "'index',\n",
       "'insert',\n",
       "'pop',\n",
       "'remove',\n",
       "'reverse',\n",
       "'sort']\n"
      ]
     },
     "metadata": {},
     "output_type": "display_data"
    }
   ],
   "source": [
    "str(dir(list)).replace(\", \",\",\\n\")"
   ]
  },
  {
   "cell_type": "code",
   "execution_count": null,
   "metadata": {},
   "outputs": [],
   "source": [
    "my_list = [\"a\",\"b\"]\n",
    "my_list = my_list.append(\"c\") # append method adds \"c\" to my_list but append method returns None value!!\n",
    "my_list # So my_list returns None value"
   ]
  },
  {
   "cell_type": "code",
   "execution_count": null,
   "metadata": {},
   "outputs": [
    {
     "data": {
      "text/plain": [
       "Hello world\n"
      ]
     },
     "metadata": {},
     "output_type": "display_data"
    }
   ],
   "source": [
    "print = print(\"Hello world\") # python code reads first right part of the assignment"
   ]
  },
  {
   "cell_type": "code",
   "execution_count": 1,
   "metadata": {},
   "outputs": [
    {
     "name": "stdout",
     "output_type": "stream",
     "text": [
      "TEST\n",
      "test\n"
     ]
    }
   ],
   "source": [
    "a = \"test\"\n",
    "b = a\n",
    "a = a.upper()\n",
    "print(a)\n",
    "print(b)"
   ]
  },
  {
   "cell_type": "code",
   "execution_count": 12,
   "metadata": {},
   "outputs": [],
   "source": [
    "list_a = [1,2]\n",
    "list_b = list_a[:]\n",
    "# list_a.append(3)"
   ]
  },
  {
   "cell_type": "code",
   "execution_count": 17,
   "metadata": {},
   "outputs": [
    {
     "name": "stdout",
     "output_type": "stream",
     "text": [
      "isd of list a :  4413498752\n",
      "isd of list b :  4413441216\n"
     ]
    }
   ],
   "source": [
    "print(\"isd of list a : \",id(list_a))\n",
    "print(\"isd of list b : \",id(list_b))"
   ]
  },
  {
   "cell_type": "code",
   "execution_count": 20,
   "metadata": {},
   "outputs": [
    {
     "data": {
      "text/plain": [
       "'fa gsdfg sdgdf sfg sdfs s'"
      ]
     },
     "execution_count": 20,
     "metadata": {},
     "output_type": "execute_result"
    }
   ],
   "source": [
    "sentence = \"sdfa gsdfg SDGDF sfg sdfS Sgffg\"\n",
    "sentence.upper().swapcase().title()[2:-4].lower()"
   ]
  },
  {
   "cell_type": "code",
   "execution_count": 21,
   "metadata": {},
   "outputs": [
    {
     "name": "stdout",
     "output_type": "stream",
     "text": [
      "[1, 2, 3]\n",
      "None\n"
     ]
    },
    {
     "ename": "AttributeError",
     "evalue": "'NoneType' object has no attribute 'append'",
     "output_type": "error",
     "traceback": [
      "\u001b[0;31m---------------------------------------------------------------------------\u001b[0m",
      "\u001b[0;31mAttributeError\u001b[0m                            Traceback (most recent call last)",
      "Cell \u001b[0;32mIn[21], line 5\u001b[0m\n\u001b[1;32m      3\u001b[0m \u001b[38;5;28mprint\u001b[39m(my_list)\n\u001b[1;32m      4\u001b[0m \u001b[38;5;28mprint\u001b[39m(my_list\u001b[38;5;241m.\u001b[39mappend(\u001b[38;5;241m76\u001b[39m))\n\u001b[0;32m----> 5\u001b[0m \u001b[38;5;28mprint\u001b[39m(\u001b[43mmy_list\u001b[49m\u001b[38;5;241;43m.\u001b[39;49m\u001b[43mappend\u001b[49m\u001b[43m(\u001b[49m\u001b[38;5;241;43m22\u001b[39;49m\u001b[43m)\u001b[49m\u001b[38;5;241;43m.\u001b[39;49m\u001b[43mappend\u001b[49m(\u001b[38;5;241m33\u001b[39m))\n",
      "\u001b[0;31mAttributeError\u001b[0m: 'NoneType' object has no attribute 'append'"
     ]
    }
   ],
   "source": [
    "my_list = [1,2]\n",
    "my_list.append(3)\n",
    "print(my_list)\n",
    "print(my_list.append(76))\n",
    "print(my_list.append(22).append(33))"
   ]
  },
  {
   "cell_type": "code",
   "execution_count": 22,
   "metadata": {},
   "outputs": [
    {
     "name": "stdout",
     "output_type": "stream",
     "text": [
      "The Better The Family, The Better The Society\n"
     ]
    }
   ],
   "source": [
    "text = 'the better the family, the better the society'\n",
    "text = text.title()\n",
    "print(text)"
   ]
  },
  {
   "cell_type": "code",
   "execution_count": 23,
   "metadata": {},
   "outputs": [
    {
     "name": "stdout",
     "output_type": "stream",
     "text": [
      "Help on method_descriptor:\n",
      "\n",
      "ljust(self, width, fillchar=' ', /)\n",
      "    Return a left-justified string of length width.\n",
      "    \n",
      "    Padding is done using the specified fill character (default is a space).\n",
      "\n"
     ]
    }
   ],
   "source": [
    "help(str.ljust)"
   ]
  },
  {
   "cell_type": "code",
   "execution_count": null,
   "metadata": {},
   "outputs": [],
   "source": []
  }
 ],
 "metadata": {
  "kernelspec": {
   "display_name": "Python 3",
   "language": "python",
   "name": "python3"
  },
  "language_info": {
   "codemirror_mode": {
    "name": "ipython",
    "version": 3
   },
   "file_extension": ".py",
   "mimetype": "text/x-python",
   "name": "python",
   "nbconvert_exporter": "python",
   "pygments_lexer": "ipython3",
   "version": "3.9.6"
  }
 },
 "nbformat": 4,
 "nbformat_minor": 2
}
