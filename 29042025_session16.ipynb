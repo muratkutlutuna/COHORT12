{
 "cells": [
  {
   "cell_type": "code",
   "execution_count": 1,
   "id": "5db8fe52",
   "metadata": {},
   "outputs": [],
   "source": [
    "def test():\n",
    "    a = 5\n",
    "    return a\n",
    "test()\n",
    "b = test()\n"
   ]
  },
  {
   "cell_type": "code",
   "execution_count": 2,
   "id": "5deb329c",
   "metadata": {},
   "outputs": [
    {
     "ename": "NameError",
     "evalue": "name 'a' is not defined",
     "output_type": "error",
     "traceback": [
      "\u001b[0;31m---------------------------------------------------------------------------\u001b[0m",
      "\u001b[0;31mNameError\u001b[0m                                 Traceback (most recent call last)",
      "Cell \u001b[0;32mIn[2], line 1\u001b[0m\n\u001b[0;32m----> 1\u001b[0m \u001b[43ma\u001b[49m\n",
      "\u001b[0;31mNameError\u001b[0m: name 'a' is not defined"
     ]
    }
   ],
   "source": [
    "a"
   ]
  },
  {
   "cell_type": "code",
   "execution_count": 3,
   "id": "dc67ff95",
   "metadata": {},
   "outputs": [
    {
     "data": {
      "text/plain": [
       "5"
      ]
     },
     "execution_count": 3,
     "metadata": {},
     "output_type": "execute_result"
    }
   ],
   "source": [
    "b"
   ]
  },
  {
   "cell_type": "code",
   "execution_count": 6,
   "id": "f42a098b",
   "metadata": {},
   "outputs": [
    {
     "name": "stdout",
     "output_type": "stream",
     "text": [
      "global\n",
      "global\n",
      "globals are valid in evreywhere\n",
      "local\n",
      "globals are valid in evreywhere\n"
     ]
    }
   ],
   "source": [
    "text = \"global\"\n",
    "\n",
    "def glob():\n",
    "    print(text)\n",
    "\n",
    "glob()\n",
    "print(text)\n",
    "\n",
    "text = \"globals are valid in evreywhere\"\n",
    "\n",
    "glob()\n",
    "# print(text)\n",
    "\n",
    "def loc():\n",
    "    local_text = \"local\"\n",
    "    print(local_text)\n",
    "\n",
    "loc()\n",
    "print(text)\n",
    "# print(local_text)"
   ]
  },
  {
   "cell_type": "code",
   "execution_count": 7,
   "id": "34780379",
   "metadata": {},
   "outputs": [
    {
     "ename": "NameError",
     "evalue": "name 'y' is not defined",
     "output_type": "error",
     "traceback": [
      "\u001b[0;31m---------------------------------------------------------------------------\u001b[0m",
      "\u001b[0;31mNameError\u001b[0m                                 Traceback (most recent call last)",
      "Cell \u001b[0;32mIn[7], line 6\u001b[0m\n\u001b[1;32m      2\u001b[0m     y \u001b[38;5;241m=\u001b[39m \u001b[38;5;124m'\u001b[39m\u001b[38;5;124mlocal\u001b[39m\u001b[38;5;124m'\u001b[39m\n\u001b[1;32m      4\u001b[0m foo()\n\u001b[0;32m----> 6\u001b[0m \u001b[38;5;28mprint\u001b[39m(\u001b[43my\u001b[49m)\n",
      "\u001b[0;31mNameError\u001b[0m: name 'y' is not defined"
     ]
    }
   ],
   "source": [
    "def foo():\n",
    "    y = 'local'\n",
    "\n",
    "foo()\n",
    "\n",
    "print(y)"
   ]
  },
  {
   "cell_type": "code",
   "execution_count": 8,
   "id": "b8a162a3",
   "metadata": {},
   "outputs": [
    {
     "name": "stdout",
     "output_type": "stream",
     "text": [
      "test\n"
     ]
    }
   ],
   "source": [
    "def test():\n",
    "    pow = \"test\"\n",
    "    print(pow)\n",
    "test()"
   ]
  },
  {
   "cell_type": "code",
   "execution_count": null,
   "id": "5bc97291",
   "metadata": {},
   "outputs": [
    {
     "name": "stdout",
     "output_type": "stream",
     "text": [
      "<built-in function pow>\n"
     ]
    }
   ],
   "source": [
    "def test2():\n",
    "    pow = \"outer\"\n",
    "    def inner():\n",
    "        pow = \"inner\"\n",
    "        print(pow)\n",
    "    print(pow)\n",
    "test2()"
   ]
  },
  {
   "cell_type": "code",
   "execution_count": 10,
   "id": "81a1edf2",
   "metadata": {},
   "outputs": [],
   "source": [
    "pow = \"a global variable\""
   ]
  },
  {
   "cell_type": "code",
   "execution_count": 12,
   "id": "260a6bbf",
   "metadata": {},
   "outputs": [
    {
     "name": "stdout",
     "output_type": "stream",
     "text": [
      "a local variable\n",
      "a global variable\n"
     ]
    }
   ],
   "source": [
    "def test2():\n",
    "    pow = \"a local variable\"\n",
    "    print(pow)\n",
    "test2()\n",
    "print(pow)"
   ]
  },
  {
   "cell_type": "code",
   "execution_count": null,
   "id": "89a443f2",
   "metadata": {},
   "outputs": [
    {
     "name": "stdout",
     "output_type": "stream",
     "text": [
      "I am inside innermost func\n",
      "a global variable\n"
     ]
    }
   ],
   "source": [
    "def outer_func():\n",
    "    pow = \"I am inside outer func\"\n",
    "    def inner_func():\n",
    "        # pow = \"I am inside inner func\"\n",
    "        def innermost_func():\n",
    "            pow = \"I am inside innermost func\"\n",
    "            print(pow)\n",
    "        innermost_func()\n",
    "    inner_func()\n",
    "outer_func()\n",
    "print(pow)\n",
    "\"string\".lower()\n",
    "# inner_func() NameError: name 'inner_func' is not defined\n"
   ]
  },
  {
   "cell_type": "code",
   "execution_count": 23,
   "id": "c2bcce28",
   "metadata": {},
   "outputs": [
    {
     "name": "stdout",
     "output_type": "stream",
     "text": [
      "1\n",
      "2\n",
      "3\n",
      "4\n"
     ]
    }
   ],
   "source": [
    "count = 1\n",
    "\n",
    "def counter():\n",
    "    global count\n",
    "    print(count)\n",
    "    count += 1\n",
    "counter()\n",
    "counter()\n",
    "counter()\n",
    "counter()"
   ]
  },
  {
   "cell_type": "code",
   "execution_count": 25,
   "id": "7620e010",
   "metadata": {},
   "outputs": [
    {
     "data": {
      "text/plain": [
       "5"
      ]
     },
     "execution_count": 25,
     "metadata": {},
     "output_type": "execute_result"
    }
   ],
   "source": [
    "count"
   ]
  },
  {
   "cell_type": "code",
   "execution_count": 31,
   "id": "62d6a1fa",
   "metadata": {},
   "outputs": [
    {
     "name": "stdout",
     "output_type": "stream",
     "text": [
      "inner: inner variable\n",
      "outer: inner variable\n"
     ]
    }
   ],
   "source": [
    "def func_enclosing1():\n",
    "    x = 'outer variable'\n",
    "    def func_enclosing2():\n",
    "        nonlocal x    # it inner-value can be used in the outer scope\n",
    "        x = 'inner variable'\n",
    "        print(\"inner:\",x)\n",
    "    func_enclosing2()\n",
    "    print(\"outer:\",x)\n",
    "\n",
    "func_enclosing1()"
   ]
  },
  {
   "cell_type": "code",
   "execution_count": 29,
   "id": "6988789a",
   "metadata": {},
   "outputs": [
    {
     "name": "stdout",
     "output_type": "stream",
     "text": [
      "one\n"
     ]
    }
   ],
   "source": [
    "var = 1\n",
    "def assigner(a):\n",
    "    global var\n",
    "    var = a\n",
    "assigner(\"one\")\n",
    "print(var)"
   ]
  },
  {
   "cell_type": "code",
   "execution_count": null,
   "id": "d5a7ed01",
   "metadata": {},
   "outputs": [
    {
     "data": {
      "text/plain": [
       "<function __main__.<lambda>(x)>"
      ]
     },
     "execution_count": 32,
     "metadata": {},
     "output_type": "execute_result"
    }
   ],
   "source": [
    "def square(x): # x is the parameter\n",
    "    return x ** 2 # x ** 2 is the expression\n",
    "# lambda parameters: expression\n",
    "lambda x: x ** 2"
   ]
  },
  {
   "cell_type": "code",
   "execution_count": 33,
   "id": "1188cd28",
   "metadata": {},
   "outputs": [
    {
     "data": {
      "text/plain": [
       "<function __main__.<lambda>(x)>"
      ]
     },
     "execution_count": 33,
     "metadata": {},
     "output_type": "execute_result"
    }
   ],
   "source": [
    "lambda x: square(x)"
   ]
  },
  {
   "cell_type": "code",
   "execution_count": 35,
   "id": "35a0cac4",
   "metadata": {},
   "outputs": [
    {
     "data": {
      "text/plain": [
       "<function __main__.<lambda>(x, y)>"
      ]
     },
     "execution_count": 35,
     "metadata": {},
     "output_type": "execute_result"
    }
   ],
   "source": [
    "def adder(x,y): # x and y are the parameters\n",
    "    return x + y # x + y is the expression\n",
    "# lambda parameters: expression\n",
    "lambda x,y: x + y"
   ]
  },
  {
   "cell_type": "code",
   "execution_count": null,
   "id": "0f6c2a02",
   "metadata": {},
   "outputs": [],
   "source": [
    "def meaner(num1, num2):\n",
    "    return (num1 + num2) / 2\n",
    "\n",
    "lambda num1, num2: (num1 + num2) / 2\n"
   ]
  },
  {
   "cell_type": "code",
   "execution_count": 36,
   "id": "3f24f37e",
   "metadata": {},
   "outputs": [
    {
     "name": "stdout",
     "output_type": "stream",
     "text": [
      "odd\n"
     ]
    }
   ],
   "source": [
    "num = 5 \n",
    "if num % 2 == 0:\n",
    "    result = \"even\"\n",
    "else:\n",
    "    result = \"odd\"\n",
    "print(result)"
   ]
  },
  {
   "cell_type": "code",
   "execution_count": null,
   "id": "f360fea8",
   "metadata": {},
   "outputs": [
    {
     "name": "stdout",
     "output_type": "stream",
     "text": [
      "odd\n"
     ]
    },
    {
     "data": {
      "text/plain": [
       "'odd'"
      ]
     },
     "execution_count": 37,
     "metadata": {},
     "output_type": "execute_result"
    }
   ],
   "source": [
    "def checker(x):\n",
    "    if x % 2 == 0:\n",
    "        result = \"even\"\n",
    "    else:\n",
    "        result = \"odd\"\n",
    "    return result\n",
    "print(checker(5)) \n",
    "\n",
    "\"even\" if num % 2 == 0 else \"odd\""
   ]
  },
  {
   "cell_type": "code",
   "execution_count": 38,
   "id": "36bd95c2",
   "metadata": {},
   "outputs": [
    {
     "data": {
      "text/plain": [
       "<function __main__.<lambda>(x)>"
      ]
     },
     "execution_count": 38,
     "metadata": {},
     "output_type": "execute_result"
    }
   ],
   "source": [
    "lambda x: \"even\" if num % 2 == 0 else \"odd\""
   ]
  },
  {
   "cell_type": "code",
   "execution_count": 40,
   "id": "63fcc3d0",
   "metadata": {},
   "outputs": [
    {
     "data": {
      "text/plain": [
       "5"
      ]
     },
     "execution_count": 40,
     "metadata": {},
     "output_type": "execute_result"
    }
   ],
   "source": [
    "(lambda x,y: x + y) (2,3)"
   ]
  },
  {
   "cell_type": "code",
   "execution_count": 41,
   "id": "7f0c5b81",
   "metadata": {},
   "outputs": [
    {
     "data": {
      "text/plain": [
       "'olleh'"
      ]
     },
     "execution_count": 41,
     "metadata": {},
     "output_type": "execute_result"
    }
   ],
   "source": [
    "def reverser(para):\n",
    "    return para[::-1]\n",
    "reverser(\"hello\")"
   ]
  },
  {
   "cell_type": "code",
   "execution_count": 44,
   "id": "387c434d",
   "metadata": {},
   "outputs": [
    {
     "name": "stdout",
     "output_type": "stream",
     "text": [
      "[5, 4, 3, 2, 1]\n"
     ]
    }
   ],
   "source": [
    "iterable = [1,2,3,4,5]\n",
    "reversed_iterable = (lambda para:para[::-1])(iterable)\n",
    "print(reversed_iterable)"
   ]
  },
  {
   "cell_type": "code",
   "execution_count": 48,
   "id": "ba354e05",
   "metadata": {},
   "outputs": [
    {
     "name": "stdout",
     "output_type": "stream",
     "text": [
      "1 : odd\n",
      "2 : even\n",
      "3 : odd\n",
      "4 : even\n"
     ]
    }
   ],
   "source": [
    "numbers = [1,2,3,4]\n",
    "for number in numbers: print(number,\":\",(lambda x: \"even\" if x % 2 == 0 else \"odd\")(number))"
   ]
  },
  {
   "cell_type": "code",
   "execution_count": 49,
   "id": "1427b518",
   "metadata": {},
   "outputs": [
    {
     "name": "stdout",
     "output_type": "stream",
     "text": [
      "<function <lambda> at 0x106632fc0> <class 'function'>\n",
      "2.5\n"
     ]
    }
   ],
   "source": [
    "average = lambda x,y:(x+y)/2\n",
    "print(average, type(average))\n",
    "print(average(2,3))"
   ]
  },
  {
   "cell_type": "code",
   "execution_count": 50,
   "id": "ef7b6e58",
   "metadata": {},
   "outputs": [
    {
     "name": "stdout",
     "output_type": "stream",
     "text": [
      "<class 'function'>\n",
      "yawsuralc\n"
     ]
    }
   ],
   "source": [
    "itterable = \"clarusway\"\n",
    "\n",
    "reverser = lambda x : x[::-1]\n",
    "\n",
    "print(type(reverser))\n",
    "print(reverser(itterable))"
   ]
  },
  {
   "cell_type": "code",
   "execution_count": 51,
   "id": "3e98ef36",
   "metadata": {},
   "outputs": [
    {
     "name": "stdout",
     "output_type": "stream",
     "text": [
      "Help on class map in module builtins:\n",
      "\n",
      "class map(object)\n",
      " |  map(function, iterable, /, *iterables)\n",
      " |\n",
      " |  Make an iterator that computes the function using arguments from\n",
      " |  each of the iterables.  Stops when the shortest iterable is exhausted.\n",
      " |\n",
      " |  Methods defined here:\n",
      " |\n",
      " |  __getattribute__(self, name, /)\n",
      " |      Return getattr(self, name).\n",
      " |\n",
      " |  __iter__(self, /)\n",
      " |      Implement iter(self).\n",
      " |\n",
      " |  __next__(self, /)\n",
      " |      Implement next(self).\n",
      " |\n",
      " |  __reduce__(self, /)\n",
      " |      Return state information for pickling.\n",
      " |\n",
      " |  ----------------------------------------------------------------------\n",
      " |  Static methods defined here:\n",
      " |\n",
      " |  __new__(*args, **kwargs)\n",
      " |      Create and return a new object.  See help(type) for accurate signature.\n",
      "\n"
     ]
    }
   ],
   "source": [
    "help(map)"
   ]
  },
  {
   "cell_type": "code",
   "execution_count": 54,
   "id": "bfd4b6cd",
   "metadata": {},
   "outputs": [
    {
     "name": "stdout",
     "output_type": "stream",
     "text": [
      "<class 'map'>\n",
      "[1, 4, 9, 16, 25]\n",
      "[1, 4, 9, 16, 25]\n"
     ]
    }
   ],
   "source": [
    "iterable = [1,2,3,4,5]\n",
    "result = map(lambda x: x**2, iterable)\n",
    "print(type(result))\n",
    "print(list(result))\n",
    "print(list(map(lambda x: x**2, iterable)))"
   ]
  },
  {
   "cell_type": "code",
   "execution_count": 55,
   "id": "05ca1a05",
   "metadata": {},
   "outputs": [
    {
     "data": {
      "text/plain": [
       "(<function __main__.<lambda>(x, y)>, 2, 3)"
      ]
     },
     "execution_count": 55,
     "metadata": {},
     "output_type": "execute_result"
    }
   ],
   "source": [
    "lambda x,y: x + y, 2,3"
   ]
  },
  {
   "cell_type": "code",
   "execution_count": 57,
   "id": "d966f1f3",
   "metadata": {},
   "outputs": [
    {
     "name": "stdout",
     "output_type": "stream",
     "text": [
      "[1, 4, 9, 16, 25]\n"
     ]
    }
   ],
   "source": [
    "def square(x):\n",
    "    return x ** 2\n",
    "result = list(map(square,iterable))\n",
    "print(result)"
   ]
  },
  {
   "cell_type": "code",
   "execution_count": 65,
   "id": "6f914a78",
   "metadata": {},
   "outputs": [
    {
     "name": "stdout",
     "output_type": "stream",
     "text": [
      "['one', 'six', 'ten', 'two']\n"
     ]
    }
   ],
   "source": [
    "def concatinator(x,y,z):\n",
    "    return x + y + z\n",
    "\n",
    "letter1 = ['o', 's', 't', 't']\n",
    "letter2 = ['n', 'i', 'e', 'w']\n",
    "letter3 = ['e', 'x', 'n', 'o']\n",
    "numbers = list(map(concatinator, letter1, letter2, letter3))\n",
    "print(numbers)"
   ]
  },
  {
   "cell_type": "code",
   "execution_count": 66,
   "id": "82a62749",
   "metadata": {},
   "outputs": [
    {
     "name": "stdout",
     "output_type": "stream",
     "text": [
      "[6.0, 6.0, 6.0, 6.0]\n"
     ]
    }
   ],
   "source": [
    "nums1 = [9 ,6 ,7 ,4]\n",
    "nums2 = [3, 6, 5, 8]\n",
    "numbers = list(map(lambda x,y: (x+y)/2, nums1, nums2))\n",
    "\n",
    "print(numbers)"
   ]
  },
  {
   "cell_type": "code",
   "execution_count": null,
   "id": "65466b9b",
   "metadata": {},
   "outputs": [],
   "source": [
    "numbers = []\n",
    "for i in range(len(nums1)):\n",
    "    numbers.append((nums1[i]+nums2[i])/2)\n",
    "print(numbers)"
   ]
  },
  {
   "cell_type": "code",
   "execution_count": 67,
   "id": "9f10295b",
   "metadata": {},
   "outputs": [
    {
     "name": "stdout",
     "output_type": "stream",
     "text": [
      "Help on class zip in module builtins:\n",
      "\n",
      "class zip(object)\n",
      " |  zip(*iterables, strict=False)\n",
      " |\n",
      " |  The zip object yields n-length tuples, where n is the number of iterables\n",
      " |  passed as positional arguments to zip().  The i-th element in every tuple\n",
      " |  comes from the i-th iterable argument to zip().  This continues until the\n",
      " |  shortest argument is exhausted.\n",
      " |\n",
      " |  If strict is true and one of the arguments is exhausted before the others,\n",
      " |  raise a ValueError.\n",
      " |\n",
      " |     >>> list(zip('abcdefg', range(3), range(4)))\n",
      " |     [('a', 0, 0), ('b', 1, 1), ('c', 2, 2)]\n",
      " |\n",
      " |  Methods defined here:\n",
      " |\n",
      " |  __getattribute__(self, name, /)\n",
      " |      Return getattr(self, name).\n",
      " |\n",
      " |  __iter__(self, /)\n",
      " |      Implement iter(self).\n",
      " |\n",
      " |  __next__(self, /)\n",
      " |      Implement next(self).\n",
      " |\n",
      " |  __reduce__(self, /)\n",
      " |      Return state information for pickling.\n",
      " |\n",
      " |  __setstate__(self, object, /)\n",
      " |      Set state information for unpickling.\n",
      " |\n",
      " |  ----------------------------------------------------------------------\n",
      " |  Static methods defined here:\n",
      " |\n",
      " |  __new__(*args, **kwargs)\n",
      " |      Create and return a new object.  See help(type) for accurate signature.\n",
      "\n"
     ]
    }
   ],
   "source": [
    "help(zip)"
   ]
  },
  {
   "cell_type": "code",
   "execution_count": 68,
   "id": "c5f4d8db",
   "metadata": {},
   "outputs": [
    {
     "data": {
      "text/plain": [
       "[(9, 3), (6, 6), (7, 5), (4, 8)]"
      ]
     },
     "execution_count": 68,
     "metadata": {},
     "output_type": "execute_result"
    }
   ],
   "source": [
    "list(zip(nums1,nums2))"
   ]
  },
  {
   "cell_type": "code",
   "execution_count": 69,
   "id": "43c0aa76",
   "metadata": {},
   "outputs": [
    {
     "name": "stdout",
     "output_type": "stream",
     "text": [
      "9 3\n",
      "6 6\n",
      "7 5\n",
      "4 8\n"
     ]
    }
   ],
   "source": [
    "for x,y in zip(nums1,nums2):\n",
    "    print(x,y)"
   ]
  },
  {
   "cell_type": "code",
   "execution_count": 71,
   "id": "6c7bbdb3",
   "metadata": {},
   "outputs": [
    {
     "name": "stdout",
     "output_type": "stream",
     "text": [
      "[6.0, 6.0, 6.0, 6.0]\n"
     ]
    }
   ],
   "source": [
    "numbers = []\n",
    "for x,y in zip(nums1,nums2):\n",
    "    numbers.append((x+y)/2)\n",
    "print(numbers)"
   ]
  },
  {
   "cell_type": "code",
   "execution_count": 72,
   "id": "264f97e4",
   "metadata": {},
   "outputs": [
    {
     "name": "stdout",
     "output_type": "stream",
     "text": [
      "[6.0, 6.0, 6.0, 6.0]\n"
     ]
    }
   ],
   "source": [
    "numbers = []\n",
    "for x in zip(nums1,nums2):\n",
    "    numbers.append((x[0]+x[1])/2)\n",
    "print(numbers)"
   ]
  },
  {
   "cell_type": "code",
   "execution_count": 83,
   "id": "efcae7c1",
   "metadata": {},
   "outputs": [
    {
     "name": "stdout",
     "output_type": "stream",
     "text": [
      "i love you\n",
      "you ate much\n",
      "he works hard\n"
     ]
    },
    {
     "data": {
      "text/plain": [
       "[None, None, None]"
      ]
     },
     "execution_count": 83,
     "metadata": {},
     "output_type": "execute_result"
    }
   ],
   "source": [
    "words1 = [\"you\", \"much\", \"hard\"]\n",
    "words2 = [\"i\", \"you\", \"he\"]\n",
    "words3 = [\"love\", \"ate\", \"works\"]\n",
    "list(map(lambda x,y,z: print(f\"{x} {y} {z}\"), words2, words3, words1))\n"
   ]
  },
  {
   "cell_type": "code",
   "execution_count": null,
   "id": "c96b268b",
   "metadata": {},
   "outputs": [],
   "source": [
    "#tuple, list, set\n",
    "str(5)"
   ]
  },
  {
   "cell_type": "code",
   "execution_count": 86,
   "id": "c4d20566",
   "metadata": {},
   "outputs": [
    {
     "name": "stdout",
     "output_type": "stream",
     "text": [
      "<class 'list'>\n",
      "[0, 2, 4, 6, 8]\n"
     ]
    }
   ],
   "source": [
    "first_ten = [0,1,2,3,4,5,6,7,8,9]\n",
    "even = list(filter(lambda x: x % 2 == 0, first_ten))\n",
    "print(type(even))\n",
    "print(even)"
   ]
  },
  {
   "cell_type": "code",
   "execution_count": 87,
   "id": "d568298e",
   "metadata": {},
   "outputs": [
    {
     "name": "stdout",
     "output_type": "stream",
     "text": [
      "0 2 4 6 8\n"
     ]
    }
   ],
   "source": [
    "def even_checker(num):\n",
    "    return num % 2 == 0\n",
    "even_numbers = list(filter(even_checker, first_ten))\n",
    "print(*even_numbers)"
   ]
  },
  {
   "cell_type": "code",
   "execution_count": 88,
   "id": "1a52563d",
   "metadata": {},
   "outputs": [
    {
     "name": "stdout",
     "output_type": "stream",
     "text": [
      "0 2 4 6 8\n"
     ]
    }
   ],
   "source": [
    "even_numbers = list(filter(lambda x: x % 2 == 0, first_ten))\n",
    "print(*even_numbers)"
   ]
  },
  {
   "cell_type": "code",
   "execution_count": 89,
   "id": "44a06170",
   "metadata": {},
   "outputs": [
    {
     "name": "stdout",
     "output_type": "stream",
     "text": [
      "swim me kiwi\n"
     ]
    }
   ],
   "source": [
    "words = [\"apple\", \"swim\", \"clock\", \"me\", \"kiwi\", \"banana\"]\n",
    "print(* filter(lambda x: len(x)<5, words))"
   ]
  },
  {
   "cell_type": "code",
   "execution_count": 90,
   "id": "a0b6cbdc",
   "metadata": {},
   "outputs": [
    {
     "data": {
      "text/plain": [
       "False"
      ]
     },
     "execution_count": 90,
     "metadata": {},
     "output_type": "execute_result"
    }
   ],
   "source": [
    "(lambda x: len(x)<5)(\"apple\")"
   ]
  },
  {
   "cell_type": "code",
   "execution_count": 91,
   "id": "4503a326",
   "metadata": {},
   "outputs": [
    {
     "name": "stdout",
     "output_type": "stream",
     "text": [
      "Help on module string:\n",
      "\n",
      "NAME\n",
      "    string - A collection of string constants.\n",
      "\n",
      "MODULE REFERENCE\n",
      "    https://docs.python.org/3.13/library/string.html\n",
      "\n",
      "    The following documentation is automatically generated from the Python\n",
      "    source files.  It may be incomplete, incorrect or include features that\n",
      "    are considered implementation detail and may vary between Python\n",
      "    implementations.  When in doubt, consult the module reference at the\n",
      "    location listed above.\n",
      "\n",
      "DESCRIPTION\n",
      "    Public module variables:\n",
      "\n",
      "    whitespace -- a string containing all ASCII whitespace\n",
      "    ascii_lowercase -- a string containing all ASCII lowercase letters\n",
      "    ascii_uppercase -- a string containing all ASCII uppercase letters\n",
      "    ascii_letters -- a string containing all ASCII letters\n",
      "    digits -- a string containing all ASCII decimal digits\n",
      "    hexdigits -- a string containing all ASCII hexadecimal digits\n",
      "    octdigits -- a string containing all ASCII octal digits\n",
      "    punctuation -- a string containing all ASCII punctuation characters\n",
      "    printable -- a string containing all ASCII characters considered printable\n",
      "\n",
      "CLASSES\n",
      "    builtins.object\n",
      "        Formatter\n",
      "        Template\n",
      "\n",
      "    class Formatter(builtins.object)\n",
      "     |  Methods defined here:\n",
      "     |\n",
      "     |  check_unused_args(self, used_args, args, kwargs)\n",
      "     |\n",
      "     |  convert_field(self, value, conversion)\n",
      "     |\n",
      "     |  format(self, format_string, /, *args, **kwargs)\n",
      "     |\n",
      "     |  format_field(self, value, format_spec)\n",
      "     |\n",
      "     |  get_field(self, field_name, args, kwargs)\n",
      "     |      # given a field_name, find the object it references.\n",
      "     |      #  field_name:   the field being looked up, e.g. \"0.name\"\n",
      "     |      #                 or \"lookup[3]\"\n",
      "     |      #  used_args:    a set of which args have been used\n",
      "     |      #  args, kwargs: as passed in to vformat\n",
      "     |\n",
      "     |  get_value(self, key, args, kwargs)\n",
      "     |\n",
      "     |  parse(self, format_string)\n",
      "     |      # returns an iterable that contains tuples of the form:\n",
      "     |      # (literal_text, field_name, format_spec, conversion)\n",
      "     |      # literal_text can be zero length\n",
      "     |      # field_name can be None, in which case there's no\n",
      "     |      #  object to format and output\n",
      "     |      # if field_name is not None, it is looked up, formatted\n",
      "     |      #  with format_spec and conversion and then used\n",
      "     |\n",
      "     |  vformat(self, format_string, args, kwargs)\n",
      "     |\n",
      "     |  ----------------------------------------------------------------------\n",
      "     |  Data descriptors defined here:\n",
      "     |\n",
      "     |  __dict__\n",
      "     |      dictionary for instance variables\n",
      "     |\n",
      "     |  __weakref__\n",
      "     |      list of weak references to the object\n",
      "\n",
      "    class Template(builtins.object)\n",
      "     |  Template(template)\n",
      "     |\n",
      "     |  A string class for supporting $-substitutions.\n",
      "     |\n",
      "     |  Methods defined here:\n",
      "     |\n",
      "     |  __init__(self, template)\n",
      "     |      Initialize self.  See help(type(self)) for accurate signature.\n",
      "     |\n",
      "     |  get_identifiers(self)\n",
      "     |\n",
      "     |  is_valid(self)\n",
      "     |\n",
      "     |  safe_substitute(self, mapping={}, /, **kws)\n",
      "     |\n",
      "     |  substitute(self, mapping={}, /, **kws)\n",
      "     |\n",
      "     |  ----------------------------------------------------------------------\n",
      "     |  Class methods defined here:\n",
      "     |\n",
      "     |  __init_subclass__()\n",
      "     |      This method is called when a class is subclassed.\n",
      "     |\n",
      "     |      The default implementation does nothing. It may be\n",
      "     |      overridden to extend subclasses.\n",
      "     |\n",
      "     |  ----------------------------------------------------------------------\n",
      "     |  Data descriptors defined here:\n",
      "     |\n",
      "     |  __dict__\n",
      "     |      dictionary for instance variables\n",
      "     |\n",
      "     |  __weakref__\n",
      "     |      list of weak references to the object\n",
      "     |\n",
      "     |  ----------------------------------------------------------------------\n",
      "     |  Data and other attributes defined here:\n",
      "     |\n",
      "     |  braceidpattern = None\n",
      "     |\n",
      "     |  delimiter = '$'\n",
      "     |\n",
      "     |  flags = re.IGNORECASE\n",
      "     |\n",
      "     |  idpattern = '(?a:[_a-z][_a-z0-9]*)'\n",
      "     |\n",
      "     |  pattern = re.compile('\\n            \\\\$(?:\\n              ...identifie...\n",
      "\n",
      "FUNCTIONS\n",
      "    capwords(s, sep=None)\n",
      "        capwords(s [,sep]) -> string\n",
      "\n",
      "        Split the argument into words using split, capitalize each\n",
      "        word using capitalize, and join the capitalized words using\n",
      "        join.  If the optional second argument sep is absent or None,\n",
      "        runs of whitespace characters are replaced by a single space\n",
      "        and leading and trailing whitespace are removed, otherwise\n",
      "        sep is used to split and join the words.\n",
      "\n",
      "DATA\n",
      "    __all__ = ['ascii_letters', 'ascii_lowercase', 'ascii_uppercase', 'cap...\n",
      "    ascii_letters = 'abcdefghijklmnopqrstuvwxyzABCDEFGHIJKLMNOPQRSTUVWXYZ'\n",
      "    ascii_lowercase = 'abcdefghijklmnopqrstuvwxyz'\n",
      "    ascii_uppercase = 'ABCDEFGHIJKLMNOPQRSTUVWXYZ'\n",
      "    digits = '0123456789'\n",
      "    hexdigits = '0123456789abcdefABCDEF'\n",
      "    octdigits = '01234567'\n",
      "    printable = '0123456789abcdefghijklmnopqrstuvwxyzABCDEFGHIJKLMNOPQRSTU...\n",
      "    punctuation = '!\"#$%&\\'()*+,-./:;<=>?@[\\\\]^_`{|}~'\n",
      "    whitespace = ' \\t\\n\\r\\x0b\\x0c'\n",
      "\n",
      "FILE\n",
      "    /Library/Frameworks/Python.framework/Versions/3.13/lib/python3.13/string.py\n",
      "\n",
      "\n"
     ]
    }
   ],
   "source": [
    "import string\n",
    "help(string)\n"
   ]
  },
  {
   "cell_type": "code",
   "execution_count": 92,
   "id": "01c7a32d",
   "metadata": {},
   "outputs": [
    {
     "data": {
      "text/plain": [
       "'abcdefghij'"
      ]
     },
     "execution_count": 92,
     "metadata": {},
     "output_type": "execute_result"
    }
   ],
   "source": [
    "string.ascii_lowercase[:10]"
   ]
  },
  {
   "cell_type": "code",
   "execution_count": 98,
   "id": "cf71cb22",
   "metadata": {},
   "outputs": [
    {
     "name": "stdout",
     "output_type": "stream",
     "text": [
      "['a', 'b', 'c', 'd', 'e', 'f', 'g', 'h', 'i', 'j']\n",
      "vowels are:  ['a', 'e', 'i']\n"
     ]
    }
   ],
   "source": [
    "vowel_list = [\"a\",\"e\",\"i\",\"o\",\"u\"]\n",
    "first_ten = list(string.ascii_lowercase[:10])\n",
    "print(first_ten)\n",
    "vowels = list(filter(lambda x: x in vowel_list, first_ten))\n",
    "print(\"vowels are: \",vowels)"
   ]
  },
  {
   "cell_type": "code",
   "execution_count": 99,
   "id": "f0c4d270",
   "metadata": {},
   "outputs": [
    {
     "data": {
      "text/plain": [
       "True"
      ]
     },
     "execution_count": 99,
     "metadata": {},
     "output_type": "execute_result"
    }
   ],
   "source": [
    "\"i\" in vowel_list"
   ]
  },
  {
   "cell_type": "code",
   "execution_count": 103,
   "id": "3316df42",
   "metadata": {},
   "outputs": [
    {
     "name": "stdout",
     "output_type": "stream",
     "text": [
      "a is a vowel\n",
      "b is not a vowel\n",
      "c is not a vowel\n",
      "d is not a vowel\n",
      "e is a vowel\n",
      "f is not a vowel\n",
      "g is not a vowel\n",
      "h is not a vowel\n",
      "i is a vowel\n",
      "j is not a vowel\n"
     ]
    }
   ],
   "source": [
    "print(* map(lambda x: f\"{x} is a vowel\" if x in vowel_list else f\"{x} is not a vowel\", first_ten),sep=\"\\n\")"
   ]
  },
  {
   "cell_type": "code",
   "execution_count": 108,
   "id": "5f3e0169",
   "metadata": {},
   "outputs": [
    {
     "name": "stdout",
     "output_type": "stream",
     "text": [
      "['a', 'e', 'i']\n",
      "['b', 'c', 'd', 'f', 'g', 'h', 'j']\n"
     ]
    },
    {
     "data": {
      "text/plain": [
       "[None, None, None, None, None, None, None, None, None, None]"
      ]
     },
     "execution_count": 108,
     "metadata": {},
     "output_type": "execute_result"
    }
   ],
   "source": [
    "vowel_list = [\"a\",\"e\",\"i\",\"o\",\"u\"]\n",
    "first_ten = list(string.ascii_lowercase[:10])\n",
    "vowels = []\n",
    "not_vowels = []\n",
    "var = list(map(lambda x: vowels.append(x) if x in vowel_list else not_vowels.append(x), first_ten))\n",
    "print(vowels)\n",
    "print(not_vowels)\n",
    "var"
   ]
  },
  {
   "cell_type": "code",
   "execution_count": null,
   "id": "1db8fa7f",
   "metadata": {},
   "outputs": [],
   "source": []
  }
 ],
 "metadata": {
  "kernelspec": {
   "display_name": "Python 3",
   "language": "python",
   "name": "python3"
  },
  "language_info": {
   "codemirror_mode": {
    "name": "ipython",
    "version": 3
   },
   "file_extension": ".py",
   "mimetype": "text/x-python",
   "name": "python",
   "nbconvert_exporter": "python",
   "pygments_lexer": "ipython3",
   "version": "3.13.2"
  }
 },
 "nbformat": 4,
 "nbformat_minor": 5
}
