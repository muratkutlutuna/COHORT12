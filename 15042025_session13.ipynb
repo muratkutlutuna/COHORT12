{
 "cells": [
  {
   "cell_type": "code",
   "execution_count": 1,
   "id": "84b37693",
   "metadata": {},
   "outputs": [
    {
     "name": "stdout",
     "output_type": "stream",
     "text": [
      "The filtered elements are : \n",
      "adnrew\n"
     ]
    }
   ],
   "source": [
    "listA = [[], {}, False, 0, (), \"adnrew\"]\n",
    "\n",
    "filtered_list = filter(None, listA)\n",
    "print(\"The filtered elements are : \")\n",
    "for i in filtered_list:\n",
    "    print(i)"
   ]
  },
  {
   "cell_type": "code",
   "execution_count": 2,
   "id": "8a8e5291",
   "metadata": {},
   "outputs": [
    {
     "name": "stdout",
     "output_type": "stream",
     "text": [
      "(1, 2, 3)\n"
     ]
    }
   ],
   "source": [
    "my_tuple = 1,2,3\n",
    "print(my_tuple)"
   ]
  },
  {
   "cell_type": "code",
   "execution_count": 3,
   "id": "c933d297",
   "metadata": {},
   "outputs": [],
   "source": [
    "for i in filtered_list:\n",
    "    print(i)"
   ]
  },
  {
   "cell_type": "code",
   "execution_count": 4,
   "id": "5c3d6b86",
   "metadata": {},
   "outputs": [],
   "source": [
    "listA = [[], {}, False, 0, (), \"adnrew\"]\n",
    "\n",
    "filtered_list = list(filter(None, listA))"
   ]
  },
  {
   "cell_type": "code",
   "execution_count": 7,
   "id": "f3d24019",
   "metadata": {},
   "outputs": [
    {
     "name": "stdout",
     "output_type": "stream",
     "text": [
      "['adnrew']\n"
     ]
    }
   ],
   "source": [
    "print(filtered_list)"
   ]
  },
  {
   "cell_type": "code",
   "execution_count": 12,
   "id": "5ba512d2",
   "metadata": {},
   "outputs": [
    {
     "data": {
      "text/plain": [
       "0"
      ]
     },
     "execution_count": 12,
     "metadata": {},
     "output_type": "execute_result"
    }
   ],
   "source": [
    "def a_checker(word):\n",
    "    return word.lower().count(\"a\")\n",
    "\n",
    "a_checker(\"test\")"
   ]
  },
  {
   "cell_type": "code",
   "execution_count": 8,
   "id": "bfd0e977",
   "metadata": {},
   "outputs": [],
   "source": [
    "# filter(a_checker, list_book)\n"
   ]
  },
  {
   "cell_type": "code",
   "execution_count": 9,
   "id": "93705a4a",
   "metadata": {},
   "outputs": [
    {
     "name": "stdout",
     "output_type": "stream",
     "text": [
      "Help on class filter in module builtins:\n",
      "\n",
      "class filter(object)\n",
      " |  filter(function, iterable, /)\n",
      " |\n",
      " |  Return an iterator yielding those items of iterable for which function(item)\n",
      " |  is true. If function is None, return the items that are true.\n",
      " |\n",
      " |  Methods defined here:\n",
      " |\n",
      " |  __getattribute__(self, name, /)\n",
      " |      Return getattr(self, name).\n",
      " |\n",
      " |  __iter__(self, /)\n",
      " |      Implement iter(self).\n",
      " |\n",
      " |  __next__(self, /)\n",
      " |      Implement next(self).\n",
      " |\n",
      " |  __reduce__(self, /)\n",
      " |      Return state information for pickling.\n",
      " |\n",
      " |  ----------------------------------------------------------------------\n",
      " |  Static methods defined here:\n",
      " |\n",
      " |  __new__(*args, **kwargs)\n",
      " |      Create and return a new object.  See help(type) for accurate signature.\n",
      "\n"
     ]
    }
   ],
   "source": [
    "help(filter)"
   ]
  },
  {
   "cell_type": "code",
   "execution_count": 21,
   "id": "b8fb44d2",
   "metadata": {},
   "outputs": [
    {
     "name": "stdout",
     "output_type": "stream",
     "text": [
      "['an', 'iterator', 'iterable', 'that', 'are']\n",
      "<class 'str'>\n"
     ]
    }
   ],
   "source": [
    "text = \"\"\" Return an iterator yielding those items of iterable for which function(item)\n",
    " is true. If function is None, return the items that are true.\"\"\"\n",
    "\n",
    "def a_checker(word):\n",
    "    return word.lower().count(\"a\")\n",
    "\n",
    "print(list(filter(a_checker, text.split())))\n",
    "print(type(text))\n"
   ]
  },
  {
   "cell_type": "code",
   "execution_count": 23,
   "id": "aa4bbfb5",
   "metadata": {},
   "outputs": [
    {
     "name": "stdout",
     "output_type": "stream",
     "text": [
      "1 Return\n",
      "2 an\n",
      "3 iterator\n",
      "4 yielding\n",
      "5 those\n",
      "6 items\n",
      "7 of\n",
      "8 iterable\n",
      "9 for\n",
      "10 which\n",
      "11 function(item)\n",
      "12 is\n",
      "13 true.\n",
      "14 If\n",
      "15 function\n",
      "16 is\n",
      "17 None,\n",
      "18 return\n",
      "19 the\n",
      "20 items\n",
      "21 that\n",
      "22 are\n",
      "23 true.\n"
     ]
    }
   ],
   "source": [
    "for index, word in enumerate(text.split(),1):\n",
    "    print(index, word)"
   ]
  },
  {
   "cell_type": "code",
   "execution_count": 25,
   "id": "cf51bde9",
   "metadata": {},
   "outputs": [
    {
     "name": "stdout",
     "output_type": "stream",
     "text": [
      "a\n"
     ]
    }
   ],
   "source": [
    "print(min(\"clarusway\"))"
   ]
  },
  {
   "cell_type": "code",
   "execution_count": 26,
   "id": "f7b3e49e",
   "metadata": {},
   "outputs": [
    {
     "name": "stdout",
     "output_type": "stream",
     "text": [
      "y\n"
     ]
    }
   ],
   "source": [
    "print(max(\"clarusway\"))"
   ]
  },
  {
   "cell_type": "code",
   "execution_count": 32,
   "id": "c3334705",
   "metadata": {},
   "outputs": [
    {
     "data": {
      "text/plain": [
       "'Ulaanbaatar'"
      ]
     },
     "execution_count": 32,
     "metadata": {},
     "output_type": "execute_result"
    }
   ],
   "source": [
    "capitals = [\n",
    "    \"Kabul\", \"Tirana\", \"Algiers\", \"Andorra la Vella\", \"Luanda\", \"Buenos Aires\",\n",
    "    \"Yerevan\", \"Canberra\", \"Vienna\", \"Baku\", \"Nassau\", \"Manama\", \"Dhaka\",\n",
    "    \"Bridgetown\", \"Minsk\", \"Brussels\", \"Belmopan\", \"Porto-Novo\", \"Thimphu\",\n",
    "    \"La Paz\", \"Sarajevo\", \"Gaborone\", \"Brasília\", \"Sofia\", \"Ouagadougou\",\n",
    "    \"Gitega\", \"Phnom Penh\", \"Yaoundé\", \"Ottawa\", \"Praia\", \"Bangui\", \"N'Djamena\",\n",
    "    \"Santiago\", \"Beijing\", \"Bogotá\", \"Moroni\", \"Kinshasa\", \"Brazzaville\",\n",
    "    \"San José\", \"Zagreb\", \"Havana\", \"Nicosia\", \"Prague\", \"Copenhagen\",\n",
    "    \"Djibouti\", \"Roseau\", \"Santo Domingo\", \"Quito\", \"Cairo\", \"San Salvador\",\n",
    "    \"Malabo\", \"Asmara\", \"Tallinn\", \"Mbabane\", \"Addis Ababa\", \"Palikir\",\n",
    "    \"Suva\", \"Helsinki\", \"Paris\", \"Libreville\", \"Banjul\", \"Tbilisi\", \"Berlin\",\n",
    "    \"Accra\", \"Athens\", \"Saint George's\", \"Guatemala City\", \"Conakry\",\n",
    "    \"Bissau\", \"Georgetown\", \"Port-au-Prince\", \"Tegucigalpa\", \"Budapest\",\n",
    "    \"Reykjavik\", \"New Delhi\", \"Jakarta\", \"Tehran\", \"Baghdad\", \"Dublin\",\n",
    "    \"Jerusalem\", \"Rome\", \"Kingston\", \"Tokyo\", \"Amman\", \"Nur-Sultan\", \"Nairobi\",\n",
    "    \"Tarawa\", \"Pristina\", \"Kuwait City\", \"Bishkek\", \"Vientiane\", \"Riga\",\n",
    "    \"Beirut\", \"Maseru\", \"Monrovia\", \"Tripoli\", \"Vaduz\", \"Vilnius\", \"Luxembourg\",\n",
    "    \"Antananarivo\", \"Lilongwe\", \"Kuala Lumpur\", \"Malé\", \"Bamako\", \"Valletta\",\n",
    "    \"Majuro\", \"Nouakchott\", \"Port Louis\", \"Mexico City\", \"Chisinau\", \"Monaco\",\n",
    "    \"Ulaanbaatar\", \"Podgorica\", \"Rabat\", \"Maputo\", \"Naypyidaw\", \"Windhoek\",\n",
    "    \"Yaren\", \"Kathmandu\", \"Amsterdam\", \"Wellington\", \"Managua\", \"Niamey\",\n",
    "    \"Abuja\", \"Pyongyang\", \"Skopje\", \"Oslo\", \"Muscat\", \"Islamabad\", \"Ngerulmud\",\n",
    "    \"Panama City\", \"Port Moresby\", \"Asunción\", \"Lima\", \"Manila\", \"Warsaw\",\n",
    "    \"Lisbon\", \"Doha\", \"Bucharest\", \"Moscow\", \"Kigali\", \"Basseterre\",\n",
    "    \"Castries\", \"Kingstown\", \"Apia\", \"San Marino\", \"São Tomé\", \"Riyadh\",\n",
    "    \"Dakar\", \"Belgrade\", \"Victoria\", \"Freetown\", \"Singapore\", \"Bratislava\",\n",
    "    \"Ljubljana\", \"Honiara\", \"Mogadishu\", \"Pretoria\", \"Seoul\", \"Juba\", \"Madrid\",\n",
    "    \"Colombo\", \"Khartoum\", \"Paramaribo\", \"Stockholm\", \"Bern\", \"Damascus\",\n",
    "    \"Taipei\", \"Dushanbe\", \"Dodoma\", \"Bangkok\", \"Lomé\", \"Nukuʻalofa\",\n",
    "    \"Port of Spain\", \"Tunis\", \"Ankara\", \"Ashgabat\", \"Funafuti\", \"Kampala\",\n",
    "    \"Kyiv\", \"Abu Dhabi\", \"London\", \"Washington, D.C.\", \"Montevideo\", \"Tashkent\",\n",
    "    \"Port Vila\", \"Vatican City\", \"Caracas\", \"Hanoi\", \"Sana'a\", \"Lusaka\", \"Harare\"\n",
    "]\n",
    "\n",
    "\n",
    "max(capitals, key=a_checker)"
   ]
  },
  {
   "cell_type": "code",
   "execution_count": 33,
   "id": "537a9324",
   "metadata": {},
   "outputs": [
    {
     "name": "stdout",
     "output_type": "stream",
     "text": [
      "Help on built-in function sum in module builtins:\n",
      "\n",
      "sum(iterable, /, start=0)\n",
      "    Return the sum of a 'start' value (default: 0) plus an iterable of numbers\n",
      "\n",
      "    When the iterable is empty, return the start value.\n",
      "    This function is intended specifically for use with numeric values and may\n",
      "    reject non-numeric types.\n",
      "\n"
     ]
    }
   ],
   "source": [
    "help(sum)"
   ]
  },
  {
   "cell_type": "code",
   "execution_count": 34,
   "id": "bace7791",
   "metadata": {},
   "outputs": [
    {
     "ename": "TypeError",
     "evalue": "unsupported operand type(s) for +: 'int' and 'str'",
     "output_type": "error",
     "traceback": [
      "\u001b[0;31m---------------------------------------------------------------------------\u001b[0m",
      "\u001b[0;31mTypeError\u001b[0m                                 Traceback (most recent call last)",
      "Cell \u001b[0;32mIn[34], line 1\u001b[0m\n\u001b[0;32m----> 1\u001b[0m \u001b[38;5;28;43msum\u001b[39;49m\u001b[43m(\u001b[49m\u001b[38;5;124;43m\"\u001b[39;49m\u001b[38;5;124;43mali\u001b[39;49m\u001b[38;5;124;43m\"\u001b[39;49m\u001b[43m)\u001b[49m\n",
      "\u001b[0;31mTypeError\u001b[0m: unsupported operand type(s) for +: 'int' and 'str'"
     ]
    }
   ],
   "source": [
    "sum(\"ali\")"
   ]
  },
  {
   "cell_type": "code",
   "execution_count": 37,
   "id": "6d8e29c8",
   "metadata": {},
   "outputs": [
    {
     "data": {
      "text/plain": [
       "58"
      ]
     },
     "execution_count": 37,
     "metadata": {},
     "output_type": "execute_result"
    }
   ],
   "source": [
    "sum([1,2,3,4,5,6,7,6,5,4,3,2],start=10)"
   ]
  },
  {
   "cell_type": "code",
   "execution_count": 38,
   "id": "59f5474d",
   "metadata": {},
   "outputs": [
    {
     "name": "stdout",
     "output_type": "stream",
     "text": [
      "Help on built-in function round in module builtins:\n",
      "\n",
      "round(number, ndigits=None)\n",
      "    Round a number to a given precision in decimal digits.\n",
      "\n",
      "    The return value is an integer if ndigits is omitted or None.  Otherwise\n",
      "    the return value has the same type as the number.  ndigits may be negative.\n",
      "\n"
     ]
    }
   ],
   "source": [
    "help(round)"
   ]
  },
  {
   "cell_type": "code",
   "execution_count": 39,
   "id": "0821ac26",
   "metadata": {},
   "outputs": [
    {
     "data": {
      "text/plain": [
       "12"
      ]
     },
     "execution_count": 39,
     "metadata": {},
     "output_type": "execute_result"
    }
   ],
   "source": [
    "round(12,2)"
   ]
  },
  {
   "cell_type": "code",
   "execution_count": 40,
   "id": "e1aa368b",
   "metadata": {},
   "outputs": [
    {
     "data": {
      "text/plain": [
       "10"
      ]
     },
     "execution_count": 40,
     "metadata": {},
     "output_type": "execute_result"
    }
   ],
   "source": [
    "round(10.121221)"
   ]
  },
  {
   "cell_type": "code",
   "execution_count": 41,
   "id": "90344298",
   "metadata": {},
   "outputs": [
    {
     "data": {
      "text/plain": [
       "11"
      ]
     },
     "execution_count": 41,
     "metadata": {},
     "output_type": "execute_result"
    }
   ],
   "source": [
    "round(10.9892332)"
   ]
  },
  {
   "cell_type": "code",
   "execution_count": 42,
   "id": "8743fa96",
   "metadata": {},
   "outputs": [
    {
     "data": {
      "text/plain": [
       "10"
      ]
     },
     "execution_count": 42,
     "metadata": {},
     "output_type": "execute_result"
    }
   ],
   "source": [
    "int(10.934344)"
   ]
  },
  {
   "cell_type": "code",
   "execution_count": 43,
   "id": "67964630",
   "metadata": {},
   "outputs": [
    {
     "data": {
      "text/plain": [
       "2"
      ]
     },
     "execution_count": 43,
     "metadata": {},
     "output_type": "execute_result"
    }
   ],
   "source": [
    "round(1.5)"
   ]
  },
  {
   "cell_type": "code",
   "execution_count": 44,
   "id": "dc3fbbdb",
   "metadata": {},
   "outputs": [
    {
     "data": {
      "text/plain": [
       "2"
      ]
     },
     "execution_count": 44,
     "metadata": {},
     "output_type": "execute_result"
    }
   ],
   "source": [
    "round(2.5)"
   ]
  },
  {
   "cell_type": "code",
   "execution_count": 45,
   "id": "8bbd20d9",
   "metadata": {},
   "outputs": [
    {
     "data": {
      "text/plain": [
       "4"
      ]
     },
     "execution_count": 45,
     "metadata": {},
     "output_type": "execute_result"
    }
   ],
   "source": [
    "round(3.5)"
   ]
  },
  {
   "cell_type": "code",
   "execution_count": 46,
   "id": "5c231d21",
   "metadata": {},
   "outputs": [
    {
     "data": {
      "text/plain": [
       "4"
      ]
     },
     "execution_count": 46,
     "metadata": {},
     "output_type": "execute_result"
    }
   ],
   "source": [
    "round(4.5)"
   ]
  },
  {
   "cell_type": "code",
   "execution_count": 49,
   "id": "0bb06654",
   "metadata": {},
   "outputs": [
    {
     "data": {
      "text/plain": [
       "3.67"
      ]
     },
     "execution_count": 49,
     "metadata": {},
     "output_type": "execute_result"
    }
   ],
   "source": [
    "round(3.665,2)"
   ]
  },
  {
   "cell_type": "code",
   "execution_count": 50,
   "id": "110becde",
   "metadata": {},
   "outputs": [
    {
     "data": {
      "text/plain": [
       "3.67"
      ]
     },
     "execution_count": 50,
     "metadata": {},
     "output_type": "execute_result"
    }
   ],
   "source": [
    "round(3.675,2)"
   ]
  },
  {
   "cell_type": "code",
   "execution_count": 53,
   "id": "a3ecf4b6",
   "metadata": {},
   "outputs": [
    {
     "data": {
      "text/plain": [
       "8.68"
      ]
     },
     "execution_count": 53,
     "metadata": {},
     "output_type": "execute_result"
    }
   ],
   "source": [
    "round(8.675,2)"
   ]
  },
  {
   "cell_type": "code",
   "execution_count": 59,
   "id": "dd4598de",
   "metadata": {},
   "outputs": [
    {
     "data": {
      "text/plain": [
       "3.67"
      ]
     },
     "execution_count": 59,
     "metadata": {},
     "output_type": "execute_result"
    }
   ],
   "source": [
    "round(3.665,2)"
   ]
  },
  {
   "cell_type": "code",
   "execution_count": 62,
   "id": "a148d37d",
   "metadata": {},
   "outputs": [
    {
     "data": {
      "text/plain": [
       "3.67"
      ]
     },
     "execution_count": 62,
     "metadata": {},
     "output_type": "execute_result"
    }
   ],
   "source": [
    "round(3.675,2)"
   ]
  },
  {
   "cell_type": "code",
   "execution_count": 69,
   "id": "aac5a2ca",
   "metadata": {},
   "outputs": [
    {
     "name": "stdout",
     "output_type": "stream",
     "text": [
      "13\n"
     ]
    }
   ],
   "source": [
    "def first_function(arg1, arg2):\n",
    "    print(arg1 ** 2 + arg2 ** 2)\n",
    "    return None\n",
    "\n",
    "first_function(2,3)"
   ]
  },
  {
   "cell_type": "code",
   "execution_count": 70,
   "id": "9c1eaf86",
   "metadata": {},
   "outputs": [
    {
     "name": "stdout",
     "output_type": "stream",
     "text": [
      "15\n",
      "-2.5\n",
      "amazingamazingamazing\n"
     ]
    }
   ],
   "source": [
    "def multiply(a,b):\n",
    "    print(a*b)\n",
    "\n",
    "multiply(3,5)\n",
    "multiply(-1,2.5)\n",
    "multiply(3,\"amazing\")"
   ]
  },
  {
   "cell_type": "code",
   "execution_count": 75,
   "id": "e5e78775",
   "metadata": {},
   "outputs": [
    {
     "name": "stdout",
     "output_type": "stream",
     "text": [
      "Don't hesitate to reinvent yourself\n"
     ]
    }
   ],
   "source": [
    "def motto():\n",
    "    print(\"Don't hesitate to reinvent yourself\")\n",
    "motto()"
   ]
  },
  {
   "cell_type": "code",
   "execution_count": 76,
   "id": "9e99fb62",
   "metadata": {},
   "outputs": [
    {
     "ename": "TypeError",
     "evalue": "len() takes exactly one argument (2 given)",
     "output_type": "error",
     "traceback": [
      "\u001b[0;31m---------------------------------------------------------------------------\u001b[0m",
      "\u001b[0;31mTypeError\u001b[0m                                 Traceback (most recent call last)",
      "Cell \u001b[0;32mIn[76], line 1\u001b[0m\n\u001b[0;32m----> 1\u001b[0m \u001b[38;5;28;43mlen\u001b[39;49m\u001b[43m(\u001b[49m\u001b[38;5;124;43m\"\u001b[39;49m\u001b[38;5;124;43mtest\u001b[39;49m\u001b[38;5;124;43m\"\u001b[39;49m\u001b[43m,\u001b[49m\u001b[38;5;241;43m2\u001b[39;49m\u001b[43m)\u001b[49m\n",
      "\u001b[0;31mTypeError\u001b[0m: len() takes exactly one argument (2 given)"
     ]
    }
   ],
   "source": [
    "len(\"test\",2)"
   ]
  },
  {
   "cell_type": "code",
   "execution_count": null,
   "id": "4573461c",
   "metadata": {},
   "outputs": [
    {
     "name": "stdout",
     "output_type": "stream",
     "text": [
      "2\n"
     ]
    }
   ],
   "source": [
    "def add(a,b):\n",
    "    print(a+b)\n",
    "    return None\n",
    "\n",
    "add(-3,5)"
   ]
  },
  {
   "cell_type": "code",
   "execution_count": 83,
   "id": "92654074",
   "metadata": {},
   "outputs": [
    {
     "name": "stdout",
     "output_type": "stream",
     "text": [
      "-1\n",
      "12\n",
      "0.75\n",
      "3\n"
     ]
    }
   ],
   "source": [
    "def calculator(x,y,opr):\n",
    "    if opr == \"+\":\n",
    "        print(x+y)\n",
    "    elif opr == \"-\":\n",
    "        print(x-y)\n",
    "    elif opr == \"*\":\n",
    "        print(x*y)\n",
    "    elif opr == \"/\":\n",
    "        print(x/y)\n",
    "    elif opr == \"%\":\n",
    "        print(x%y)\n",
    "    else:\n",
    "        print(\"Wrong operator\")\n",
    "    return None\n",
    "\n",
    "calculator(3,4,\"-\")\n",
    "calculator(3,4,\"*\")\n",
    "calculator(3,4,\"/\") \n",
    "calculator(3,4,\"%\")"
   ]
  },
  {
   "cell_type": "code",
   "execution_count": null,
   "id": "11734e2c",
   "metadata": {},
   "outputs": [
    {
     "name": "stdout",
     "output_type": "stream",
     "text": [
      "-1\n"
     ]
    }
   ],
   "source": [
    "def calculator(x,y,opr):\n",
    "    if opr in [\"+\", \"-\", \"*\", \"/\", \"//\", \"%\"]:\n",
    "        print(eval(f\"{x} {opr} {y}\"))\n",
    "    else:\n",
    "        print(\"Wrong operator\")\n",
    "    return None\n",
    "\n",
    "print(calculator(3,4,\"-\"))"
   ]
  },
  {
   "cell_type": "code",
   "execution_count": 79,
   "id": "b19efac9",
   "metadata": {},
   "outputs": [
    {
     "name": "stdout",
     "output_type": "stream",
     "text": [
      "Help on built-in function eval in module builtins:\n",
      "\n",
      "eval(source, /, globals=None, locals=None)\n",
      "    Evaluate the given source in the context of globals and locals.\n",
      "\n",
      "    The source may be a string representing a Python expression\n",
      "    or a code object as returned by compile().\n",
      "    The globals must be a dictionary and locals can be any mapping,\n",
      "    defaulting to the current globals and locals.\n",
      "    If only globals is given, locals defaults to it.\n",
      "\n"
     ]
    }
   ],
   "source": [
    "help(eval)"
   ]
  },
  {
   "cell_type": "code",
   "execution_count": 80,
   "id": "93620d36",
   "metadata": {},
   "outputs": [
    {
     "ename": "SyntaxError",
     "evalue": "invalid syntax. Perhaps you forgot a comma? (336441609.py, line 1)",
     "output_type": "error",
     "traceback": [
      "\u001b[0;36m  Cell \u001b[0;32mIn[80], line 1\u001b[0;36m\u001b[0m\n\u001b[0;31m    print(3 \"+\" 5)\u001b[0m\n\u001b[0m          ^\u001b[0m\n\u001b[0;31mSyntaxError\u001b[0m\u001b[0;31m:\u001b[0m invalid syntax. Perhaps you forgot a comma?\n"
     ]
    }
   ],
   "source": [
    "print(3 \"+\" 5)"
   ]
  },
  {
   "cell_type": "code",
   "execution_count": 81,
   "id": "c5c3ce9e",
   "metadata": {},
   "outputs": [
    {
     "data": {
      "text/plain": [
       "8"
      ]
     },
     "execution_count": 81,
     "metadata": {},
     "output_type": "execute_result"
    }
   ],
   "source": [
    "eval(\"3 + 5\")"
   ]
  },
  {
   "cell_type": "code",
   "execution_count": 88,
   "id": "1ecd4c44",
   "metadata": {},
   "outputs": [
    {
     "name": "stdout",
     "output_type": "stream",
     "text": [
      "-1\n",
      "None\n"
     ]
    }
   ],
   "source": [
    "def calculator(x,y,opr):\n",
    "    if opr in opr == \"+\" or opr == \"-\" or opr == \"*\" or opr == \"/\" or opr == \"//\" or opr == \"%\":\n",
    "        print(eval(f\"{x} {opr} {y}\"))\n",
    "    else:\n",
    "        print(\"Wrong operator\")\n",
    "    return None\n",
    "\n",
    "print(calculator(3,4,\"-\"))"
   ]
  },
  {
   "cell_type": "code",
   "execution_count": 91,
   "id": "0a83efdc",
   "metadata": {},
   "outputs": [
    {
     "name": "stdout",
     "output_type": "stream",
     "text": [
      "1\n",
      "None\n",
      "2\n"
     ]
    }
   ],
   "source": [
    "def multiply_1(a,b):\n",
    "    print(a*b)\n",
    "\n",
    "def multiply_2(a,b):\n",
    "    return a*b\n",
    "\n",
    "print(multiply_1(1,1))\n",
    "print(multiply_2(1,2))"
   ]
  },
  {
   "cell_type": "code",
   "execution_count": 92,
   "id": "77a27dd3",
   "metadata": {},
   "outputs": [
    {
     "name": "stdout",
     "output_type": "stream",
     "text": [
      "calling multiply_1\n",
      "1\n",
      "calling multiply_2\n",
      "execution is finished\n"
     ]
    }
   ],
   "source": [
    "import time\n",
    "\n",
    "def multiply_1(a,b):\n",
    "    print(a*b)\n",
    "\n",
    "def multiply_2(a,b):\n",
    "    return a*b\n",
    "print(\"calling multiply_1\")\n",
    "multiply_1(1,1)\n",
    "time.sleep(1)\n",
    "print(\"calling multiply_2\")\n",
    "multiply_2(1,2)\n",
    "time.sleep(1)\n",
    "print(\"execution is finished\")"
   ]
  },
  {
   "cell_type": "code",
   "execution_count": 93,
   "id": "faa5b330",
   "metadata": {},
   "outputs": [],
   "source": [
    "my_list = []\n",
    "my_list = my_list.append(5)\n",
    "my_list"
   ]
  },
  {
   "cell_type": "code",
   "execution_count": null,
   "id": "a7a921ee",
   "metadata": {},
   "outputs": [
    {
     "name": "stdout",
     "output_type": "stream",
     "text": [
      "-1\n"
     ]
    }
   ],
   "source": [
    "def calculator(x,y,opr):\n",
    "    if opr == \"+\":\n",
    "        result = x+y\n",
    "    elif opr == \"-\":\n",
    "        result = x-y\n",
    "    elif opr == \"*\":\n",
    "        result = x*y\n",
    "    elif opr == \"/\":\n",
    "        result = x/y\n",
    "    elif opr == \"//\":\n",
    "        result = x//y\n",
    "    elif opr == \"%\":\n",
    "        result = x%y\n",
    "    else:\n",
    "        result = \"Wrong operator\"\n",
    "    return result\n",
    "print(calculator(3,4,\"-\"))"
   ]
  },
  {
   "cell_type": "code",
   "execution_count": 98,
   "id": "fff5f355",
   "metadata": {},
   "outputs": [
    {
     "ename": "NameError",
     "evalue": "name 'result' is not defined",
     "output_type": "error",
     "traceback": [
      "\u001b[0;31m---------------------------------------------------------------------------\u001b[0m",
      "\u001b[0;31mNameError\u001b[0m                                 Traceback (most recent call last)",
      "Cell \u001b[0;32mIn[98], line 1\u001b[0m\n\u001b[0;32m----> 1\u001b[0m \u001b[38;5;28mprint\u001b[39m(\u001b[43mresult\u001b[49m)\n",
      "\u001b[0;31mNameError\u001b[0m: name 'result' is not defined"
     ]
    }
   ],
   "source": [
    "print(result)"
   ]
  },
  {
   "cell_type": "code",
   "execution_count": 100,
   "id": "dde94ffb",
   "metadata": {},
   "outputs": [
    {
     "name": "stdout",
     "output_type": "stream",
     "text": [
      "1\n"
     ]
    }
   ],
   "source": [
    "def test():\n",
    "    a = 1\n",
    "    return a\n",
    "\n",
    "print(test())"
   ]
  },
  {
   "cell_type": "code",
   "execution_count": 101,
   "id": "35cc1e4d",
   "metadata": {},
   "outputs": [
    {
     "ename": "NameError",
     "evalue": "name 'a' is not defined",
     "output_type": "error",
     "traceback": [
      "\u001b[0;31m---------------------------------------------------------------------------\u001b[0m",
      "\u001b[0;31mNameError\u001b[0m                                 Traceback (most recent call last)",
      "Cell \u001b[0;32mIn[101], line 1\u001b[0m\n\u001b[0;32m----> 1\u001b[0m \u001b[43ma\u001b[49m\n",
      "\u001b[0;31mNameError\u001b[0m: name 'a' is not defined"
     ]
    }
   ],
   "source": [
    "a"
   ]
  },
  {
   "cell_type": "code",
   "execution_count": 106,
   "id": "e29ef7d5",
   "metadata": {},
   "outputs": [
    {
     "name": "stdout",
     "output_type": "stream",
     "text": [
      "4\n",
      "1\n"
     ]
    }
   ],
   "source": [
    "for i in range(0,5):\n",
    "    a = 1\n",
    "\n",
    "print(i)\n",
    "print(a)"
   ]
  },
  {
   "cell_type": "code",
   "execution_count": 107,
   "id": "8f5f6e05",
   "metadata": {},
   "outputs": [
    {
     "name": "stdout",
     "output_type": "stream",
     "text": [
      "Prints the values to a stream, or to sys.stdout by default.\n",
      "\n",
      "  sep\n",
      "    string inserted between values, default a space.\n",
      "  end\n",
      "    string appended after the last value, default a newline.\n",
      "  file\n",
      "    a file-like object (stream); defaults to the current sys.stdout.\n",
      "  flush\n",
      "    whether to forcibly flush the stream.\n"
     ]
    }
   ],
   "source": [
    "print(print.__doc__)"
   ]
  },
  {
   "cell_type": "code",
   "execution_count": 108,
   "id": "d5dfa792",
   "metadata": {},
   "outputs": [
    {
     "name": "stdout",
     "output_type": "stream",
     "text": [
      "Return the number of items in a container.\n"
     ]
    }
   ],
   "source": [
    "print(len.__doc__)"
   ]
  },
  {
   "cell_type": "code",
   "execution_count": 109,
   "id": "aac60e28",
   "metadata": {},
   "outputs": [
    {
     "name": "stdout",
     "output_type": "stream",
     "text": [
      "Return the absolute value of the argument.\n"
     ]
    }
   ],
   "source": [
    "print(abs.__doc__)"
   ]
  },
  {
   "cell_type": "code",
   "execution_count": null,
   "id": "c64a3e1e",
   "metadata": {},
   "outputs": [
    {
     "name": "stdout",
     "output_type": "stream",
     "text": [
      "This function returns \n",
      "the absolute value of entered number\n"
     ]
    },
    {
     "data": {
      "text/plain": [
       "9"
      ]
     },
     "execution_count": 118,
     "metadata": {},
     "output_type": "execute_result"
    }
   ],
   "source": [
    "def absolute_valuue(num):\n",
    "    \"\"\"This function returns \n",
    "    the absolute value of entered number\"\"\"\n",
    "    return num if num >= 0 else -num\n",
    "\n",
    "    \n",
    "print(absolute_valuue.__doc__)\n",
    "absolute_valuue(9)"
   ]
  },
  {
   "cell_type": "code",
   "execution_count": 119,
   "id": "9b167066",
   "metadata": {},
   "outputs": [
    {
     "name": "stdout",
     "output_type": "stream",
     "text": [
      "Help on function absolute_valuue in module __main__:\n",
      "\n",
      "absolute_valuue(num)\n",
      "    This function returns\n",
      "    the absolute value of entered number\n",
      "\n"
     ]
    }
   ],
   "source": [
    "help(absolute_valuue)"
   ]
  },
  {
   "cell_type": "code",
   "execution_count": 123,
   "id": "5a1ecdab",
   "metadata": {},
   "outputs": [
    {
     "name": "stdout",
     "output_type": "stream",
     "text": [
      "Help on module math:\n",
      "\n",
      "NAME\n",
      "    math\n",
      "\n",
      "MODULE REFERENCE\n",
      "    https://docs.python.org/3.13/library/math.html\n",
      "\n",
      "    The following documentation is automatically generated from the Python\n",
      "    source files.  It may be incomplete, incorrect or include features that\n",
      "    are considered implementation detail and may vary between Python\n",
      "    implementations.  When in doubt, consult the module reference at the\n",
      "    location listed above.\n",
      "\n",
      "DESCRIPTION\n",
      "    This module provides access to the mathematical functions\n",
      "    defined by the C standard.\n",
      "\n",
      "FUNCTIONS\n",
      "    acos(x, /)\n",
      "        Return the arc cosine (measured in radians) of x.\n",
      "\n",
      "        The result is between 0 and pi.\n",
      "\n",
      "    acosh(x, /)\n",
      "        Return the inverse hyperbolic cosine of x.\n",
      "\n",
      "    asin(x, /)\n",
      "        Return the arc sine (measured in radians) of x.\n",
      "\n",
      "        The result is between -pi/2 and pi/2.\n",
      "\n",
      "    asinh(x, /)\n",
      "        Return the inverse hyperbolic sine of x.\n",
      "\n",
      "    atan(x, /)\n",
      "        Return the arc tangent (measured in radians) of x.\n",
      "\n",
      "        The result is between -pi/2 and pi/2.\n",
      "\n",
      "    atan2(y, x, /)\n",
      "        Return the arc tangent (measured in radians) of y/x.\n",
      "\n",
      "        Unlike atan(y/x), the signs of both x and y are considered.\n",
      "\n",
      "    atanh(x, /)\n",
      "        Return the inverse hyperbolic tangent of x.\n",
      "\n",
      "    cbrt(x, /)\n",
      "        Return the cube root of x.\n",
      "\n",
      "    ceil(x, /)\n",
      "        Return the ceiling of x as an Integral.\n",
      "\n",
      "        This is the smallest integer >= x.\n",
      "\n",
      "    comb(n, k, /)\n",
      "        Number of ways to choose k items from n items without repetition and without order.\n",
      "\n",
      "        Evaluates to n! / (k! * (n - k)!) when k <= n and evaluates\n",
      "        to zero when k > n.\n",
      "\n",
      "        Also called the binomial coefficient because it is equivalent\n",
      "        to the coefficient of k-th term in polynomial expansion of the\n",
      "        expression (1 + x)**n.\n",
      "\n",
      "        Raises TypeError if either of the arguments are not integers.\n",
      "        Raises ValueError if either of the arguments are negative.\n",
      "\n",
      "    copysign(x, y, /)\n",
      "        Return a float with the magnitude (absolute value) of x but the sign of y.\n",
      "\n",
      "        On platforms that support signed zeros, copysign(1.0, -0.0)\n",
      "        returns -1.0.\n",
      "\n",
      "    cos(x, /)\n",
      "        Return the cosine of x (measured in radians).\n",
      "\n",
      "    cosh(x, /)\n",
      "        Return the hyperbolic cosine of x.\n",
      "\n",
      "    degrees(x, /)\n",
      "        Convert angle x from radians to degrees.\n",
      "\n",
      "    dist(p, q, /)\n",
      "        Return the Euclidean distance between two points p and q.\n",
      "\n",
      "        The points should be specified as sequences (or iterables) of\n",
      "        coordinates.  Both inputs must have the same dimension.\n",
      "\n",
      "        Roughly equivalent to:\n",
      "            sqrt(sum((px - qx) ** 2.0 for px, qx in zip(p, q)))\n",
      "\n",
      "    erf(x, /)\n",
      "        Error function at x.\n",
      "\n",
      "    erfc(x, /)\n",
      "        Complementary error function at x.\n",
      "\n",
      "    exp(x, /)\n",
      "        Return e raised to the power of x.\n",
      "\n",
      "    exp2(x, /)\n",
      "        Return 2 raised to the power of x.\n",
      "\n",
      "    expm1(x, /)\n",
      "        Return exp(x)-1.\n",
      "\n",
      "        This function avoids the loss of precision involved in the direct evaluation of exp(x)-1 for small x.\n",
      "\n",
      "    fabs(x, /)\n",
      "        Return the absolute value of the float x.\n",
      "\n",
      "    factorial(n, /)\n",
      "        Find n!.\n",
      "\n",
      "        Raise a ValueError if x is negative or non-integral.\n",
      "\n",
      "    floor(x, /)\n",
      "        Return the floor of x as an Integral.\n",
      "\n",
      "        This is the largest integer <= x.\n",
      "\n",
      "    fma(x, y, z, /)\n",
      "        Fused multiply-add operation.\n",
      "\n",
      "        Compute (x * y) + z with a single round.\n",
      "\n",
      "    fmod(x, y, /)\n",
      "        Return fmod(x, y), according to platform C.\n",
      "\n",
      "        x % y may differ.\n",
      "\n",
      "    frexp(x, /)\n",
      "        Return the mantissa and exponent of x, as pair (m, e).\n",
      "\n",
      "        m is a float and e is an int, such that x = m * 2.**e.\n",
      "        If x is 0, m and e are both 0.  Else 0.5 <= abs(m) < 1.0.\n",
      "\n",
      "    fsum(seq, /)\n",
      "        Return an accurate floating-point sum of values in the iterable seq.\n",
      "\n",
      "        Assumes IEEE-754 floating-point arithmetic.\n",
      "\n",
      "    gamma(x, /)\n",
      "        Gamma function at x.\n",
      "\n",
      "    gcd(*integers)\n",
      "        Greatest Common Divisor.\n",
      "\n",
      "    hypot(...)\n",
      "        hypot(*coordinates) -> value\n",
      "\n",
      "        Multidimensional Euclidean distance from the origin to a point.\n",
      "\n",
      "        Roughly equivalent to:\n",
      "            sqrt(sum(x**2 for x in coordinates))\n",
      "\n",
      "        For a two dimensional point (x, y), gives the hypotenuse\n",
      "        using the Pythagorean theorem:  sqrt(x*x + y*y).\n",
      "\n",
      "        For example, the hypotenuse of a 3/4/5 right triangle is:\n",
      "\n",
      "            >>> hypot(3.0, 4.0)\n",
      "            5.0\n",
      "\n",
      "    isclose(a, b, *, rel_tol=1e-09, abs_tol=0.0)\n",
      "        Determine whether two floating-point numbers are close in value.\n",
      "\n",
      "          rel_tol\n",
      "            maximum difference for being considered \"close\", relative to the\n",
      "            magnitude of the input values\n",
      "          abs_tol\n",
      "            maximum difference for being considered \"close\", regardless of the\n",
      "            magnitude of the input values\n",
      "\n",
      "        Return True if a is close in value to b, and False otherwise.\n",
      "\n",
      "        For the values to be considered close, the difference between them\n",
      "        must be smaller than at least one of the tolerances.\n",
      "\n",
      "        -inf, inf and NaN behave similarly to the IEEE 754 Standard.  That\n",
      "        is, NaN is not close to anything, even itself.  inf and -inf are\n",
      "        only close to themselves.\n",
      "\n",
      "    isfinite(x, /)\n",
      "        Return True if x is neither an infinity nor a NaN, and False otherwise.\n",
      "\n",
      "    isinf(x, /)\n",
      "        Return True if x is a positive or negative infinity, and False otherwise.\n",
      "\n",
      "    isnan(x, /)\n",
      "        Return True if x is a NaN (not a number), and False otherwise.\n",
      "\n",
      "    isqrt(n, /)\n",
      "        Return the integer part of the square root of the input.\n",
      "\n",
      "    lcm(*integers)\n",
      "        Least Common Multiple.\n",
      "\n",
      "    ldexp(x, i, /)\n",
      "        Return x * (2**i).\n",
      "\n",
      "        This is essentially the inverse of frexp().\n",
      "\n",
      "    lgamma(x, /)\n",
      "        Natural logarithm of absolute value of Gamma function at x.\n",
      "\n",
      "    log(...)\n",
      "        log(x, [base=math.e])\n",
      "        Return the logarithm of x to the given base.\n",
      "\n",
      "        If the base is not specified, returns the natural logarithm (base e) of x.\n",
      "\n",
      "    log10(x, /)\n",
      "        Return the base 10 logarithm of x.\n",
      "\n",
      "    log1p(x, /)\n",
      "        Return the natural logarithm of 1+x (base e).\n",
      "\n",
      "        The result is computed in a way which is accurate for x near zero.\n",
      "\n",
      "    log2(x, /)\n",
      "        Return the base 2 logarithm of x.\n",
      "\n",
      "    modf(x, /)\n",
      "        Return the fractional and integer parts of x.\n",
      "\n",
      "        Both results carry the sign of x and are floats.\n",
      "\n",
      "    nextafter(x, y, /, *, steps=None)\n",
      "        Return the floating-point value the given number of steps after x towards y.\n",
      "\n",
      "        If steps is not specified or is None, it defaults to 1.\n",
      "\n",
      "        Raises a TypeError, if x or y is not a double, or if steps is not an integer.\n",
      "        Raises ValueError if steps is negative.\n",
      "\n",
      "    perm(n, k=None, /)\n",
      "        Number of ways to choose k items from n items without repetition and with order.\n",
      "\n",
      "        Evaluates to n! / (n - k)! when k <= n and evaluates\n",
      "        to zero when k > n.\n",
      "\n",
      "        If k is not specified or is None, then k defaults to n\n",
      "        and the function returns n!.\n",
      "\n",
      "        Raises TypeError if either of the arguments are not integers.\n",
      "        Raises ValueError if either of the arguments are negative.\n",
      "\n",
      "    pow(x, y, /)\n",
      "        Return x**y (x to the power of y).\n",
      "\n",
      "    prod(iterable, /, *, start=1)\n",
      "        Calculate the product of all the elements in the input iterable.\n",
      "\n",
      "        The default start value for the product is 1.\n",
      "\n",
      "        When the iterable is empty, return the start value.  This function is\n",
      "        intended specifically for use with numeric values and may reject\n",
      "        non-numeric types.\n",
      "\n",
      "    radians(x, /)\n",
      "        Convert angle x from degrees to radians.\n",
      "\n",
      "    remainder(x, y, /)\n",
      "        Difference between x and the closest integer multiple of y.\n",
      "\n",
      "        Return x - n*y where n*y is the closest integer multiple of y.\n",
      "        In the case where x is exactly halfway between two multiples of\n",
      "        y, the nearest even value of n is used. The result is always exact.\n",
      "\n",
      "    sin(x, /)\n",
      "        Return the sine of x (measured in radians).\n",
      "\n",
      "    sinh(x, /)\n",
      "        Return the hyperbolic sine of x.\n",
      "\n",
      "    sqrt(x, /)\n",
      "        Return the square root of x.\n",
      "\n",
      "    sumprod(p, q, /)\n",
      "        Return the sum of products of values from two iterables p and q.\n",
      "\n",
      "        Roughly equivalent to:\n",
      "\n",
      "            sum(itertools.starmap(operator.mul, zip(p, q, strict=True)))\n",
      "\n",
      "        For float and mixed int/float inputs, the intermediate products\n",
      "        and sums are computed with extended precision.\n",
      "\n",
      "    tan(x, /)\n",
      "        Return the tangent of x (measured in radians).\n",
      "\n",
      "    tanh(x, /)\n",
      "        Return the hyperbolic tangent of x.\n",
      "\n",
      "    trunc(x, /)\n",
      "        Truncates the Real x to the nearest Integral toward 0.\n",
      "\n",
      "        Uses the __trunc__ magic method.\n",
      "\n",
      "    ulp(x, /)\n",
      "        Return the value of the least significant bit of the float x.\n",
      "\n",
      "DATA\n",
      "    e = 2.718281828459045\n",
      "    inf = inf\n",
      "    nan = nan\n",
      "    pi = 3.141592653589793\n",
      "    tau = 6.283185307179586\n",
      "\n",
      "FILE\n",
      "    /Library/Frameworks/Python.framework/Versions/3.13/lib/python3.13/lib-dynload/math.cpython-313-darwin.so\n",
      "\n",
      "\n"
     ]
    }
   ],
   "source": [
    "import math\n",
    "help(math)"
   ]
  },
  {
   "cell_type": "code",
   "execution_count": 126,
   "id": "e7f30e52",
   "metadata": {},
   "outputs": [
    {
     "data": {
      "text/plain": [
       "7.5"
      ]
     },
     "execution_count": 126,
     "metadata": {},
     "output_type": "execute_result"
    }
   ],
   "source": [
    "abs(-7.5)"
   ]
  },
  {
   "cell_type": "code",
   "execution_count": null,
   "id": "0d9056d7",
   "metadata": {},
   "outputs": [
    {
     "data": {
      "text/plain": [
       "7.0"
      ]
     },
     "execution_count": 128,
     "metadata": {},
     "output_type": "execute_result"
    }
   ],
   "source": [
    "math.fabs(-7.5)"
   ]
  },
  {
   "cell_type": "code",
   "execution_count": 130,
   "id": "a4ff6406",
   "metadata": {},
   "outputs": [
    {
     "data": {
      "text/plain": [
       "'Return the absolute value of the float x.'"
      ]
     },
     "execution_count": 130,
     "metadata": {},
     "output_type": "execute_result"
    }
   ],
   "source": [
    "math.fabs.__doc__"
   ]
  },
  {
   "cell_type": "code",
   "execution_count": 134,
   "id": "dfd4a308",
   "metadata": {},
   "outputs": [
    {
     "name": "stdout",
     "output_type": "stream",
     "text": [
      "i love you\n"
     ]
    }
   ],
   "source": [
    "def texter(text1,text2,text3):\n",
    "    print(f\"{text2} {text3} {text1}\")\n",
    "\n",
    "a = \"i\"\n",
    "b = \"love\"\n",
    "c = \"you\"\n",
    "\n",
    "texter(c,a,b)"
   ]
  },
  {
   "cell_type": "code",
   "execution_count": 135,
   "id": "3f57bcdb",
   "metadata": {},
   "outputs": [
    {
     "name": "stdout",
     "output_type": "stream",
     "text": [
      "Your first name is : Murat\n",
      "Your last name is : Kutlutuna\n"
     ]
    }
   ],
   "source": [
    "def who(first,last):\n",
    "    print('Your first name is :',first)\n",
    "    print('Your last name is :',last)\n",
    "who(first=\"Murat\",last=\"Kutlutuna\")"
   ]
  },
  {
   "cell_type": "code",
   "execution_count": 137,
   "id": "b05dd025",
   "metadata": {},
   "outputs": [
    {
     "name": "stdout",
     "output_type": "stream",
     "text": [
      "i you love\n"
     ]
    }
   ],
   "source": [
    "texter(text2=a,text3=c,text1=b)"
   ]
  },
  {
   "cell_type": "code",
   "execution_count": 139,
   "id": "d2c4dc9a",
   "metadata": {},
   "outputs": [],
   "source": [
    "def func_default(x=\"ali\",y=11):\n",
    "    print(x,y)\n"
   ]
  },
  {
   "cell_type": "code",
   "execution_count": 141,
   "id": "05536108",
   "metadata": {},
   "outputs": [
    {
     "name": "stdout",
     "output_type": "stream",
     "text": [
      "andrew is 40 years old\n"
     ]
    }
   ],
   "source": [
    "def func_default2(name=\"someone\",age=45):\n",
    "    print(f\"{name} is {age} years old\")\n",
    "func_default2(\"andrew\", 40)"
   ]
  },
  {
   "cell_type": "code",
   "execution_count": 145,
   "id": "da0fcfec",
   "metadata": {},
   "outputs": [
    {
     "name": "stdout",
     "output_type": "stream",
     "text": [
      "someone is 45 years old\n"
     ]
    }
   ],
   "source": [
    "func_default2()"
   ]
  },
  {
   "cell_type": "code",
   "execution_count": 150,
   "id": "9dc43098",
   "metadata": {},
   "outputs": [
    {
     "name": "stdout",
     "output_type": "stream",
     "text": [
      "-- This parrot wouldn't voom if you put 1000 volts through it.\n",
      "-- Lovely plumage, the Norwegian Blue\n",
      "-- It's a stiff !\n",
      "\n",
      "-- This parrot wouldn't voom if you put 1000 volts through it.\n",
      "-- Lovely plumage, the Norwegian Blue\n",
      "-- It's a stiff !\n",
      "\n",
      "-- This parrot wouldn't VOOOOOM if you put 1000000 volts through it.\n",
      "-- Lovely plumage, the Norwegian Blue\n",
      "-- It's a stiff !\n",
      "\n",
      "-- This parrot wouldn't VOOOOOM if you put 1000000 volts through it.\n",
      "-- Lovely plumage, the Norwegian Blue\n",
      "-- It's a stiff !\n",
      "\n",
      "-- This parrot wouldn't jump if you put a million volts through it.\n",
      "-- Lovely plumage, the Norwegian Blue\n",
      "-- It's bereft of life !\n",
      "\n",
      "-- This parrot wouldn't voom if you put a thousand volts through it.\n",
      "-- Lovely plumage, the Norwegian Blue\n",
      "-- It's pushing up the daisies !\n",
      "\n"
     ]
    }
   ],
   "source": [
    "def parrot(voltage, state='a stiff', action='voom', type='Norwegian Blue'):\n",
    "    print(\"-- This parrot wouldn't\", action, end=' ')\n",
    "    print(\"if you put\", voltage, \"volts through it.\")\n",
    "    print(\"-- Lovely plumage, the\", type)\n",
    "    print(\"-- It's\", state, \"!\")\n",
    "    print()\n",
    "\n",
    "parrot(1000)                                          # 1 positional argument\n",
    "parrot(voltage=1000)                                  # 1 keyword argument\n",
    "parrot(voltage=1000000, action='VOOOOOM')             # 2 keyword arguments\n",
    "parrot(action='VOOOOOM', voltage=1000000)             # 2 keyword arguments\n",
    "parrot('a million', 'bereft of life', 'jump')         # 3 positional arguments\n",
    "parrot('a thousand', state='pushing up the daisies')  # 1 positional, 1 keyword"
   ]
  },
  {
   "cell_type": "code",
   "execution_count": null,
   "id": "976e4dfa",
   "metadata": {},
   "outputs": [],
   "source": []
  },
  {
   "cell_type": "code",
   "execution_count": null,
   "id": "75b3d154",
   "metadata": {},
   "outputs": [],
   "source": []
  }
 ],
 "metadata": {
  "kernelspec": {
   "display_name": "Python 3",
   "language": "python",
   "name": "python3"
  },
  "language_info": {
   "codemirror_mode": {
    "name": "ipython",
    "version": 3
   },
   "file_extension": ".py",
   "mimetype": "text/x-python",
   "name": "python",
   "nbconvert_exporter": "python",
   "pygments_lexer": "ipython3",
   "version": "3.13.2"
  }
 },
 "nbformat": 4,
 "nbformat_minor": 5
}
