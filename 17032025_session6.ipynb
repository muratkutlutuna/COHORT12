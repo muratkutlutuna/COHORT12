{
 "cells": [
  {
   "cell_type": "code",
   "execution_count": 1,
   "metadata": {},
   "outputs": [],
   "source": [
    "var = \"clarus\"\n",
    "var = var + \"way\""
   ]
  },
  {
   "cell_type": "code",
   "execution_count": 2,
   "metadata": {},
   "outputs": [
    {
     "data": {
      "text/plain": [
       "'clarusway'"
      ]
     },
     "execution_count": 2,
     "metadata": {},
     "output_type": "execute_result"
    }
   ],
   "source": [
    "var"
   ]
  },
  {
   "cell_type": "code",
   "execution_count": 3,
   "metadata": {},
   "outputs": [
    {
     "data": {
      "text/plain": [
       "'clarusway'"
      ]
     },
     "execution_count": 3,
     "metadata": {},
     "output_type": "execute_result"
    }
   ],
   "source": [
    "var = \"clarus\"\n",
    "var += \"way\"\n",
    "var"
   ]
  },
  {
   "cell_type": "code",
   "execution_count": 4,
   "metadata": {},
   "outputs": [
    {
     "data": {
      "text/plain": [
       "123"
      ]
     },
     "execution_count": 4,
     "metadata": {},
     "output_type": "execute_result"
    }
   ],
   "source": [
    "var = 123\n",
    "var"
   ]
  },
  {
   "cell_type": "code",
   "execution_count": 5,
   "metadata": {},
   "outputs": [
    {
     "data": {
      "text/plain": [
       "125"
      ]
     },
     "execution_count": 5,
     "metadata": {},
     "output_type": "execute_result"
    }
   ],
   "source": [
    "var += 2\n",
    "var"
   ]
  },
  {
   "cell_type": "code",
   "execution_count": 29,
   "metadata": {},
   "outputs": [
    {
     "name": "stdout",
     "output_type": "stream",
     "text": [
      "Hello  \n"
     ]
    }
   ],
   "source": [
    "text = \"Hello  \"\n",
    "text = text.strip(\"\\t\")\n",
    "print(text)"
   ]
  },
  {
   "cell_type": "code",
   "execution_count": 1,
   "metadata": {},
   "outputs": [
    {
     "name": "stdout",
     "output_type": "stream",
     "text": [
      "['h', 'a', 'p', 'p', 'y']\n",
      "['h', 'a', 'p', 'p', 'y']\n"
     ]
    }
   ],
   "source": [
    "list_1 = ['h','a','p','p','y']\n",
    "word = \"happy\"\n",
    "list_2 = list(word)\n",
    "print(list_1)\n",
    "print(list_2)"
   ]
  },
  {
   "cell_type": "code",
   "execution_count": 2,
   "metadata": {},
   "outputs": [
    {
     "name": "stdout",
     "output_type": "stream",
     "text": [
      "h\n",
      "a\n",
      "p\n",
      "p\n",
      "y\n"
     ]
    }
   ],
   "source": [
    "for letter in word:\n",
    "    print(letter)"
   ]
  },
  {
   "cell_type": "code",
   "execution_count": 9,
   "metadata": {},
   "outputs": [
    {
     "name": "stdout",
     "output_type": "stream",
     "text": [
      "1\n",
      "2\n",
      "3\n",
      "4\n",
      "5\n"
     ]
    }
   ],
   "source": [
    "for digit in \"12345\":\n",
    "    print(digit)"
   ]
  },
  {
   "cell_type": "code",
   "execution_count": 10,
   "metadata": {},
   "outputs": [
    {
     "name": "stdout",
     "output_type": "stream",
     "text": [
      "['USA', 'Brasil', 'UK', 'GermanyTurkey', 'New Zeeland']\n"
     ]
    }
   ],
   "source": [
    "country =['USA', 'Brasil', 'UK', 'Germany' 'Turkey', 'New Zeeland']\n",
    "print(country)"
   ]
  },
  {
   "cell_type": "code",
   "execution_count": 12,
   "metadata": {},
   "outputs": [
    {
     "ename": "ValueError",
     "evalue": "empty separator",
     "output_type": "error",
     "traceback": [
      "\u001b[0;31m---------------------------------------------------------------------------\u001b[0m",
      "\u001b[0;31mValueError\u001b[0m                                Traceback (most recent call last)",
      "Cell \u001b[0;32mIn[12], line 2\u001b[0m\n\u001b[1;32m      1\u001b[0m string_1 \u001b[38;5;241m=\u001b[39m \u001b[38;5;124m\"\u001b[39m\u001b[38;5;124mI quit smoking\u001b[39m\u001b[38;5;124m\"\u001b[39m\n\u001b[0;32m----> 2\u001b[0m new_list_1 \u001b[38;5;241m=\u001b[39m \u001b[43mstring_1\u001b[49m\u001b[38;5;241;43m.\u001b[39;49m\u001b[43msplit\u001b[49m\u001b[43m(\u001b[49m\u001b[38;5;124;43m\"\u001b[39;49m\u001b[38;5;124;43m\"\u001b[39;49m\u001b[43m)\u001b[49m\n\u001b[1;32m      3\u001b[0m \u001b[38;5;28mprint\u001b[39m(new_list_1)\n",
      "\u001b[0;31mValueError\u001b[0m: empty separator"
     ]
    }
   ],
   "source": [
    "string_1 = \"I quit smoking\"\n",
    "new_list_1 = string_1.split(\"\")\n",
    "print(new_list_1)"
   ]
  },
  {
   "cell_type": "code",
   "execution_count": 13,
   "metadata": {},
   "outputs": [
    {
     "data": {
      "text/plain": [
       "[11, 'Joseph', False, 3.14, None, [1, 2, 3], {1: 2}, (12, 3), {1, 2, 3}]"
      ]
     },
     "execution_count": 13,
     "metadata": {},
     "output_type": "execute_result"
    }
   ],
   "source": [
    "mixed_list = [11, 'Joseph', False, 3.14, None, [1, 2, 3], {1:2}, (12,3), {1, 2, 3}]\n",
    "mixed_list"
   ]
  },
  {
   "cell_type": "code",
   "execution_count": 14,
   "metadata": {},
   "outputs": [
    {
     "data": {
      "text/plain": [
       "9"
      ]
     },
     "execution_count": 14,
     "metadata": {},
     "output_type": "execute_result"
    }
   ],
   "source": [
    "len(mixed_list)"
   ]
  },
  {
   "cell_type": "code",
   "execution_count": 15,
   "metadata": {},
   "outputs": [
    {
     "name": "stdout",
     "output_type": "stream",
     "text": [
      "['Joseph', 'Clarusway', 2020]\n",
      "3\n",
      "[['Joseph', 'Clarusway', 2020]]\n",
      "1\n"
     ]
    }
   ],
   "source": [
    "my_list = ['Joseph', 'Clarusway', 2020]\n",
    "new_list_1 = list(my_list)\n",
    "new_list_2 = [my_list]\n",
    "print(new_list_1)\n",
    "print(len(new_list_1))\n",
    "print(new_list_2)\n",
    "print(len(new_list_2))"
   ]
  },
  {
   "cell_type": "code",
   "execution_count": 16,
   "metadata": {},
   "outputs": [
    {
     "name": "stdout",
     "output_type": "stream",
     "text": [
      "Joseph\n",
      "Clarusway\n",
      "2020\n"
     ]
    }
   ],
   "source": [
    "for element in my_list:\n",
    "    print(element)"
   ]
  },
  {
   "cell_type": "code",
   "execution_count": 17,
   "metadata": {},
   "outputs": [
    {
     "data": {
      "text/plain": [
       "1"
      ]
     },
     "execution_count": 17,
     "metadata": {},
     "output_type": "execute_result"
    }
   ],
   "source": [
    "my_string = ['Joseph']\n",
    "len(my_string)"
   ]
  },
  {
   "cell_type": "code",
   "execution_count": 18,
   "metadata": {},
   "outputs": [
    {
     "data": {
      "text/plain": [
       "list"
      ]
     },
     "execution_count": 18,
     "metadata": {},
     "output_type": "execute_result"
    }
   ],
   "source": [
    "type(my_string)"
   ]
  },
  {
   "cell_type": "code",
   "execution_count": 19,
   "metadata": {},
   "outputs": [
    {
     "name": "stdout",
     "output_type": "stream",
     "text": [
      "Joseph\n"
     ]
    }
   ],
   "source": [
    "for i in my_string:\n",
    "    print(i)"
   ]
  },
  {
   "cell_type": "code",
   "execution_count": 21,
   "metadata": {},
   "outputs": [
    {
     "name": "stdout",
     "output_type": "stream",
     "text": [
      "[\"2020's hard\"] <class 'list'> 1\n",
      "['2', '0', '2', '0', \"'\", 's', ' ', 'h', 'a', 'r', 'd'] <class 'list'> 11\n"
     ]
    }
   ],
   "source": [
    "list1 = [\"2020's hard\"]\n",
    "list2 = list(\"2020's hard\")\n",
    "print(list1,type(list1),len(list1))\n",
    "print(list2,type(list2),len(list2))"
   ]
  },
  {
   "cell_type": "code",
   "execution_count": 22,
   "metadata": {},
   "outputs": [
    {
     "name": "stdout",
     "output_type": "stream",
     "text": [
      "[] <class 'list'> 0\n",
      "[] <class 'list'> 0\n"
     ]
    }
   ],
   "source": [
    "empty_list1 = []\n",
    "empty_list2 = list()\n",
    "print(empty_list1,type(empty_list1),len(empty_list1))\n",
    "print(empty_list2,type(empty_list2),len(empty_list2))"
   ]
  },
  {
   "cell_type": "code",
   "execution_count": 23,
   "metadata": {},
   "outputs": [
    {
     "name": "stdout",
     "output_type": "stream",
     "text": [
      "True\n"
     ]
    }
   ],
   "source": [
    "print(empty_list1==empty_list2)"
   ]
  },
  {
   "cell_type": "code",
   "execution_count": 24,
   "metadata": {},
   "outputs": [
    {
     "name": "stdout",
     "output_type": "stream",
     "text": [
      "False\n"
     ]
    }
   ],
   "source": [
    "print(list1==list2)"
   ]
  },
  {
   "cell_type": "code",
   "execution_count": 25,
   "metadata": {},
   "outputs": [
    {
     "name": "stdout",
     "output_type": "stream",
     "text": [
      "[1, 4, 7, 9, '9']\n"
     ]
    }
   ],
   "source": [
    "numbers = [1, 4, 7]\n",
    "numbers.append(9)\n",
    "numbers.append('9')\n",
    "print(numbers)"
   ]
  },
  {
   "cell_type": "code",
   "execution_count": 29,
   "metadata": {},
   "outputs": [
    {
     "name": "stdout",
     "output_type": "stream",
     "text": [
      "None\n",
      "[]\n"
     ]
    }
   ],
   "source": [
    "numbers = [1, 4, 7]\n",
    "numbers = print(numbers.append(9))\n",
    "numbers = []\n",
    "numbers = numbers.append('9')\n",
    "numbers = []\n",
    "print(numbers)"
   ]
  },
  {
   "cell_type": "code",
   "execution_count": null,
   "metadata": {},
   "outputs": [
    {
     "name": "stdout",
     "output_type": "stream",
     "text": [
      "test\n"
     ]
    }
   ],
   "source": [
    "str_1 = \"test\"\n",
    "str_1.upper()\n",
    "str_1.replace(\"T\",\"a\")\n",
    "print(str_1)"
   ]
  },
  {
   "cell_type": "code",
   "execution_count": 32,
   "metadata": {},
   "outputs": [
    {
     "name": "stdout",
     "output_type": "stream",
     "text": [
      "aESa\n"
     ]
    }
   ],
   "source": [
    "str_1 = \"test\"\n",
    "str_1 = str_1.upper()\n",
    "str_1 = str_1.replace(\"T\",\"a\")\n",
    "print(str_1)\n"
   ]
  },
  {
   "cell_type": "code",
   "execution_count": 33,
   "metadata": {},
   "outputs": [
    {
     "ename": "TypeError",
     "evalue": "list.append() takes exactly one argument (0 given)",
     "output_type": "error",
     "traceback": [
      "\u001b[0;31m---------------------------------------------------------------------------\u001b[0m",
      "\u001b[0;31mTypeError\u001b[0m                                 Traceback (most recent call last)",
      "Cell \u001b[0;32mIn[33], line 1\u001b[0m\n\u001b[0;32m----> 1\u001b[0m \u001b[43m[\u001b[49m\u001b[43m]\u001b[49m\u001b[38;5;241;43m.\u001b[39;49m\u001b[43mappend\u001b[49m\u001b[43m(\u001b[49m\u001b[43m)\u001b[49m\n",
      "\u001b[0;31mTypeError\u001b[0m: list.append() takes exactly one argument (0 given)"
     ]
    }
   ],
   "source": [
    "[].append()"
   ]
  },
  {
   "cell_type": "code",
   "execution_count": 34,
   "metadata": {},
   "outputs": [
    {
     "ename": "TypeError",
     "evalue": "list.append() takes exactly one argument (2 given)",
     "output_type": "error",
     "traceback": [
      "\u001b[0;31m---------------------------------------------------------------------------\u001b[0m",
      "\u001b[0;31mTypeError\u001b[0m                                 Traceback (most recent call last)",
      "Cell \u001b[0;32mIn[34], line 1\u001b[0m\n\u001b[0;32m----> 1\u001b[0m \u001b[43m[\u001b[49m\u001b[43m]\u001b[49m\u001b[38;5;241;43m.\u001b[39;49m\u001b[43mappend\u001b[49m\u001b[43m(\u001b[49m\u001b[38;5;241;43m1\u001b[39;49m\u001b[43m,\u001b[49m\u001b[38;5;241;43m2\u001b[39;49m\u001b[43m)\u001b[49m\n",
      "\u001b[0;31mTypeError\u001b[0m: list.append() takes exactly one argument (2 given)"
     ]
    }
   ],
   "source": [
    "[].append(1,2)"
   ]
  },
  {
   "cell_type": "code",
   "execution_count": 41,
   "metadata": {},
   "outputs": [
    {
     "name": "stdout",
     "output_type": "stream",
     "text": [
      "[[1, 2]]\n"
     ]
    }
   ],
   "source": [
    "list1 = []\n",
    "list1.append([1,2])\n",
    "print(list1)"
   ]
  },
  {
   "cell_type": "code",
   "execution_count": 42,
   "metadata": {},
   "outputs": [
    {
     "name": "stdout",
     "output_type": "stream",
     "text": [
      "['istanbul', 'ankara', 'Stockholm', 'izmir']\n"
     ]
    }
   ],
   "source": [
    "city = [\"istanbul\", \"ankara\", \"izmir\"]\n",
    "city.insert(2,\"Stockholm\")\n",
    "print(city)"
   ]
  },
  {
   "cell_type": "code",
   "execution_count": 44,
   "metadata": {},
   "outputs": [
    {
     "name": "stdout",
     "output_type": "stream",
     "text": [
      "[1, 2, 3, 4, 5]\n"
     ]
    }
   ],
   "source": [
    "list1 = [1,2,3, 4]\n",
    "list1.insert(4,5)\n",
    "print(list1)"
   ]
  },
  {
   "cell_type": "code",
   "execution_count": 45,
   "metadata": {},
   "outputs": [
    {
     "name": "stdout",
     "output_type": "stream",
     "text": [
      "[1, 2, 3, 4, 5]\n"
     ]
    }
   ],
   "source": [
    "list1 = [1,2,3, 4]\n",
    "list1.insert(10,5)\n",
    "print(list1)"
   ]
  },
  {
   "cell_type": "code",
   "execution_count": 48,
   "metadata": {},
   "outputs": [
    {
     "name": "stdout",
     "output_type": "stream",
     "text": [
      "[1, 2, 3, 4, 5]\n"
     ]
    }
   ],
   "source": [
    "list1 = [1,2,3, 4]\n",
    "list1.insert(5,5)\n",
    "print(list1)"
   ]
  },
  {
   "cell_type": "code",
   "execution_count": 49,
   "metadata": {},
   "outputs": [
    {
     "name": "stdout",
     "output_type": "stream",
     "text": [
      "[1, 2, 3, 4]\n"
     ]
    }
   ],
   "source": [
    "a = [1, 2, 3]\n",
    "b = a\n",
    "b.append(4)\n",
    "print(a)\n",
    "\n"
   ]
  },
  {
   "cell_type": "code",
   "execution_count": 56,
   "metadata": {},
   "outputs": [
    {
     "name": "stdout",
     "output_type": "stream",
     "text": [
      "None\n",
      "[1, 7, 9]\n"
     ]
    }
   ],
   "source": [
    "listl = [1, 4, 7, 9]\n",
    "print(listl.remove(4))\n",
    "print(listl)"
   ]
  },
  {
   "cell_type": "code",
   "execution_count": 58,
   "metadata": {},
   "outputs": [
    {
     "name": "stdout",
     "output_type": "stream",
     "text": [
      "['Ankara', 'Istanbul', 'Izmir', 'Stockholm']\n"
     ]
    }
   ],
   "source": [
    "city = ['Istanbul', 'Ankara', 'Stockholm', 'Izmir']\n",
    "city.sort()\n",
    "print(city)"
   ]
  },
  {
   "cell_type": "code",
   "execution_count": 61,
   "metadata": {},
   "outputs": [
    {
     "name": "stdout",
     "output_type": "stream",
     "text": [
      "['a', 'aa', 'aaa', 'ab', 'abbb', 'ba', 'bb', 'c']\n"
     ]
    }
   ],
   "source": [
    "list1 = ['aaa', 'bb', 'ba', 'c', 'aa', 'a', 'abbb', 'ab']\n",
    "list1.sort()\n",
    "print(list1)"
   ]
  },
  {
   "cell_type": "code",
   "execution_count": 68,
   "metadata": {},
   "outputs": [
    {
     "data": {
      "text/plain": [
       "['Ϩ',\n",
       " 'ϩ',\n",
       " 'Ϫ',\n",
       " 'ϫ',\n",
       " 'Ϭ',\n",
       " 'ϭ',\n",
       " 'Ϯ',\n",
       " 'ϯ',\n",
       " 'ϰ',\n",
       " 'ϱ',\n",
       " 'ϲ',\n",
       " 'ϳ',\n",
       " 'ϴ',\n",
       " 'ϵ',\n",
       " '϶',\n",
       " 'Ϸ',\n",
       " 'ϸ',\n",
       " 'Ϲ',\n",
       " 'Ϻ',\n",
       " 'ϻ',\n",
       " 'ϼ',\n",
       " 'Ͻ',\n",
       " 'Ͼ',\n",
       " 'Ͽ',\n",
       " 'Ѐ',\n",
       " 'Ё',\n",
       " 'Ђ',\n",
       " 'Ѓ',\n",
       " 'Є',\n",
       " 'Ѕ',\n",
       " 'І',\n",
       " 'Ї',\n",
       " 'Ј',\n",
       " 'Љ',\n",
       " 'Њ',\n",
       " 'Ћ',\n",
       " 'Ќ',\n",
       " 'Ѝ',\n",
       " 'Ў',\n",
       " 'Џ',\n",
       " 'А',\n",
       " 'Б',\n",
       " 'В',\n",
       " 'Г',\n",
       " 'Д',\n",
       " 'Е',\n",
       " 'Ж',\n",
       " 'З',\n",
       " 'И',\n",
       " 'Й',\n",
       " 'К',\n",
       " 'Л',\n",
       " 'М',\n",
       " 'Н',\n",
       " 'О',\n",
       " 'П',\n",
       " 'Р',\n",
       " 'С',\n",
       " 'Т',\n",
       " 'У',\n",
       " 'Ф',\n",
       " 'Х',\n",
       " 'Ц',\n",
       " 'Ч',\n",
       " 'Ш',\n",
       " 'Щ',\n",
       " 'Ъ',\n",
       " 'Ы',\n",
       " 'Ь',\n",
       " 'Э',\n",
       " 'Ю',\n",
       " 'Я',\n",
       " 'а',\n",
       " 'б',\n",
       " 'в',\n",
       " 'г',\n",
       " 'д',\n",
       " 'е',\n",
       " 'ж',\n",
       " 'з',\n",
       " 'и',\n",
       " 'й',\n",
       " 'к',\n",
       " 'л',\n",
       " 'м',\n",
       " 'н',\n",
       " 'о',\n",
       " 'п',\n",
       " 'р',\n",
       " 'с',\n",
       " 'т',\n",
       " 'у',\n",
       " 'ф',\n",
       " 'х',\n",
       " 'ц',\n",
       " 'ч',\n",
       " 'ш',\n",
       " 'щ',\n",
       " 'ъ',\n",
       " 'ы',\n",
       " 'ь',\n",
       " 'э',\n",
       " 'ю',\n",
       " 'я',\n",
       " 'ѐ',\n",
       " 'ё',\n",
       " 'ђ',\n",
       " 'ѓ',\n",
       " 'є',\n",
       " 'ѕ',\n",
       " 'і',\n",
       " 'ї',\n",
       " 'ј',\n",
       " 'љ',\n",
       " 'њ',\n",
       " 'ћ',\n",
       " 'ќ',\n",
       " 'ѝ',\n",
       " 'ў',\n",
       " 'џ',\n",
       " 'Ѡ',\n",
       " 'ѡ',\n",
       " 'Ѣ',\n",
       " 'ѣ',\n",
       " 'Ѥ',\n",
       " 'ѥ',\n",
       " 'Ѧ',\n",
       " 'ѧ',\n",
       " 'Ѩ',\n",
       " 'ѩ',\n",
       " 'Ѫ',\n",
       " 'ѫ',\n",
       " 'Ѭ',\n",
       " 'ѭ',\n",
       " 'Ѯ',\n",
       " 'ѯ',\n",
       " 'Ѱ',\n",
       " 'ѱ',\n",
       " 'Ѳ',\n",
       " 'ѳ',\n",
       " 'Ѵ',\n",
       " 'ѵ',\n",
       " 'Ѷ',\n",
       " 'ѷ',\n",
       " 'Ѹ',\n",
       " 'ѹ',\n",
       " 'Ѻ',\n",
       " 'ѻ',\n",
       " 'Ѽ',\n",
       " 'ѽ',\n",
       " 'Ѿ',\n",
       " 'ѿ',\n",
       " 'Ҁ',\n",
       " 'ҁ',\n",
       " '҂',\n",
       " '҃',\n",
       " '҄',\n",
       " '҅',\n",
       " '҆',\n",
       " '҇',\n",
       " '҈',\n",
       " '҉',\n",
       " 'Ҋ',\n",
       " 'ҋ',\n",
       " 'Ҍ',\n",
       " 'ҍ',\n",
       " 'Ҏ',\n",
       " 'ҏ',\n",
       " 'Ґ',\n",
       " 'ґ',\n",
       " 'Ғ',\n",
       " 'ғ',\n",
       " 'Ҕ',\n",
       " 'ҕ',\n",
       " 'Җ',\n",
       " 'җ',\n",
       " 'Ҙ',\n",
       " 'ҙ',\n",
       " 'Қ',\n",
       " 'қ',\n",
       " 'Ҝ',\n",
       " 'ҝ',\n",
       " 'Ҟ',\n",
       " 'ҟ',\n",
       " 'Ҡ',\n",
       " 'ҡ',\n",
       " 'Ң',\n",
       " 'ң',\n",
       " 'Ҥ',\n",
       " 'ҥ',\n",
       " 'Ҧ',\n",
       " 'ҧ',\n",
       " 'Ҩ',\n",
       " 'ҩ',\n",
       " 'Ҫ',\n",
       " 'ҫ',\n",
       " 'Ҭ',\n",
       " 'ҭ',\n",
       " 'Ү',\n",
       " 'ү',\n",
       " 'Ұ',\n",
       " 'ұ',\n",
       " 'Ҳ',\n",
       " 'ҳ',\n",
       " 'Ҵ',\n",
       " 'ҵ',\n",
       " 'Ҷ',\n",
       " 'ҷ',\n",
       " 'Ҹ',\n",
       " 'ҹ',\n",
       " 'Һ',\n",
       " 'һ',\n",
       " 'Ҽ',\n",
       " 'ҽ',\n",
       " 'Ҿ',\n",
       " 'ҿ',\n",
       " 'Ӏ',\n",
       " 'Ӂ',\n",
       " 'ӂ',\n",
       " 'Ӄ',\n",
       " 'ӄ',\n",
       " 'Ӆ',\n",
       " 'ӆ',\n",
       " 'Ӈ',\n",
       " 'ӈ',\n",
       " 'Ӊ',\n",
       " 'ӊ',\n",
       " 'Ӌ',\n",
       " 'ӌ',\n",
       " 'Ӎ',\n",
       " 'ӎ',\n",
       " 'ӏ',\n",
       " 'Ӑ',\n",
       " 'ӑ',\n",
       " 'Ӓ',\n",
       " 'ӓ',\n",
       " 'Ӕ',\n",
       " 'ӕ',\n",
       " 'Ӗ',\n",
       " 'ӗ',\n",
       " 'Ә',\n",
       " 'ә',\n",
       " 'Ӛ',\n",
       " 'ӛ',\n",
       " 'Ӝ',\n",
       " 'ӝ',\n",
       " 'Ӟ',\n",
       " 'ӟ',\n",
       " 'Ӡ',\n",
       " 'ӡ',\n",
       " 'Ӣ',\n",
       " 'ӣ',\n",
       " 'Ӥ',\n",
       " 'ӥ',\n",
       " 'Ӧ',\n",
       " 'ӧ',\n",
       " 'Ө',\n",
       " 'ө',\n",
       " 'Ӫ',\n",
       " 'ӫ',\n",
       " 'Ӭ',\n",
       " 'ӭ',\n",
       " 'Ӯ',\n",
       " 'ӯ',\n",
       " 'Ӱ',\n",
       " 'ӱ',\n",
       " 'Ӳ',\n",
       " 'ӳ',\n",
       " 'Ӵ',\n",
       " 'ӵ',\n",
       " 'Ӷ',\n",
       " 'ӷ',\n",
       " 'Ӹ',\n",
       " 'ӹ',\n",
       " 'Ӻ',\n",
       " 'ӻ',\n",
       " 'Ӽ',\n",
       " 'ӽ',\n",
       " 'Ӿ',\n",
       " 'ӿ',\n",
       " 'Ԁ',\n",
       " 'ԁ',\n",
       " 'Ԃ',\n",
       " 'ԃ',\n",
       " 'Ԅ',\n",
       " 'ԅ',\n",
       " 'Ԇ',\n",
       " 'ԇ',\n",
       " 'Ԉ',\n",
       " 'ԉ',\n",
       " 'Ԋ',\n",
       " 'ԋ',\n",
       " 'Ԍ',\n",
       " 'ԍ',\n",
       " 'Ԏ',\n",
       " 'ԏ',\n",
       " 'Ԑ',\n",
       " 'ԑ',\n",
       " 'Ԓ',\n",
       " 'ԓ',\n",
       " 'Ԕ',\n",
       " 'ԕ',\n",
       " 'Ԗ',\n",
       " 'ԗ',\n",
       " 'Ԙ',\n",
       " 'ԙ',\n",
       " 'Ԛ',\n",
       " 'ԛ',\n",
       " 'Ԝ',\n",
       " 'ԝ',\n",
       " 'Ԟ',\n",
       " 'ԟ',\n",
       " 'Ԡ',\n",
       " 'ԡ',\n",
       " 'Ԣ',\n",
       " 'ԣ',\n",
       " 'Ԥ',\n",
       " 'ԥ',\n",
       " 'Ԧ',\n",
       " 'ԧ',\n",
       " 'Ԩ',\n",
       " 'ԩ',\n",
       " 'Ԫ',\n",
       " 'ԫ',\n",
       " 'Ԭ',\n",
       " 'ԭ',\n",
       " 'Ԯ',\n",
       " 'ԯ',\n",
       " '\\u0530',\n",
       " 'Ա',\n",
       " 'Բ',\n",
       " 'Գ',\n",
       " 'Դ',\n",
       " 'Ե',\n",
       " 'Զ',\n",
       " 'Է',\n",
       " 'Ը',\n",
       " 'Թ',\n",
       " 'Ժ',\n",
       " 'Ի',\n",
       " 'Լ',\n",
       " 'Խ',\n",
       " 'Ծ',\n",
       " 'Կ',\n",
       " 'Հ',\n",
       " 'Ձ',\n",
       " 'Ղ',\n",
       " 'Ճ',\n",
       " 'Մ',\n",
       " 'Յ',\n",
       " 'Ն',\n",
       " 'Շ',\n",
       " 'Ո',\n",
       " 'Չ',\n",
       " 'Պ',\n",
       " 'Ջ',\n",
       " 'Ռ',\n",
       " 'Ս',\n",
       " 'Վ',\n",
       " 'Տ',\n",
       " 'Ր',\n",
       " 'Ց',\n",
       " 'Ւ',\n",
       " 'Փ',\n",
       " 'Ք',\n",
       " 'Օ',\n",
       " 'Ֆ',\n",
       " '\\u0557',\n",
       " '\\u0558',\n",
       " 'ՙ',\n",
       " '՚',\n",
       " '՛',\n",
       " '՜',\n",
       " '՝',\n",
       " '՞',\n",
       " '՟',\n",
       " 'ՠ',\n",
       " 'ա',\n",
       " 'բ',\n",
       " 'գ',\n",
       " 'դ',\n",
       " 'ե',\n",
       " 'զ',\n",
       " 'է',\n",
       " 'ը',\n",
       " 'թ',\n",
       " 'ժ',\n",
       " 'ի',\n",
       " 'լ',\n",
       " 'խ',\n",
       " 'ծ',\n",
       " 'կ',\n",
       " 'հ',\n",
       " 'ձ',\n",
       " 'ղ',\n",
       " 'ճ',\n",
       " 'մ',\n",
       " 'յ',\n",
       " 'ն',\n",
       " 'շ',\n",
       " 'ո',\n",
       " 'չ',\n",
       " 'պ',\n",
       " 'ջ',\n",
       " 'ռ',\n",
       " 'ս',\n",
       " 'վ',\n",
       " 'տ',\n",
       " 'ր',\n",
       " 'ց',\n",
       " 'ւ',\n",
       " 'փ',\n",
       " 'ք',\n",
       " 'օ',\n",
       " 'ֆ',\n",
       " 'և',\n",
       " 'ֈ',\n",
       " '։',\n",
       " '֊',\n",
       " '\\u058b',\n",
       " '\\u058c',\n",
       " '֍',\n",
       " '֎',\n",
       " '֏',\n",
       " '\\u0590',\n",
       " '֑',\n",
       " '֒',\n",
       " '֓',\n",
       " '֔',\n",
       " '֕',\n",
       " '֖',\n",
       " '֗',\n",
       " '֘',\n",
       " '֙',\n",
       " '֚',\n",
       " '֛',\n",
       " '֜',\n",
       " '֝',\n",
       " '֞',\n",
       " '֟',\n",
       " '֠',\n",
       " '֡',\n",
       " '֢',\n",
       " '֣',\n",
       " '֤',\n",
       " '֥',\n",
       " '֦',\n",
       " '֧',\n",
       " '֨',\n",
       " '֩',\n",
       " '֪',\n",
       " '֫',\n",
       " '֬',\n",
       " '֭',\n",
       " '֮',\n",
       " '֯',\n",
       " 'ְ',\n",
       " 'ֱ',\n",
       " 'ֲ',\n",
       " 'ֳ',\n",
       " 'ִ',\n",
       " 'ֵ',\n",
       " 'ֶ',\n",
       " 'ַ',\n",
       " 'ָ',\n",
       " 'ֹ',\n",
       " 'ֺ',\n",
       " 'ֻ',\n",
       " 'ּ',\n",
       " 'ֽ',\n",
       " '־',\n",
       " 'ֿ',\n",
       " '׀',\n",
       " 'ׁ',\n",
       " 'ׂ',\n",
       " '׃',\n",
       " 'ׄ',\n",
       " 'ׅ',\n",
       " '׆',\n",
       " 'ׇ',\n",
       " '\\u05c8',\n",
       " '\\u05c9',\n",
       " '\\u05ca',\n",
       " '\\u05cb',\n",
       " '\\u05cc',\n",
       " '\\u05cd',\n",
       " '\\u05ce',\n",
       " '\\u05cf',\n",
       " 'א',\n",
       " 'ב',\n",
       " 'ג',\n",
       " 'ד',\n",
       " 'ה',\n",
       " 'ו',\n",
       " 'ז',\n",
       " 'ח',\n",
       " 'ט',\n",
       " 'י',\n",
       " 'ך',\n",
       " 'כ',\n",
       " 'ל',\n",
       " 'ם',\n",
       " 'מ',\n",
       " 'ן',\n",
       " 'נ',\n",
       " 'ס',\n",
       " 'ע',\n",
       " 'ף',\n",
       " 'פ',\n",
       " 'ץ',\n",
       " 'צ',\n",
       " 'ק',\n",
       " 'ר',\n",
       " 'ש',\n",
       " 'ת',\n",
       " '\\u05eb',\n",
       " '\\u05ec',\n",
       " '\\u05ed',\n",
       " '\\u05ee',\n",
       " 'ׯ',\n",
       " 'װ',\n",
       " 'ױ',\n",
       " 'ײ',\n",
       " '׳',\n",
       " '״',\n",
       " '\\u05f5',\n",
       " '\\u05f6',\n",
       " '\\u05f7',\n",
       " '\\u05f8',\n",
       " '\\u05f9',\n",
       " '\\u05fa',\n",
       " '\\u05fb',\n",
       " '\\u05fc',\n",
       " '\\u05fd',\n",
       " '\\u05fe',\n",
       " '\\u05ff',\n",
       " '\\u0600',\n",
       " '\\u0601',\n",
       " '\\u0602',\n",
       " '\\u0603',\n",
       " '\\u0604',\n",
       " '\\u0605',\n",
       " '؆',\n",
       " '؇',\n",
       " '؈',\n",
       " '؉',\n",
       " '؊',\n",
       " '؋',\n",
       " '،',\n",
       " '؍',\n",
       " '؎',\n",
       " '؏',\n",
       " 'ؐ',\n",
       " 'ؑ',\n",
       " 'ؒ',\n",
       " 'ؓ',\n",
       " 'ؔ',\n",
       " 'ؕ',\n",
       " 'ؖ',\n",
       " 'ؗ',\n",
       " 'ؘ',\n",
       " 'ؙ',\n",
       " 'ؚ',\n",
       " '؛',\n",
       " '\\u061c',\n",
       " '؝',\n",
       " '؞',\n",
       " '؟',\n",
       " 'ؠ',\n",
       " 'ء',\n",
       " 'آ',\n",
       " 'أ',\n",
       " 'ؤ',\n",
       " 'إ',\n",
       " 'ئ',\n",
       " 'ا',\n",
       " 'ب',\n",
       " 'ة',\n",
       " 'ت',\n",
       " 'ث',\n",
       " 'ج',\n",
       " 'ح',\n",
       " 'خ',\n",
       " 'د',\n",
       " 'ذ',\n",
       " 'ر',\n",
       " 'ز',\n",
       " 'س',\n",
       " 'ش',\n",
       " 'ص',\n",
       " 'ض',\n",
       " 'ط',\n",
       " 'ظ',\n",
       " 'ع',\n",
       " 'غ',\n",
       " 'ػ',\n",
       " 'ؼ',\n",
       " 'ؽ',\n",
       " 'ؾ',\n",
       " 'ؿ',\n",
       " 'ـ',\n",
       " 'ف',\n",
       " 'ق',\n",
       " 'ك',\n",
       " 'ل',\n",
       " 'م',\n",
       " 'ن',\n",
       " 'ه',\n",
       " 'و',\n",
       " 'ى',\n",
       " 'ي',\n",
       " 'ً',\n",
       " 'ٌ',\n",
       " 'ٍ',\n",
       " 'َ',\n",
       " 'ُ',\n",
       " 'ِ',\n",
       " 'ّ',\n",
       " 'ْ',\n",
       " 'ٓ',\n",
       " 'ٔ',\n",
       " 'ٕ',\n",
       " 'ٖ',\n",
       " 'ٗ',\n",
       " '٘',\n",
       " 'ٙ',\n",
       " 'ٚ',\n",
       " 'ٛ',\n",
       " 'ٜ',\n",
       " 'ٝ',\n",
       " 'ٞ',\n",
       " 'ٟ',\n",
       " '٠',\n",
       " '١',\n",
       " '٢',\n",
       " '٣',\n",
       " '٤',\n",
       " '٥',\n",
       " '٦',\n",
       " '٧',\n",
       " '٨',\n",
       " '٩',\n",
       " '٪',\n",
       " '٫',\n",
       " '٬',\n",
       " '٭',\n",
       " 'ٮ',\n",
       " 'ٯ',\n",
       " 'ٰ',\n",
       " 'ٱ',\n",
       " 'ٲ',\n",
       " 'ٳ',\n",
       " 'ٴ',\n",
       " 'ٵ',\n",
       " 'ٶ',\n",
       " 'ٷ',\n",
       " 'ٸ',\n",
       " 'ٹ',\n",
       " 'ٺ',\n",
       " 'ٻ',\n",
       " 'ټ',\n",
       " 'ٽ',\n",
       " 'پ',\n",
       " 'ٿ',\n",
       " 'ڀ',\n",
       " 'ځ',\n",
       " 'ڂ',\n",
       " 'ڃ',\n",
       " 'ڄ',\n",
       " 'څ',\n",
       " 'چ',\n",
       " 'ڇ',\n",
       " 'ڈ',\n",
       " 'ډ',\n",
       " 'ڊ',\n",
       " 'ڋ',\n",
       " 'ڌ',\n",
       " 'ڍ',\n",
       " 'ڎ',\n",
       " 'ڏ',\n",
       " 'ڐ',\n",
       " 'ڑ',\n",
       " 'ڒ',\n",
       " 'ړ',\n",
       " 'ڔ',\n",
       " 'ڕ',\n",
       " 'ږ',\n",
       " 'ڗ',\n",
       " 'ژ',\n",
       " 'ڙ',\n",
       " 'ښ',\n",
       " 'ڛ',\n",
       " 'ڜ',\n",
       " 'ڝ',\n",
       " 'ڞ',\n",
       " 'ڟ',\n",
       " 'ڠ',\n",
       " 'ڡ',\n",
       " 'ڢ',\n",
       " 'ڣ',\n",
       " 'ڤ',\n",
       " 'ڥ',\n",
       " 'ڦ',\n",
       " 'ڧ',\n",
       " 'ڨ',\n",
       " 'ک',\n",
       " 'ڪ',\n",
       " 'ګ',\n",
       " 'ڬ',\n",
       " 'ڭ',\n",
       " 'ڮ',\n",
       " 'گ',\n",
       " 'ڰ',\n",
       " 'ڱ',\n",
       " 'ڲ',\n",
       " 'ڳ',\n",
       " 'ڴ',\n",
       " 'ڵ',\n",
       " 'ڶ',\n",
       " 'ڷ',\n",
       " 'ڸ',\n",
       " 'ڹ',\n",
       " 'ں',\n",
       " 'ڻ',\n",
       " 'ڼ',\n",
       " 'ڽ',\n",
       " 'ھ',\n",
       " 'ڿ',\n",
       " 'ۀ',\n",
       " 'ہ',\n",
       " 'ۂ',\n",
       " 'ۃ',\n",
       " 'ۄ',\n",
       " 'ۅ',\n",
       " 'ۆ',\n",
       " 'ۇ',\n",
       " 'ۈ',\n",
       " 'ۉ',\n",
       " 'ۊ',\n",
       " 'ۋ',\n",
       " 'ی',\n",
       " 'ۍ',\n",
       " 'ێ',\n",
       " 'ۏ',\n",
       " 'ې',\n",
       " 'ۑ',\n",
       " 'ے',\n",
       " 'ۓ',\n",
       " '۔',\n",
       " 'ە',\n",
       " 'ۖ',\n",
       " 'ۗ',\n",
       " 'ۘ',\n",
       " 'ۙ',\n",
       " 'ۚ',\n",
       " 'ۛ',\n",
       " 'ۜ',\n",
       " '\\u06dd',\n",
       " '۞',\n",
       " '۟',\n",
       " '۠',\n",
       " 'ۡ',\n",
       " 'ۢ',\n",
       " 'ۣ',\n",
       " 'ۤ',\n",
       " 'ۥ',\n",
       " 'ۦ',\n",
       " 'ۧ',\n",
       " 'ۨ',\n",
       " '۩',\n",
       " '۪',\n",
       " '۫',\n",
       " '۬',\n",
       " 'ۭ',\n",
       " 'ۮ',\n",
       " 'ۯ',\n",
       " '۰',\n",
       " '۱',\n",
       " '۲',\n",
       " '۳',\n",
       " '۴',\n",
       " '۵',\n",
       " '۶',\n",
       " '۷',\n",
       " '۸',\n",
       " '۹',\n",
       " 'ۺ',\n",
       " 'ۻ',\n",
       " 'ۼ',\n",
       " '۽',\n",
       " '۾',\n",
       " 'ۿ',\n",
       " '܀',\n",
       " '܁',\n",
       " '܂',\n",
       " '܃',\n",
       " '܄',\n",
       " '܅',\n",
       " '܆',\n",
       " '܇',\n",
       " '܈',\n",
       " '܉',\n",
       " '܊',\n",
       " '܋',\n",
       " '܌',\n",
       " '܍',\n",
       " '\\u070e',\n",
       " '\\u070f',\n",
       " 'ܐ',\n",
       " 'ܑ',\n",
       " 'ܒ',\n",
       " 'ܓ',\n",
       " 'ܔ',\n",
       " 'ܕ',\n",
       " 'ܖ',\n",
       " 'ܗ',\n",
       " 'ܘ',\n",
       " 'ܙ',\n",
       " 'ܚ',\n",
       " 'ܛ',\n",
       " 'ܜ',\n",
       " 'ܝ',\n",
       " 'ܞ',\n",
       " 'ܟ',\n",
       " 'ܠ',\n",
       " 'ܡ',\n",
       " 'ܢ',\n",
       " 'ܣ',\n",
       " 'ܤ',\n",
       " 'ܥ',\n",
       " 'ܦ',\n",
       " 'ܧ',\n",
       " 'ܨ',\n",
       " 'ܩ',\n",
       " 'ܪ',\n",
       " 'ܫ',\n",
       " 'ܬ',\n",
       " 'ܭ',\n",
       " 'ܮ',\n",
       " 'ܯ',\n",
       " 'ܰ',\n",
       " 'ܱ',\n",
       " 'ܲ',\n",
       " 'ܳ',\n",
       " 'ܴ',\n",
       " 'ܵ',\n",
       " 'ܶ',\n",
       " 'ܷ',\n",
       " 'ܸ',\n",
       " 'ܹ',\n",
       " 'ܺ',\n",
       " 'ܻ',\n",
       " 'ܼ',\n",
       " 'ܽ',\n",
       " 'ܾ',\n",
       " 'ܿ',\n",
       " '݀',\n",
       " '݁',\n",
       " '݂',\n",
       " '݃',\n",
       " '݄',\n",
       " '݅',\n",
       " '݆',\n",
       " '݇',\n",
       " '݈',\n",
       " '݉',\n",
       " '݊',\n",
       " '\\u074b',\n",
       " '\\u074c',\n",
       " 'ݍ',\n",
       " 'ݎ',\n",
       " 'ݏ',\n",
       " 'ݐ',\n",
       " 'ݑ',\n",
       " 'ݒ',\n",
       " 'ݓ',\n",
       " 'ݔ',\n",
       " 'ݕ',\n",
       " 'ݖ',\n",
       " 'ݗ',\n",
       " 'ݘ',\n",
       " 'ݙ',\n",
       " 'ݚ',\n",
       " 'ݛ',\n",
       " 'ݜ',\n",
       " 'ݝ',\n",
       " 'ݞ',\n",
       " 'ݟ',\n",
       " 'ݠ',\n",
       " 'ݡ',\n",
       " 'ݢ',\n",
       " 'ݣ',\n",
       " 'ݤ',\n",
       " 'ݥ',\n",
       " 'ݦ',\n",
       " 'ݧ',\n",
       " 'ݨ',\n",
       " 'ݩ',\n",
       " 'ݪ',\n",
       " 'ݫ',\n",
       " 'ݬ',\n",
       " 'ݭ',\n",
       " 'ݮ',\n",
       " 'ݯ',\n",
       " 'ݰ',\n",
       " 'ݱ',\n",
       " 'ݲ',\n",
       " 'ݳ',\n",
       " 'ݴ',\n",
       " 'ݵ',\n",
       " 'ݶ',\n",
       " 'ݷ',\n",
       " 'ݸ',\n",
       " 'ݹ',\n",
       " 'ݺ',\n",
       " 'ݻ',\n",
       " 'ݼ',\n",
       " 'ݽ',\n",
       " 'ݾ',\n",
       " 'ݿ',\n",
       " 'ހ',\n",
       " 'ށ',\n",
       " 'ނ',\n",
       " 'ރ',\n",
       " 'ބ',\n",
       " 'ޅ',\n",
       " 'ކ',\n",
       " 'އ',\n",
       " 'ވ',\n",
       " 'މ',\n",
       " 'ފ',\n",
       " 'ދ',\n",
       " 'ތ',\n",
       " 'ލ',\n",
       " 'ގ',\n",
       " 'ޏ',\n",
       " 'ސ',\n",
       " 'ޑ',\n",
       " 'ޒ',\n",
       " 'ޓ',\n",
       " 'ޔ',\n",
       " 'ޕ',\n",
       " 'ޖ',\n",
       " 'ޗ',\n",
       " 'ޘ',\n",
       " 'ޙ',\n",
       " 'ޚ',\n",
       " 'ޛ',\n",
       " 'ޜ',\n",
       " 'ޝ',\n",
       " 'ޞ',\n",
       " 'ޟ',\n",
       " 'ޠ',\n",
       " 'ޡ',\n",
       " 'ޢ',\n",
       " 'ޣ',\n",
       " 'ޤ',\n",
       " 'ޥ',\n",
       " 'ަ',\n",
       " 'ާ',\n",
       " 'ި',\n",
       " 'ީ',\n",
       " 'ު',\n",
       " 'ޫ',\n",
       " 'ެ',\n",
       " 'ޭ',\n",
       " 'ޮ',\n",
       " 'ޯ',\n",
       " 'ް',\n",
       " 'ޱ',\n",
       " '\\u07b2',\n",
       " '\\u07b3',\n",
       " '\\u07b4',\n",
       " '\\u07b5',\n",
       " '\\u07b6',\n",
       " '\\u07b7',\n",
       " '\\u07b8',\n",
       " '\\u07b9',\n",
       " '\\u07ba',\n",
       " '\\u07bb',\n",
       " '\\u07bc',\n",
       " '\\u07bd',\n",
       " '\\u07be',\n",
       " '\\u07bf',\n",
       " '߀',\n",
       " '߁',\n",
       " '߂',\n",
       " '߃',\n",
       " '߄',\n",
       " '߅',\n",
       " '߆',\n",
       " '߇',\n",
       " '߈',\n",
       " '߉',\n",
       " 'ߊ',\n",
       " 'ߋ',\n",
       " 'ߌ',\n",
       " 'ߍ',\n",
       " 'ߎ',\n",
       " 'ߏ',\n",
       " ...]"
      ]
     },
     "execution_count": 68,
     "metadata": {},
     "output_type": "execute_result"
    }
   ],
   "source": [
    "[chr(char) for char in range(1000,10000)]"
   ]
  },
  {
   "cell_type": "code",
   "execution_count": 69,
   "metadata": {},
   "outputs": [
    {
     "name": "stdout",
     "output_type": "stream",
     "text": [
      "['Stockholm', 'Izmir', 'Istanbul', 'Ankara']\n"
     ]
    }
   ],
   "source": [
    "city = ['Istanbul', 'Ankara', 'Stockholm', 'Izmir']\n",
    "city.sort(key=None, reverse=True)\n",
    "print(city)"
   ]
  },
  {
   "cell_type": "code",
   "execution_count": 70,
   "metadata": {},
   "outputs": [
    {
     "name": "stdout",
     "output_type": "stream",
     "text": [
      "['Stockholm', 'Istanbul', 'Ankara', 'Izmir']\n"
     ]
    }
   ],
   "source": [
    "city = ['Istanbul', 'Ankara', 'Stockholm', 'Izmir']\n",
    "city.sort(key=len, reverse=True)\n",
    "print(city)"
   ]
  },
  {
   "cell_type": "code",
   "execution_count": 72,
   "metadata": {},
   "outputs": [
    {
     "name": "stdout",
     "output_type": "stream",
     "text": [
      "['Istanbul', 'London', 'Stockholm', 'Izmir', 'Ankara', 'Sydney']\n"
     ]
    }
   ],
   "source": [
    "city = [['Istanbul', 'London', 'Stockholm', 'Izmir', 'Ankara', 'Sydney']]\n",
    "print(city[0])"
   ]
  },
  {
   "cell_type": "code",
   "execution_count": 73,
   "metadata": {},
   "outputs": [
    {
     "name": "stdout",
     "output_type": "stream",
     "text": [
      "a\n"
     ]
    }
   ],
   "source": [
    "print(city[0][0][3])"
   ]
  },
  {
   "cell_type": "code",
   "execution_count": 87,
   "metadata": {},
   "outputs": [
    {
     "name": "stdout",
     "output_type": "stream",
     "text": [
      "[2, 4, 6, 8, 10]\n"
     ]
    }
   ],
   "source": [
    "my_list = [t for t in range(0, 11,2)]\n",
    "my_list = list(range(1,11))\n",
    "print(my_list[1::2])\n"
   ]
  },
  {
   "cell_type": "code",
   "execution_count": null,
   "metadata": {},
   "outputs": [],
   "source": [
    "m"
   ]
  }
 ],
 "metadata": {
  "kernelspec": {
   "display_name": "Python 3",
   "language": "python",
   "name": "python3"
  },
  "language_info": {
   "codemirror_mode": {
    "name": "ipython",
    "version": 3
   },
   "file_extension": ".py",
   "mimetype": "text/x-python",
   "name": "python",
   "nbconvert_exporter": "python",
   "pygments_lexer": "ipython3",
   "version": "3.13.2"
  }
 },
 "nbformat": 4,
 "nbformat_minor": 2
}
