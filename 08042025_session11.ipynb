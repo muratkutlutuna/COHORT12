{
 "cells": [
  {
   "cell_type": "code",
   "execution_count": null,
   "id": "9441d0a6",
   "metadata": {},
   "outputs": [],
   "source": [
    "counter = 0\n",
    "while counter < 5:\n",
    "    print(counter)\n",
    "    counter+=1\n",
    "    if counter == 3:\n",
    "        break\n",
    "else:\n",
    "    print(\"I am from else part\")\n"
   ]
  },
  {
   "cell_type": "code",
   "execution_count": null,
   "id": "f56a552a",
   "metadata": {},
   "outputs": [],
   "source": [
    "for i in range(10):\n",
    "    print(i)\n",
    "else:\n",
    "    print(\"I am from else part\")"
   ]
  },
  {
   "cell_type": "code",
   "execution_count": null,
   "id": "47bdfe7d",
   "metadata": {},
   "outputs": [],
   "source": [
    "for i in []:\n",
    "    print(i)\n",
    "else:\n",
    "    print(\"I am from else part\")"
   ]
  },
  {
   "cell_type": "code",
   "execution_count": null,
   "id": "73188841",
   "metadata": {},
   "outputs": [],
   "source": [
    "for i in range(10):\n",
    "    print(i)\n",
    "    if i == 5:\n",
    "        break\n",
    "else:\n",
    "    print(\"I am from else part\")"
   ]
  },
  {
   "cell_type": "code",
   "execution_count": null,
   "id": "ac47abca",
   "metadata": {},
   "outputs": [],
   "source": [
    "b = 0\n",
    "d = []\n",
    "while (b:=b+1) < 4:\n",
    "    d.append(b)\n",
    "print(d)"
   ]
  },
  {
   "cell_type": "code",
   "execution_count": 3,
   "id": "68add51e",
   "metadata": {},
   "outputs": [
    {
     "name": "stdout",
     "output_type": "stream",
     "text": [
      "name <class 'str'>\n",
      "surname <class 'str'>\n",
      "age <class 'str'>\n"
     ]
    }
   ],
   "source": [
    "user = {\n",
    "    'name':'Daniel',\n",
    "    'surname':'Smith',\n",
    "    'age':25\n",
    "}\n",
    "for attribute in user:\n",
    "    print(attribute, type(attribute))"
   ]
  },
  {
   "cell_type": "code",
   "execution_count": 1,
   "id": "78c4a79b",
   "metadata": {},
   "outputs": [
    {
     "name": "stdout",
     "output_type": "stream",
     "text": [
      "Daniel <class 'str'>\n",
      "Smith <class 'str'>\n",
      "25 <class 'int'>\n"
     ]
    }
   ],
   "source": [
    "user = {\n",
    "    'name':'Daniel',\n",
    "    'surname':'Smith',\n",
    "    'age':25\n",
    "}\n",
    "for attribute in user.values():\n",
    "    print(attribute, type(attribute))"
   ]
  },
  {
   "cell_type": "code",
   "execution_count": 2,
   "id": "1780df3f",
   "metadata": {},
   "outputs": [
    {
     "name": "stdout",
     "output_type": "stream",
     "text": [
      "('name', 'Daniel') <class 'tuple'>\n",
      "('surname', 'Smith') <class 'tuple'>\n",
      "('age', 25) <class 'tuple'>\n"
     ]
    }
   ],
   "source": [
    "user = {\n",
    "    'name':'Daniel',\n",
    "    'surname':'Smith',\n",
    "    'age':25\n",
    "}\n",
    "for attribute in user.items():\n",
    "    print(attribute, type(attribute))"
   ]
  },
  {
   "cell_type": "code",
   "execution_count": 4,
   "id": "41c8df57",
   "metadata": {},
   "outputs": [
    {
     "name": "stdout",
     "output_type": "stream",
     "text": [
      "name <class 'str'>\n",
      "surname <class 'str'>\n",
      "age <class 'str'>\n"
     ]
    }
   ],
   "source": [
    "user = {\n",
    "    'name':'Daniel',\n",
    "    'surname':'Smith',\n",
    "    'age':25\n",
    "}\n",
    "for attribute in user.keys():\n",
    "    print(attribute, type(attribute))"
   ]
  },
  {
   "cell_type": "code",
   "execution_count": 5,
   "id": "6659490e",
   "metadata": {},
   "outputs": [
    {
     "name": "stdout",
     "output_type": "stream",
     "text": [
      "name Daniel\n"
     ]
    }
   ],
   "source": [
    "key, value = ('name', 'Daniel')\n",
    "print(key, value)"
   ]
  },
  {
   "cell_type": "code",
   "execution_count": 6,
   "id": "663b47b6",
   "metadata": {},
   "outputs": [
    {
     "name": "stdout",
     "output_type": "stream",
     "text": [
      "name : Daniel\n",
      "surname : Smith\n",
      "age : 25\n"
     ]
    }
   ],
   "source": [
    "user = {\n",
    "    'name':'Daniel',\n",
    "    'surname':'Smith',\n",
    "    'age':25\n",
    "}\n",
    "for key, value in user.items():\n",
    "    print(key, \":\", value)"
   ]
  },
  {
   "cell_type": "code",
   "execution_count": null,
   "id": "cd5bd919",
   "metadata": {},
   "outputs": [],
   "source": [
    "user = {\n",
    "    'name':'Daniel',\n",
    "    'surname':'Smith',\n",
    "    'age':25\n",
    "}\n",
    "for sss, ttt in user.items():\n",
    "    print(sss, \":\", ttt)"
   ]
  },
  {
   "cell_type": "code",
   "execution_count": null,
   "id": "0896c51a",
   "metadata": {},
   "outputs": [],
   "source": [
    "print(sss)\n",
    "ttt"
   ]
  },
  {
   "cell_type": "code",
   "execution_count": null,
   "id": "2f57e728",
   "metadata": {},
   "outputs": [],
   "source": [
    "times = int(input(\"how many times should I say I love you?\"))\n",
    "for i in range(times):\n",
    "    print(\"I love you\")"
   ]
  },
  {
   "cell_type": "code",
   "execution_count": null,
   "id": "7b66cb75",
   "metadata": {},
   "outputs": [],
   "source": [
    "number = int(input(\"Enter a number: \"))\n",
    "for i in range(number):\n",
    "    print(f\"{number} x {i+1} = {number*(i+1)}\")"
   ]
  },
  {
   "cell_type": "code",
   "execution_count": 7,
   "id": "75e0c48d",
   "metadata": {},
   "outputs": [
    {
     "name": "stdout",
     "output_type": "stream",
     "text": [
      "0 1 2 3 4\n",
      "range(0, 5)\n",
      "1 2 3 4 5\n",
      "[1, 2, 3, 4, 5]\n",
      "C l a r u s w a y\n",
      "Clarusway\n"
     ]
    }
   ],
   "source": [
    "print(*range(5))\n",
    "print(range(5))\n",
    "list1 = [1,2,3,4,5]\n",
    "print(*list1)\n",
    "print(list1)\n",
    "str1 = \"Clarusway\"\n",
    "print(*str1)\n",
    "print(str1)"
   ]
  },
  {
   "cell_type": "code",
   "execution_count": 8,
   "id": "0b83fc7d",
   "metadata": {},
   "outputs": [
    {
     "name": "stdout",
     "output_type": "stream",
     "text": [
      "<class 'range'>\n"
     ]
    }
   ],
   "source": [
    "print(type(range(5)))"
   ]
  },
  {
   "cell_type": "code",
   "execution_count": 9,
   "id": "91b9de77",
   "metadata": {},
   "outputs": [
    {
     "ename": "SyntaxError",
     "evalue": "can't use starred expression here (976414045.py, line 1)",
     "output_type": "error",
     "traceback": [
      "\u001b[0;36m  Cell \u001b[0;32mIn[9], line 1\u001b[0;36m\u001b[0m\n\u001b[0;31m    var = * \"Clarusway\"\u001b[0m\n\u001b[0m          ^\u001b[0m\n\u001b[0;31mSyntaxError\u001b[0m\u001b[0;31m:\u001b[0m can't use starred expression here\n"
     ]
    }
   ],
   "source": [
    "var = * \"Clarusway\"\n",
    "numbers = * range(5)"
   ]
  },
  {
   "cell_type": "code",
   "execution_count": 10,
   "id": "b66a9c24",
   "metadata": {},
   "outputs": [],
   "source": [
    "def adder(a,b,c):\n",
    "    return a + b + c"
   ]
  },
  {
   "cell_type": "code",
   "execution_count": 11,
   "id": "2a442cd5",
   "metadata": {},
   "outputs": [],
   "source": [
    "numbers=(5,2,3)"
   ]
  },
  {
   "cell_type": "code",
   "execution_count": 12,
   "id": "0e80d314",
   "metadata": {},
   "outputs": [
    {
     "data": {
      "text/plain": [
       "10"
      ]
     },
     "execution_count": 12,
     "metadata": {},
     "output_type": "execute_result"
    }
   ],
   "source": [
    "adder(*numbers)"
   ]
  },
  {
   "cell_type": "code",
   "execution_count": 13,
   "id": "60716501",
   "metadata": {},
   "outputs": [
    {
     "name": "stdout",
     "output_type": "stream",
     "text": [
      "s e p a r a t e\n",
      "s e p a r a t e\n"
     ]
    }
   ],
   "source": [
    "print(*('separate'))\n",
    "print('s', 'e', 'p', 'a', 'r', 'a', 't', 'e')"
   ]
  },
  {
   "cell_type": "code",
   "execution_count": 14,
   "id": "ee4fb61e",
   "metadata": {},
   "outputs": [
    {
     "name": "stdout",
     "output_type": "stream",
     "text": [
      "separate\n"
     ]
    }
   ],
   "source": [
    "print(*(\"separate\",))"
   ]
  },
  {
   "cell_type": "code",
   "execution_count": 15,
   "id": "c1f98b7c",
   "metadata": {},
   "outputs": [
    {
     "name": "stdout",
     "output_type": "stream",
     "text": [
      "one : 1\n",
      "two : 2\n",
      "three : 3\n",
      "four : 4\n",
      "five : 5\n"
     ]
    }
   ],
   "source": [
    "text = ['one', 'two', 'three', 'four', 'five']\n",
    "numbers = [1,2,3,4,5]\n",
    "for x,y in zip(text, numbers):\n",
    "    print(x,\":\",y)\n"
   ]
  },
  {
   "cell_type": "code",
   "execution_count": 16,
   "id": "aeebeb33",
   "metadata": {},
   "outputs": [
    {
     "name": "stdout",
     "output_type": "stream",
     "text": [
      "<zip object at 0x124200540> <class 'zip'>\n"
     ]
    }
   ],
   "source": [
    "zipped_object = zip(text, numbers)\n",
    "print(zipped_object, type(zipped_object))"
   ]
  },
  {
   "cell_type": "code",
   "execution_count": 17,
   "id": "055b41b4",
   "metadata": {},
   "outputs": [
    {
     "data": {
      "text/plain": [
       "[('one', 1), ('two', 2), ('three', 3), ('four', 4), ('five', 5)]"
      ]
     },
     "execution_count": 17,
     "metadata": {},
     "output_type": "execute_result"
    }
   ],
   "source": [
    "list(zipped_object)"
   ]
  },
  {
   "cell_type": "code",
   "execution_count": 18,
   "id": "bb9aa85a",
   "metadata": {},
   "outputs": [
    {
     "data": {
      "text/plain": [
       "()"
      ]
     },
     "execution_count": 18,
     "metadata": {},
     "output_type": "execute_result"
    }
   ],
   "source": [
    "tuple(zipped_object)"
   ]
  },
  {
   "cell_type": "code",
   "execution_count": 19,
   "id": "c597bfdf",
   "metadata": {},
   "outputs": [
    {
     "data": {
      "text/plain": [
       "{}"
      ]
     },
     "execution_count": 19,
     "metadata": {},
     "output_type": "execute_result"
    }
   ],
   "source": [
    "dict(zipped_object)"
   ]
  },
  {
   "cell_type": "code",
   "execution_count": 20,
   "id": "b2707d54",
   "metadata": {},
   "outputs": [
    {
     "data": {
      "text/plain": [
       "<zip at 0x124202440>"
      ]
     },
     "execution_count": 20,
     "metadata": {},
     "output_type": "execute_result"
    }
   ],
   "source": [
    "zip(zipped_object)"
   ]
  },
  {
   "cell_type": "code",
   "execution_count": 21,
   "id": "27c394fc",
   "metadata": {},
   "outputs": [
    {
     "name": "stdout",
     "output_type": "stream",
     "text": [
      "[('one', 1), ('two', 2), ('three', 3), ('four', 4), ('five', 5)] <class 'list'>\n"
     ]
    }
   ],
   "source": [
    "zipped_object = list(zip(text, numbers))\n",
    "print(zipped_object, type(zipped_object))"
   ]
  },
  {
   "cell_type": "code",
   "execution_count": 22,
   "id": "af088367",
   "metadata": {},
   "outputs": [
    {
     "ename": "ValueError",
     "evalue": "zip() argument 2 is longer than argument 1",
     "output_type": "error",
     "traceback": [
      "\u001b[0;31m---------------------------------------------------------------------------\u001b[0m",
      "\u001b[0;31mValueError\u001b[0m                                Traceback (most recent call last)",
      "Cell \u001b[0;32mIn[22], line 3\u001b[0m\n\u001b[1;32m      1\u001b[0m text \u001b[38;5;241m=\u001b[39m [\u001b[38;5;124m'\u001b[39m\u001b[38;5;124mone\u001b[39m\u001b[38;5;124m'\u001b[39m, \u001b[38;5;124m'\u001b[39m\u001b[38;5;124mtwo\u001b[39m\u001b[38;5;124m'\u001b[39m, \u001b[38;5;124m'\u001b[39m\u001b[38;5;124mthree\u001b[39m\u001b[38;5;124m'\u001b[39m, \u001b[38;5;124m'\u001b[39m\u001b[38;5;124mfour\u001b[39m\u001b[38;5;124m'\u001b[39m, \u001b[38;5;124m'\u001b[39m\u001b[38;5;124mfive\u001b[39m\u001b[38;5;124m'\u001b[39m, \u001b[38;5;124m'\u001b[39m\u001b[38;5;124msix\u001b[39m\u001b[38;5;124m'\u001b[39m]\n\u001b[1;32m      2\u001b[0m numbers \u001b[38;5;241m=\u001b[39m [\u001b[38;5;241m1\u001b[39m,\u001b[38;5;241m2\u001b[39m,\u001b[38;5;241m3\u001b[39m,\u001b[38;5;241m4\u001b[39m,\u001b[38;5;241m5\u001b[39m]\n\u001b[0;32m----> 3\u001b[0m my_dict \u001b[38;5;241m=\u001b[39m \u001b[38;5;28;43mdict\u001b[39;49m\u001b[43m(\u001b[49m\u001b[38;5;28;43mzip\u001b[39;49m\u001b[43m(\u001b[49m\u001b[43mnumbers\u001b[49m\u001b[43m,\u001b[49m\u001b[43m \u001b[49m\u001b[43mtext\u001b[49m\u001b[43m,\u001b[49m\u001b[43m \u001b[49m\u001b[43mstrict\u001b[49m\u001b[38;5;241;43m=\u001b[39;49m\u001b[38;5;28;43;01mTrue\u001b[39;49;00m\u001b[43m)\u001b[49m\u001b[43m)\u001b[49m\n",
      "\u001b[0;31mValueError\u001b[0m: zip() argument 2 is longer than argument 1"
     ]
    }
   ],
   "source": [
    "text = ['one', 'two', 'three', 'four', 'five', 'six']\n",
    "numbers = [1,2,3,4,5]\n",
    "my_dict = dict(zip(numbers, text, strict=True))"
   ]
  },
  {
   "cell_type": "code",
   "execution_count": 23,
   "id": "0dd4a41e",
   "metadata": {},
   "outputs": [
    {
     "ename": "NameError",
     "evalue": "name 'my_dict' is not defined",
     "output_type": "error",
     "traceback": [
      "\u001b[0;31m---------------------------------------------------------------------------\u001b[0m",
      "\u001b[0;31mNameError\u001b[0m                                 Traceback (most recent call last)",
      "Cell \u001b[0;32mIn[23], line 1\u001b[0m\n\u001b[0;32m----> 1\u001b[0m \u001b[43mmy_dict\u001b[49m\n",
      "\u001b[0;31mNameError\u001b[0m: name 'my_dict' is not defined"
     ]
    }
   ],
   "source": [
    "my_dict"
   ]
  },
  {
   "cell_type": "code",
   "execution_count": 24,
   "id": "d965d55d",
   "metadata": {},
   "outputs": [
    {
     "name": "stdout",
     "output_type": "stream",
     "text": [
      "Help on class zip in module builtins:\n",
      "\n",
      "class zip(object)\n",
      " |  zip(*iterables, strict=False)\n",
      " |\n",
      " |  The zip object yields n-length tuples, where n is the number of iterables\n",
      " |  passed as positional arguments to zip().  The i-th element in every tuple\n",
      " |  comes from the i-th iterable argument to zip().  This continues until the\n",
      " |  shortest argument is exhausted.\n",
      " |\n",
      " |  If strict is true and one of the arguments is exhausted before the others,\n",
      " |  raise a ValueError.\n",
      " |\n",
      " |     >>> list(zip('abcdefg', range(3), range(4)))\n",
      " |     [('a', 0, 0), ('b', 1, 1), ('c', 2, 2)]\n",
      " |\n",
      " |  Methods defined here:\n",
      " |\n",
      " |  __getattribute__(self, name, /)\n",
      " |      Return getattr(self, name).\n",
      " |\n",
      " |  __iter__(self, /)\n",
      " |      Implement iter(self).\n",
      " |\n",
      " |  __next__(self, /)\n",
      " |      Implement next(self).\n",
      " |\n",
      " |  __reduce__(self, /)\n",
      " |      Return state information for pickling.\n",
      " |\n",
      " |  __setstate__(self, object, /)\n",
      " |      Set state information for unpickling.\n",
      " |\n",
      " |  ----------------------------------------------------------------------\n",
      " |  Static methods defined here:\n",
      " |\n",
      " |  __new__(*args, **kwargs)\n",
      " |      Create and return a new object.  See help(type) for accurate signature.\n",
      "\n"
     ]
    }
   ],
   "source": [
    "help(zip)"
   ]
  },
  {
   "cell_type": "code",
   "execution_count": 25,
   "id": "7105c255",
   "metadata": {},
   "outputs": [
    {
     "name": "stdout",
     "output_type": "stream",
     "text": [
      "[0, 2, 4, 6, 8]\n",
      "[1, 3, 5, 7, 9]\n"
     ]
    }
   ],
   "source": [
    "even = []\n",
    "odds = []\n",
    "for i in range(10):\n",
    "    if i % 2 == 0:\n",
    "        even.append(i)\n",
    "    else:\n",
    "        odds.append(i)\n",
    "print(even)\n",
    "print(odds)"
   ]
  },
  {
   "cell_type": "code",
   "execution_count": 26,
   "id": "efc1dd42",
   "metadata": {},
   "outputs": [
    {
     "data": {
      "text/plain": [
       "4926603392"
      ]
     },
     "execution_count": 26,
     "metadata": {},
     "output_type": "execute_result"
    }
   ],
   "source": [
    "id(even)"
   ]
  },
  {
   "cell_type": "code",
   "execution_count": 27,
   "id": "c8b62606",
   "metadata": {},
   "outputs": [
    {
     "data": {
      "text/plain": [
       "4926765248"
      ]
     },
     "execution_count": 27,
     "metadata": {},
     "output_type": "execute_result"
    }
   ],
   "source": [
    "id(odds)"
   ]
  },
  {
   "cell_type": "code",
   "execution_count": 28,
   "id": "d9a4d27d",
   "metadata": {},
   "outputs": [
    {
     "name": "stdout",
     "output_type": "stream",
     "text": [
      "The number of even numbers:  6\n",
      "The number of odd numbers:  5\n"
     ]
    }
   ],
   "source": [
    "numbers = (11,36,33,66,89,21,32,16,10,47,30)\n",
    "odds = evens = 0\n",
    "for i in numbers:\n",
    "    if not i % 2:\n",
    "        evens += 1\n",
    "    else:\n",
    "        odds += 1\n",
    "print(\"The number of even numbers: \", evens)\n",
    "print(\"The number of odd numbers: \", odds)\n"
   ]
  },
  {
   "cell_type": "code",
   "execution_count": 29,
   "id": "fb8383b2",
   "metadata": {},
   "outputs": [
    {
     "data": {
      "text/plain": [
       "4396198672"
      ]
     },
     "execution_count": 29,
     "metadata": {},
     "output_type": "execute_result"
    }
   ],
   "source": [
    "id(odds)"
   ]
  },
  {
   "cell_type": "code",
   "execution_count": null,
   "id": "cd9d7a22",
   "metadata": {},
   "outputs": [],
   "source": [
    "id(even)"
   ]
  },
  {
   "cell_type": "code",
   "execution_count": null,
   "id": "7ca77433",
   "metadata": {},
   "outputs": [],
   "source": [
    "for i in range(1,10):\n",
    "    print(str(i) * i)"
   ]
  },
  {
   "cell_type": "code",
   "execution_count": null,
   "id": "ce017d00",
   "metadata": {},
   "outputs": [],
   "source": [
    "for i in range(1,10):\n",
    "    i = str(i) * i\n",
    "    print(i.center(9))"
   ]
  },
  {
   "cell_type": "code",
   "execution_count": null,
   "id": "4918ed31",
   "metadata": {},
   "outputs": [],
   "source": [
    "sum = 0\n",
    "for i in range(1,75):\n",
    "    sum += i\n",
    "print(sum)"
   ]
  },
  {
   "cell_type": "code",
   "execution_count": 1,
   "id": "963ec323",
   "metadata": {},
   "outputs": [
    {
     "name": "stdout",
     "output_type": "stream",
     "text": [
      "2775\n"
     ]
    }
   ],
   "source": [
    "num = sum(range(1,75))\n",
    "print(num)\n"
   ]
  },
  {
   "cell_type": "code",
   "execution_count": 2,
   "id": "e21f861f",
   "metadata": {},
   "outputs": [
    {
     "name": "stdout",
     "output_type": "stream",
     "text": [
      "I am happy\n",
      "I am confident\n"
     ]
    }
   ],
   "source": [
    "who = ['I am ', 'You are ']\n",
    "mood = ['happy', 'confident']\n",
    "for i in who:\n",
    "    for ii in mood:\n",
    "        print(i + ii)\n",
    "    break"
   ]
  },
  {
   "cell_type": "code",
   "execution_count": 5,
   "id": "956d7561",
   "metadata": {},
   "outputs": [
    {
     "name": "stdout",
     "output_type": "stream",
     "text": [
      "susan is happy\n",
      "susan is confident\n",
      "tom is happy\n",
      "tom is confident\n",
      "mike is happy\n",
      "mike is confident\n"
     ]
    }
   ],
   "source": [
    "names = [\"susan\",\"tom\",\"mike\"]\n",
    "moods = [\"happy\",\"confident\"]\n",
    "for name in names:\n",
    "    for mood in moods:\n",
    "        print(name + \" is \" + mood)\n",
    "    "
   ]
  },
  {
   "cell_type": "code",
   "execution_count": 13,
   "id": "4fbf943d",
   "metadata": {},
   "outputs": [
    {
     "name": "stdout",
     "output_type": "stream",
     "text": [
      "**********\n",
      "**********\n",
      "**********\n"
     ]
    }
   ],
   "source": [
    "row_count = 3\n",
    "column_count = 10\n",
    "\n",
    "for i in range(row_count):\n",
    "    for j in range(column_count):\n",
    "        print(\"*\", end=\"\")\n",
    "    print()"
   ]
  },
  {
   "cell_type": "code",
   "execution_count": 14,
   "id": "4e5a8901",
   "metadata": {},
   "outputs": [
    {
     "name": "stdout",
     "output_type": "stream",
     "text": [
      "**********\n",
      "**********\n",
      "**********\n"
     ]
    }
   ],
   "source": [
    "row_count = 3\n",
    "column_count = 10\n",
    "\n",
    "for i in range(row_count):\n",
    "    for j in range(column_count):\n",
    "        print(column_count*\"*\")\n",
    "        break"
   ]
  },
  {
   "cell_type": "code",
   "execution_count": 20,
   "id": "d5d55336",
   "metadata": {},
   "outputs": [
    {
     "name": "stdout",
     "output_type": "stream",
     "text": [
      "1  2  3  4  5  6  7  8  9  10 \n",
      "2  4  6  8  10 12 14 16 18 20 \n",
      "3  6  9  12 15 18 21 24 27 30 \n",
      "4  8  12 16 20 24 28 32 36 40 \n",
      "5  10 15 20 25 30 35 40 45 50 \n",
      "6  12 18 24 30 36 42 48 54 60 \n",
      "7  14 21 28 35 42 49 56 63 70 \n",
      "8  16 24 32 40 48 56 64 72 80 \n",
      "9  18 27 36 45 54 63 72 81 90 \n",
      "10 20 30 40 50 60 70 80 90 100 \n"
     ]
    }
   ],
   "source": [
    "for i in range(1,11):\n",
    "    for j in range(1,11):\n",
    "        print(str(i*j).ljust(2), end=\" \")\n",
    "    print()"
   ]
  },
  {
   "cell_type": "code",
   "execution_count": 22,
   "id": "f019620e",
   "metadata": {},
   "outputs": [
    {
     "name": "stdout",
     "output_type": "stream",
     "text": [
      "1 \n",
      "1 2 \n",
      "1 2 3 \n",
      "1 2 3 4 \n"
     ]
    }
   ],
   "source": [
    "for i in range(4):\n",
    "    for j in range(i+1):\n",
    "        print(j+1, end=\" \")\n",
    "    print()"
   ]
  },
  {
   "cell_type": "code",
   "execution_count": 32,
   "id": "f7762a31",
   "metadata": {},
   "outputs": [
    {
     "name": "stdout",
     "output_type": "stream",
     "text": [
      "# # # # # \n",
      " # # # # \n",
      "# # # # # \n",
      " # # # # \n",
      "# # # # # \n"
     ]
    }
   ],
   "source": [
    "row_number = 5\n",
    "column_number = 5\n",
    "for i in range (row_number):\n",
    "    if i % 2 == 1:\n",
    "        print(\" \", end=\"\")\n",
    "    for j in range (column_number):\n",
    "        print(\"#\", end=\" \")\n",
    "        if i % 2 == 1 and j == column_number - 2:\n",
    "            break\n",
    "    print()"
   ]
  },
  {
   "cell_type": "code",
   "execution_count": 33,
   "id": "c5dfdbe7",
   "metadata": {},
   "outputs": [
    {
     "name": "stdout",
     "output_type": "stream",
     "text": [
      "set()\n",
      "{1}\n"
     ]
    }
   ],
   "source": [
    "sett = set()\n",
    "print(sett)\n",
    "sett.add(1)\n",
    "print(sett)"
   ]
  },
  {
   "cell_type": "code",
   "execution_count": null,
   "id": "bf48a3c7",
   "metadata": {},
   "outputs": [],
   "source": []
  }
 ],
 "metadata": {
  "kernelspec": {
   "display_name": "Python 3",
   "language": "python",
   "name": "python3"
  },
  "language_info": {
   "codemirror_mode": {
    "name": "ipython",
    "version": 3
   },
   "file_extension": ".py",
   "mimetype": "text/x-python",
   "name": "python",
   "nbconvert_exporter": "python",
   "pygments_lexer": "ipython3",
   "version": "3.13.2"
  }
 },
 "nbformat": 4,
 "nbformat_minor": 5
}
