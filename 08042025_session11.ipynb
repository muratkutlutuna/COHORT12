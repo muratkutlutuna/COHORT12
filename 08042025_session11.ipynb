{
 "cells": [
  {
   "cell_type": "code",
   "execution_count": null,
   "id": "9441d0a6",
   "metadata": {},
   "outputs": [],
   "source": [
    "counter = 0\n",
    "while counter < 5:\n",
    "    print(counter)\n",
    "    counter+=1\n",
    "    if counter == 3:\n",
    "        break\n",
    "else:\n",
    "    print(\"I am from else part\")\n"
   ]
  },
  {
   "cell_type": "code",
   "execution_count": null,
   "id": "f56a552a",
   "metadata": {},
   "outputs": [],
   "source": [
    "for i in range(10):\n",
    "    print(i)\n",
    "else:\n",
    "    print(\"I am from else part\")"
   ]
  },
  {
   "cell_type": "code",
   "execution_count": null,
   "id": "47bdfe7d",
   "metadata": {},
   "outputs": [],
   "source": [
    "for i in []:\n",
    "    print(i)\n",
    "else:\n",
    "    print(\"I am from else part\")"
   ]
  },
  {
   "cell_type": "code",
   "execution_count": null,
   "id": "73188841",
   "metadata": {},
   "outputs": [],
   "source": [
    "for i in range(10):\n",
    "    print(i)\n",
    "    if i == 5:\n",
    "        break\n",
    "else:\n",
    "    print(\"I am from else part\")"
   ]
  },
  {
   "cell_type": "code",
   "execution_count": null,
   "id": "ac47abca",
   "metadata": {},
   "outputs": [],
   "source": [
    "b = 0\n",
    "d = []\n",
    "while (b:=b+1) < 4:\n",
    "    d.append(b)\n",
    "print(d)"
   ]
  },
  {
   "cell_type": "code",
   "execution_count": null,
   "id": "68add51e",
   "metadata": {},
   "outputs": [],
   "source": [
    "user = {\n",
    "    'name':'Daniel',\n",
    "    'surname':'Smith',\n",
    "    'age':25\n",
    "}\n",
    "for attribute in user:\n",
    "    print(attribute, type(attribute))"
   ]
  },
  {
   "cell_type": "code",
   "execution_count": null,
   "id": "78c4a79b",
   "metadata": {},
   "outputs": [],
   "source": [
    "user = {\n",
    "    'name':'Daniel',\n",
    "    'surname':'Smith',\n",
    "    'age':25\n",
    "}\n",
    "for attribute in user.values():\n",
    "    print(attribute, type(attribute))"
   ]
  },
  {
   "cell_type": "code",
   "execution_count": null,
   "id": "1780df3f",
   "metadata": {},
   "outputs": [],
   "source": [
    "user = {\n",
    "    'name':'Daniel',\n",
    "    'surname':'Smith',\n",
    "    'age':25\n",
    "}\n",
    "for attribute in user.items():\n",
    "    print(attribute, type(attribute))"
   ]
  },
  {
   "cell_type": "code",
   "execution_count": null,
   "id": "41c8df57",
   "metadata": {},
   "outputs": [],
   "source": [
    "user = {\n",
    "    'name':'Daniel',\n",
    "    'surname':'Smith',\n",
    "    'age':25\n",
    "}\n",
    "for attribute in user.keys():\n",
    "    print(attribute, type(attribute))"
   ]
  },
  {
   "cell_type": "code",
   "execution_count": null,
   "id": "6659490e",
   "metadata": {},
   "outputs": [],
   "source": [
    "key, value = ('name', 'Daniel')\n",
    "print(key, value)"
   ]
  },
  {
   "cell_type": "code",
   "execution_count": null,
   "id": "663b47b6",
   "metadata": {},
   "outputs": [],
   "source": [
    "user = {\n",
    "    'name':'Daniel',\n",
    "    'surname':'Smith',\n",
    "    'age':25\n",
    "}\n",
    "for key, value in user.items():\n",
    "    print(key, \":\", value)"
   ]
  },
  {
   "cell_type": "code",
   "execution_count": null,
   "id": "cd5bd919",
   "metadata": {},
   "outputs": [],
   "source": [
    "user = {\n",
    "    'name':'Daniel',\n",
    "    'surname':'Smith',\n",
    "    'age':25\n",
    "}\n",
    "for sss, ttt in user.items():\n",
    "    print(sss, \":\", ttt)"
   ]
  },
  {
   "cell_type": "code",
   "execution_count": null,
   "id": "0896c51a",
   "metadata": {},
   "outputs": [],
   "source": [
    "print(sss)\n",
    "ttt"
   ]
  },
  {
   "cell_type": "code",
   "execution_count": null,
   "id": "2f57e728",
   "metadata": {},
   "outputs": [],
   "source": [
    "times = int(input(\"how many times should I say I love you?\"))\n",
    "for i in range(times):\n",
    "    print(\"I love you\")"
   ]
  },
  {
   "cell_type": "code",
   "execution_count": null,
   "id": "7b66cb75",
   "metadata": {},
   "outputs": [],
   "source": [
    "number = int(input(\"Enter a number: \"))\n",
    "for i in range(number):\n",
    "    print(f\"{number} x {i+1} = {number*(i+1)}\")"
   ]
  },
  {
   "cell_type": "code",
   "execution_count": null,
   "id": "75e0c48d",
   "metadata": {},
   "outputs": [],
   "source": [
    "print(*range(5))\n",
    "print(range(5))\n",
    "list1 = [1,2,3,4,5]\n",
    "print(*list1)\n",
    "print(list1)\n",
    "str1 = \"Clarusway\"\n",
    "print(*str1)\n",
    "print(str1)"
   ]
  },
  {
   "cell_type": "code",
   "execution_count": null,
   "id": "0b83fc7d",
   "metadata": {},
   "outputs": [],
   "source": [
    "print(type(range(5)))"
   ]
  },
  {
   "cell_type": "code",
   "execution_count": null,
   "id": "91b9de77",
   "metadata": {},
   "outputs": [],
   "source": [
    "var = * \"Clarusway\"\n",
    "numbers = * range(5)"
   ]
  },
  {
   "cell_type": "code",
   "execution_count": null,
   "id": "b66a9c24",
   "metadata": {},
   "outputs": [],
   "source": [
    "def adder(a,b,c):\n",
    "    return a + b + c"
   ]
  },
  {
   "cell_type": "code",
   "execution_count": null,
   "id": "2a442cd5",
   "metadata": {},
   "outputs": [],
   "source": [
    "numbers=(5,2,3)"
   ]
  },
  {
   "cell_type": "code",
   "execution_count": null,
   "id": "0e80d314",
   "metadata": {},
   "outputs": [],
   "source": [
    "adder(*numbers)"
   ]
  },
  {
   "cell_type": "code",
   "execution_count": null,
   "id": "60716501",
   "metadata": {},
   "outputs": [],
   "source": [
    "print(*('separate'))\n",
    "print('s', 'e', 'p', 'a', 'r', 'a', 't', 'e')"
   ]
  },
  {
   "cell_type": "code",
   "execution_count": null,
   "id": "ee4fb61e",
   "metadata": {},
   "outputs": [],
   "source": [
    "print(*(\"separate\",))"
   ]
  },
  {
   "cell_type": "code",
   "execution_count": null,
   "id": "c1f98b7c",
   "metadata": {},
   "outputs": [],
   "source": [
    "text = ['one', 'two', 'three', 'four', 'five']\n",
    "numbers = [1,2,3,4,5]\n",
    "for x,y in zip(text, numbers):\n",
    "    print(x,\":\",y)\n"
   ]
  },
  {
   "cell_type": "code",
   "execution_count": null,
   "id": "aeebeb33",
   "metadata": {},
   "outputs": [],
   "source": [
    "zipped_object = zip(text, numbers)\n",
    "print(zipped_object, type(zipped_object))"
   ]
  },
  {
   "cell_type": "code",
   "execution_count": null,
   "id": "055b41b4",
   "metadata": {},
   "outputs": [],
   "source": [
    "list(zipped_object)"
   ]
  },
  {
   "cell_type": "code",
   "execution_count": null,
   "id": "bb9aa85a",
   "metadata": {},
   "outputs": [],
   "source": [
    "tuple(zipped_object)"
   ]
  },
  {
   "cell_type": "code",
   "execution_count": null,
   "id": "c597bfdf",
   "metadata": {},
   "outputs": [],
   "source": [
    "dict(zipped_object)"
   ]
  },
  {
   "cell_type": "code",
   "execution_count": null,
   "id": "b2707d54",
   "metadata": {},
   "outputs": [],
   "source": [
    "zip(zipped_object)"
   ]
  },
  {
   "cell_type": "code",
   "execution_count": null,
   "id": "27c394fc",
   "metadata": {},
   "outputs": [],
   "source": [
    "zipped_object = list(zip(text, numbers))\n",
    "print(zipped_object, type(zipped_object))"
   ]
  },
  {
   "cell_type": "code",
   "execution_count": null,
   "id": "af088367",
   "metadata": {},
   "outputs": [],
   "source": [
    "text = ['one', 'two', 'three', 'four', 'five', 'six']\n",
    "numbers = [1,2,3,4,5]\n",
    "my_dict = dict(zip(numbers, text, strict=True))"
   ]
  },
  {
   "cell_type": "code",
   "execution_count": null,
   "id": "0dd4a41e",
   "metadata": {},
   "outputs": [],
   "source": [
    "my_dict"
   ]
  },
  {
   "cell_type": "code",
   "execution_count": null,
   "id": "d965d55d",
   "metadata": {},
   "outputs": [],
   "source": [
    "help(zip)"
   ]
  },
  {
   "cell_type": "code",
   "execution_count": null,
   "id": "7105c255",
   "metadata": {},
   "outputs": [],
   "source": [
    "even = []\n",
    "odds = []\n",
    "for i in range(10):\n",
    "    if i % 2 == 0:\n",
    "        even.append(i)\n",
    "    else:\n",
    "        odds.append(i)\n",
    "print(even)\n",
    "print(odds)"
   ]
  },
  {
   "cell_type": "code",
   "execution_count": null,
   "id": "efc1dd42",
   "metadata": {},
   "outputs": [],
   "source": [
    "id(even)"
   ]
  },
  {
   "cell_type": "code",
   "execution_count": null,
   "id": "c8b62606",
   "metadata": {},
   "outputs": [],
   "source": [
    "id(odds)"
   ]
  },
  {
   "cell_type": "code",
   "execution_count": null,
   "id": "d9a4d27d",
   "metadata": {},
   "outputs": [],
   "source": [
    "numbers = (11,36,33,66,89,21,32,16,10,47,30)\n",
    "odds = evens = 0\n",
    "for i in numbers:\n",
    "    if not i % 2:\n",
    "        evens += 1\n",
    "    else:\n",
    "        odds += 1\n",
    "print(\"The number of even numbers: \", evens)\n",
    "print(\"The number of odd numbers: \", odds)\n"
   ]
  },
  {
   "cell_type": "code",
   "execution_count": null,
   "id": "fb8383b2",
   "metadata": {},
   "outputs": [],
   "source": [
    "id(odds)"
   ]
  },
  {
   "cell_type": "code",
   "execution_count": null,
   "id": "cd9d7a22",
   "metadata": {},
   "outputs": [],
   "source": [
    "id(even)"
   ]
  },
  {
   "cell_type": "code",
   "execution_count": null,
   "id": "7ca77433",
   "metadata": {},
   "outputs": [],
   "source": [
    "for i in range(1,10):\n",
    "    print(str(i) * i)"
   ]
  },
  {
   "cell_type": "code",
   "execution_count": null,
   "id": "ce017d00",
   "metadata": {},
   "outputs": [],
   "source": [
    "for i in range(1,10):\n",
    "    i = str(i) * i\n",
    "    print(i.center(9))"
   ]
  },
  {
   "cell_type": "code",
   "execution_count": null,
   "id": "4918ed31",
   "metadata": {},
   "outputs": [],
   "source": [
    "sum = 0\n",
    "for i in range(1,75):\n",
    "    sum += i\n",
    "print(sum)"
   ]
  },
  {
   "cell_type": "code",
   "execution_count": 1,
   "id": "963ec323",
   "metadata": {},
   "outputs": [
    {
     "name": "stdout",
     "output_type": "stream",
     "text": [
      "2775\n"
     ]
    }
   ],
   "source": [
    "num = sum(range(1,75))\n",
    "print(num)\n"
   ]
  },
  {
   "cell_type": "code",
   "execution_count": 2,
   "id": "e21f861f",
   "metadata": {},
   "outputs": [
    {
     "name": "stdout",
     "output_type": "stream",
     "text": [
      "I am happy\n",
      "I am confident\n"
     ]
    }
   ],
   "source": [
    "who = ['I am ', 'You are ']\n",
    "mood = ['happy', 'confident']\n",
    "for i in who:\n",
    "    for ii in mood:\n",
    "        print(i + ii)\n",
    "    break"
   ]
  },
  {
   "cell_type": "code",
   "execution_count": 5,
   "id": "956d7561",
   "metadata": {},
   "outputs": [
    {
     "name": "stdout",
     "output_type": "stream",
     "text": [
      "susan is happy\n",
      "susan is confident\n",
      "tom is happy\n",
      "tom is confident\n",
      "mike is happy\n",
      "mike is confident\n"
     ]
    }
   ],
   "source": [
    "names = [\"susan\",\"tom\",\"mike\"]\n",
    "moods = [\"happy\",\"confident\"]\n",
    "for name in names:\n",
    "    for mood in moods:\n",
    "        print(name + \" is \" + mood)\n",
    "    "
   ]
  },
  {
   "cell_type": "code",
   "execution_count": null,
   "id": "4fbf943d",
   "metadata": {},
   "outputs": [],
   "source": []
  }
 ],
 "metadata": {
  "kernelspec": {
   "display_name": "Python 3",
   "language": "python",
   "name": "python3"
  },
  "language_info": {
   "codemirror_mode": {
    "name": "ipython",
    "version": 3
   },
   "file_extension": ".py",
   "mimetype": "text/x-python",
   "name": "python",
   "nbconvert_exporter": "python",
   "pygments_lexer": "ipython3",
   "version": "3.13.2"
  }
 },
 "nbformat": 4,
 "nbformat_minor": 5
}
