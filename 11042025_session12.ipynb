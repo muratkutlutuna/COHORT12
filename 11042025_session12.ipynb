{
 "cells": [
  {
   "cell_type": "code",
   "execution_count": 1,
   "id": "a4c6936f",
   "metadata": {},
   "outputs": [
    {
     "name": "stdout",
     "output_type": "stream",
     "text": [
      "I\n",
      "love\n",
      "python333\n"
     ]
    }
   ],
   "source": [
    "print(\"I\\nlove\\npython.\\b333\")"
   ]
  },
  {
   "cell_type": "code",
   "execution_count": 2,
   "id": "d459e8e4",
   "metadata": {},
   "outputs": [
    {
     "name": "stdout",
     "output_type": "stream",
     "text": [
      "I\n",
      "love\n",
      "python333\n"
     ]
    }
   ],
   "source": [
    "print(f\"I\\nlove\\npython.\\b333\")"
   ]
  },
  {
   "cell_type": "code",
   "execution_count": null,
   "id": "b6e48276",
   "metadata": {},
   "outputs": [
    {
     "name": "stdout",
     "output_type": "stream",
     "text": [
      "I\\nlove\\npython.\\b333\n"
     ]
    }
   ],
   "source": [
    "print(r\"I\\nlove\\npython.\\b333\") # raw string"
   ]
  },
  {
   "cell_type": "code",
   "execution_count": 4,
   "id": "56ef884c",
   "metadata": {},
   "outputs": [
    {
     "name": "stdout",
     "output_type": "stream",
     "text": [
      "I\\nlove\\npython.\\b333\n"
     ]
    }
   ],
   "source": [
    "print(R\"I\\nlove\\npython.\\b333\") # raw string"
   ]
  },
  {
   "cell_type": "code",
   "execution_count": 21,
   "id": "89a6ddd4",
   "metadata": {},
   "outputs": [
    {
     "name": "stdout",
     "output_type": "stream",
     "text": [
      "child\n"
     ]
    }
   ],
   "source": [
    "age = 10\n",
    "if age >= 18:\n",
    "    status = \"adult\"\n",
    "elif 13 < age < 18:     #age < 18 and age >= 12:\n",
    "    status = \"teen\"\n",
    "elif age < 2:\n",
    "    status = \"baby\"\n",
    "else:\n",
    "    status = \"child\"\n",
    "print(status)\n"
   ]
  },
  {
   "cell_type": "code",
   "execution_count": 15,
   "id": "9bd31cb1",
   "metadata": {},
   "outputs": [
    {
     "ename": "SyntaxError",
     "evalue": "expected 'else' after 'if' expression (3856624555.py, line 1)",
     "output_type": "error",
     "traceback": [
      "\u001b[0;36m  Cell \u001b[0;32mIn[15], line 1\u001b[0;36m\u001b[0m\n\u001b[0;31m    status = \"adult\" if age >= 18 elif \"child\" # you can not use elif in ternary statements\u001b[0m\n\u001b[0m             ^\u001b[0m\n\u001b[0;31mSyntaxError\u001b[0m\u001b[0;31m:\u001b[0m expected 'else' after 'if' expression\n"
     ]
    }
   ],
   "source": [
    "status = \"adult\" if age >= 18 elif \"child\" # you can not use elif in ternary statements\n",
    "print(status)"
   ]
  },
  {
   "cell_type": "code",
   "execution_count": 26,
   "id": "0f6c49c3",
   "metadata": {},
   "outputs": [
    {
     "name": "stdout",
     "output_type": "stream",
     "text": [
      "baby\n"
     ]
    }
   ],
   "source": [
    "age = 1\n",
    "status = \"adult\" if age >= 18 else \"teen\" if 13 < age < 18 else \"baby\" if age < 2 else \"child\"\n",
    "print(status)"
   ]
  },
  {
   "cell_type": "code",
   "execution_count": 30,
   "id": "077d6219",
   "metadata": {},
   "outputs": [
    {
     "name": "stdout",
     "output_type": "stream",
     "text": [
      "odd\n"
     ]
    }
   ],
   "source": [
    "number = 11\n",
    "result = \"odd\" if number % 2 else \"even\"\n",
    "print(result)"
   ]
  },
  {
   "cell_type": "code",
   "execution_count": 31,
   "id": "1215a9eb",
   "metadata": {},
   "outputs": [],
   "source": [
    "# value_if_true if condition else value_if_false\n",
    "# ternary if statements"
   ]
  },
  {
   "cell_type": "code",
   "execution_count": 32,
   "id": "ab46072d",
   "metadata": {},
   "outputs": [
    {
     "data": {
      "text/plain": [
       "[1, 4, 9, 16, 25, 36, 49, 64, 81, 100]"
      ]
     },
     "execution_count": 32,
     "metadata": {},
     "output_type": "execute_result"
    }
   ],
   "source": [
    "# list comprehension / dict comprehension\n",
    "squares = []\n",
    "\n",
    "for number in range(1, 11):\n",
    "    squares.append(number ** 2)\n",
    "\n",
    "squares"
   ]
  },
  {
   "cell_type": "code",
   "execution_count": 33,
   "id": "948ad980",
   "metadata": {},
   "outputs": [
    {
     "name": "stdout",
     "output_type": "stream",
     "text": [
      "[1, 4, 9, 16, 25, 36, 49, 64, 81, 100]\n"
     ]
    }
   ],
   "source": [
    "# [expression for item in iterable]\n",
    "squares_comprehension = [number ** 2 for number in range(1, 11)]\n",
    "print(squares_comprehension)"
   ]
  },
  {
   "cell_type": "code",
   "execution_count": 35,
   "id": "69fea59a",
   "metadata": {},
   "outputs": [
    {
     "name": "stdout",
     "output_type": "stream",
     "text": [
      "[1, 4, 9, 16, 25, 36, 49, 64, 81, 100]\n"
     ]
    }
   ],
   "source": [
    "print([number ** 2 for number in range(1, 11)]) #[number ** 2 for number in range(1, 11)]"
   ]
  },
  {
   "cell_type": "code",
   "execution_count": 37,
   "id": "cf20998f",
   "metadata": {},
   "outputs": [
    {
     "name": "stdout",
     "output_type": "stream",
     "text": [
      "1\n",
      "4\n",
      "9\n",
      "16\n",
      "25\n",
      "36\n",
      "49\n",
      "64\n",
      "81\n",
      "100\n",
      "[None, None, None, None, None, None, None, None, None, None]\n"
     ]
    }
   ],
   "source": [
    "# [expression for item in iterable]\n",
    "squares_comprehension = [print(number ** 2) for number in range(1, 11)]\n",
    "print(squares_comprehension) # [None, None, None, None, None, None, None, None, None, None]"
   ]
  },
  {
   "cell_type": "code",
   "execution_count": null,
   "id": "1afa2968",
   "metadata": {},
   "outputs": [
    {
     "data": {
      "text/plain": [
       "[4, 16, 36, 64, 100]"
      ]
     },
     "execution_count": 38,
     "metadata": {},
     "output_type": "execute_result"
    }
   ],
   "source": [
    "squares = []\n",
    "\n",
    "for number in range(1, 11):\n",
    "    if number % 2 == 0: # not number % 2:\n",
    "        squares.append(number ** 2)\n",
    "\n",
    "squares"
   ]
  },
  {
   "cell_type": "code",
   "execution_count": 42,
   "id": "81ceb5bb",
   "metadata": {},
   "outputs": [
    {
     "data": {
      "text/plain": [
       "[4, 16, 36, 64, 100]"
      ]
     },
     "execution_count": 42,
     "metadata": {},
     "output_type": "execute_result"
    }
   ],
   "source": [
    "squares_even = [number ** 2 for number in range(1, 11) if not number % 2]\n",
    "squares_even"
   ]
  },
  {
   "cell_type": "code",
   "execution_count": 43,
   "id": "46212bf3",
   "metadata": {},
   "outputs": [
    {
     "data": {
      "text/plain": [
       "<generator object <genexpr> at 0x1071ff100>"
      ]
     },
     "execution_count": 43,
     "metadata": {},
     "output_type": "execute_result"
    }
   ],
   "source": [
    "squares_even = (number ** 2 for number in range(1, 11) if not number % 2)\n",
    "squares_even"
   ]
  },
  {
   "cell_type": "code",
   "execution_count": 44,
   "id": "c920e2bb",
   "metadata": {},
   "outputs": [
    {
     "name": "stdout",
     "output_type": "stream",
     "text": [
      "4\n",
      "16\n",
      "36\n",
      "64\n",
      "100\n"
     ]
    }
   ],
   "source": [
    "for i in squares_even:\n",
    "    print(i) # 4, 16, 36, 64, 100"
   ]
  },
  {
   "cell_type": "code",
   "execution_count": 46,
   "id": "55fb006d",
   "metadata": {},
   "outputs": [
    {
     "name": "stdout",
     "output_type": "stream",
     "text": [
      "['odd', 'even', 'odd', 'even', 'odd', 'even', 'odd', 'even', 'odd', 'even']\n"
     ]
    }
   ],
   "source": [
    "result = [\"even\" if x % 2 == 0 else \"odd\" for x in range(1, 11)]\n",
    "print(result) # ['odd', 'even', 'odd', 'even', 'odd', 'even', 'odd', 'even', 'odd', 'even']"
   ]
  },
  {
   "cell_type": "code",
   "execution_count": 47,
   "id": "99e236d5",
   "metadata": {},
   "outputs": [
    {
     "name": "stdout",
     "output_type": "stream",
     "text": [
      "{0: 0, 1: 1, 2: 4, 3: 9, 4: 16, 5: 25, 6: 36, 7: 49, 8: 64, 9: 81}\n"
     ]
    }
   ],
   "source": [
    "# dict comprehension {key_expression : value_expression for item in iterable}\n",
    "squares = {}\n",
    "\n",
    "for i in range(10):\n",
    "    squares[i] = i ** 2\n",
    "\n",
    "print(squares) # {0: 0, 1: 1, 2: 4, 3: 9, 4: 16, 5: 25, 6: 36, 7: 49, 8: 64, 9: 81}"
   ]
  },
  {
   "cell_type": "code",
   "execution_count": 48,
   "id": "aee5e4ae",
   "metadata": {},
   "outputs": [
    {
     "name": "stdout",
     "output_type": "stream",
     "text": [
      "{0: 0, 1: 1, 2: 4, 3: 9, 4: 16, 5: 25, 6: 36, 7: 49, 8: 64, 9: 81}\n"
     ]
    }
   ],
   "source": [
    "squares_comprehension = {i : i ** 2 for i in range(10)}\n",
    "print(squares_comprehension) # {0: 0, 1: 1, 2: 4, 3: 9, 4: 16, 5: 25, 6: 36, 7: 49, 8: 64, 9: 81}"
   ]
  },
  {
   "cell_type": "code",
   "execution_count": 51,
   "id": "ac0d8f41",
   "metadata": {},
   "outputs": [
    {
     "name": "stdout",
     "output_type": "stream",
     "text": [
      "andrew 40\n",
      "ozzy 14\n",
      "{'andrew': 40}\n"
     ]
    }
   ],
   "source": [
    "ages = {\"andrew\": 40, \"ozzy\": 14}\n",
    "adults = {}\n",
    "for name, age in ages.items():\n",
    "    # if ages[i] >= 18:\n",
    "    #     adults[i] = ages[i]\n",
    "    if age > 18:\n",
    "        adults[name] = age\n",
    "    print(name, age)\n",
    "print(adults) # {'andrew': 40}"
   ]
  },
  {
   "cell_type": "code",
   "execution_count": 53,
   "id": "a23e1ea6",
   "metadata": {},
   "outputs": [
    {
     "data": {
      "text/plain": [
       "{'andrew': 40}"
      ]
     },
     "execution_count": 53,
     "metadata": {},
     "output_type": "execute_result"
    }
   ],
   "source": [
    "adults = {k: v for k, v in ages.items() if v > 18}\n",
    "adults"
   ]
  },
  {
   "cell_type": "code",
   "execution_count": 54,
   "id": "76793c81",
   "metadata": {},
   "outputs": [
    {
     "name": "stdout",
     "output_type": "stream",
     "text": [
      "hello\n"
     ]
    }
   ],
   "source": [
    "def test():\n",
    "    print(\"hello\")\n",
    "test()"
   ]
  },
  {
   "cell_type": "code",
   "execution_count": 55,
   "id": "e9c051cd",
   "metadata": {},
   "outputs": [
    {
     "data": {
      "text/plain": [
       "False"
      ]
     },
     "execution_count": 55,
     "metadata": {},
     "output_type": "execute_result"
    }
   ],
   "source": [
    "callable(squares)"
   ]
  },
  {
   "cell_type": "code",
   "execution_count": 56,
   "id": "7dfa6c93",
   "metadata": {},
   "outputs": [
    {
     "data": {
      "text/plain": [
       "True"
      ]
     },
     "execution_count": 56,
     "metadata": {},
     "output_type": "execute_result"
    }
   ],
   "source": [
    "callable(test)"
   ]
  },
  {
   "cell_type": "code",
   "execution_count": 57,
   "id": "5aaf35e6",
   "metadata": {},
   "outputs": [
    {
     "data": {
      "text/plain": [
       "['__call__',\n",
       " '__class__',\n",
       " '__delattr__',\n",
       " '__dict__',\n",
       " '__dir__',\n",
       " '__doc__',\n",
       " '__eq__',\n",
       " '__firstlineno__',\n",
       " '__format__',\n",
       " '__ge__',\n",
       " '__getattribute__',\n",
       " '__getstate__',\n",
       " '__gt__',\n",
       " '__hash__',\n",
       " '__init__',\n",
       " '__init_subclass__',\n",
       " '__le__',\n",
       " '__lt__',\n",
       " '__module__',\n",
       " '__ne__',\n",
       " '__new__',\n",
       " '__reduce__',\n",
       " '__reduce_ex__',\n",
       " '__repr__',\n",
       " '__setattr__',\n",
       " '__sizeof__',\n",
       " '__static_attributes__',\n",
       " '__str__',\n",
       " '__subclasshook__',\n",
       " '__weakref__']"
      ]
     },
     "execution_count": 57,
     "metadata": {},
     "output_type": "execute_result"
    }
   ],
   "source": [
    "dir(help)"
   ]
  },
  {
   "cell_type": "code",
   "execution_count": 58,
   "id": "faf3113b",
   "metadata": {},
   "outputs": [
    {
     "data": {
      "text/plain": [
       "['__call__',\n",
       " '__class__',\n",
       " '__delattr__',\n",
       " '__dir__',\n",
       " '__doc__',\n",
       " '__eq__',\n",
       " '__format__',\n",
       " '__ge__',\n",
       " '__getattribute__',\n",
       " '__getstate__',\n",
       " '__gt__',\n",
       " '__hash__',\n",
       " '__init__',\n",
       " '__init_subclass__',\n",
       " '__le__',\n",
       " '__lt__',\n",
       " '__module__',\n",
       " '__name__',\n",
       " '__ne__',\n",
       " '__new__',\n",
       " '__qualname__',\n",
       " '__reduce__',\n",
       " '__reduce_ex__',\n",
       " '__repr__',\n",
       " '__self__',\n",
       " '__setattr__',\n",
       " '__sizeof__',\n",
       " '__str__',\n",
       " '__subclasshook__',\n",
       " '__text_signature__']"
      ]
     },
     "execution_count": 58,
     "metadata": {},
     "output_type": "execute_result"
    }
   ],
   "source": [
    "dir(all)"
   ]
  },
  {
   "cell_type": "code",
   "execution_count": 60,
   "id": "a828258e",
   "metadata": {},
   "outputs": [
    {
     "name": "stdout",
     "output_type": "stream",
     "text": [
      "Help on built-in function all in module builtins:\n",
      "\n",
      "all(iterable, /)\n",
      "    Return True if bool(x) is True for all values x in the iterable.\n",
      "\n",
      "    If the iterable is empty, return True.\n",
      "\n"
     ]
    }
   ],
   "source": [
    "help(all)"
   ]
  },
  {
   "cell_type": "code",
   "execution_count": 61,
   "id": "edf33690",
   "metadata": {},
   "outputs": [
    {
     "name": "stdout",
     "output_type": "stream",
     "text": [
      "Help on built-in function any in module builtins:\n",
      "\n",
      "any(iterable, /)\n",
      "    Return True if bool(x) is True for any x in the iterable.\n",
      "\n",
      "    If the iterable is empty, return False.\n",
      "\n"
     ]
    }
   ],
   "source": [
    "help(any)"
   ]
  },
  {
   "cell_type": "code",
   "execution_count": 62,
   "id": "4f513c8c",
   "metadata": {},
   "outputs": [
    {
     "name": "stdout",
     "output_type": "stream",
     "text": [
      "Help on class filter in module builtins:\n",
      "\n",
      "class filter(object)\n",
      " |  filter(function, iterable, /)\n",
      " |\n",
      " |  Return an iterator yielding those items of iterable for which function(item)\n",
      " |  is true. If function is None, return the items that are true.\n",
      " |\n",
      " |  Methods defined here:\n",
      " |\n",
      " |  __getattribute__(self, name, /)\n",
      " |      Return getattr(self, name).\n",
      " |\n",
      " |  __iter__(self, /)\n",
      " |      Implement iter(self).\n",
      " |\n",
      " |  __next__(self, /)\n",
      " |      Implement next(self).\n",
      " |\n",
      " |  __reduce__(self, /)\n",
      " |      Return state information for pickling.\n",
      " |\n",
      " |  ----------------------------------------------------------------------\n",
      " |  Static methods defined here:\n",
      " |\n",
      " |  __new__(*args, **kwargs)\n",
      " |      Create and return a new object.  See help(type) for accurate signature.\n",
      "\n"
     ]
    }
   ],
   "source": [
    "help(filter)"
   ]
  },
  {
   "cell_type": "code",
   "execution_count": 75,
   "id": "3c58d00a",
   "metadata": {},
   "outputs": [
    {
     "name": "stdout",
     "output_type": "stream",
     "text": [
      "The filtered elements are : \n",
      "Susan\n",
      "tom\n",
      "0\n"
     ]
    }
   ],
   "source": [
    "listA = [\"Susan\", \"tom\", False, 0, \"0\"]\n",
    "filtered_list = filter(None, listA)\n",
    "print(\"The filtered elements are : \")\n",
    "for i in filtered_list:\n",
    "    print(i) # Susan, tom, 0"
   ]
  },
  {
   "cell_type": "code",
   "execution_count": 79,
   "id": "5f58bc0f",
   "metadata": {},
   "outputs": [
    {
     "name": "stdout",
     "output_type": "stream",
     "text": [
      "Susan\n",
      "tom\n",
      "0\n"
     ]
    }
   ],
   "source": [
    "for i in filtered_list:\n",
    "    print(i) # Susan, tom, 0"
   ]
  },
  {
   "cell_type": "code",
   "execution_count": 78,
   "id": "9c6362a8",
   "metadata": {},
   "outputs": [
    {
     "data": {
      "text/plain": [
       "['Susan', 'tom', '0']"
      ]
     },
     "execution_count": 78,
     "metadata": {},
     "output_type": "execute_result"
    }
   ],
   "source": [
    "list(filtered_list) # [] # filter object is exhausted"
   ]
  },
  {
   "cell_type": "code",
   "execution_count": 77,
   "id": "93d0a07e",
   "metadata": {},
   "outputs": [
    {
     "name": "stdout",
     "output_type": "stream",
     "text": [
      "The filtered elements are : \n",
      "Susan\n",
      "tom\n",
      "0\n"
     ]
    }
   ],
   "source": [
    "listA = [\"Susan\", \"tom\", False, 0, \"0\"]\n",
    "filtered_list = list(filter(None, listA))\n",
    "print(\"The filtered elements are : \")\n",
    "for i in filtered_list:\n",
    "    print(i) # Susan, tom, 0"
   ]
  },
  {
   "cell_type": "code",
   "execution_count": 80,
   "id": "ff375340",
   "metadata": {},
   "outputs": [
    {
     "data": {
      "text/plain": [
       "['andrew']"
      ]
     },
     "execution_count": 80,
     "metadata": {},
     "output_type": "execute_result"
    }
   ],
   "source": [
    "listA = [[], (), False, 0, \"andrew\", {}]\n",
    "filtered_list = list(filter(None, listA))\n",
    "filtered_list"
   ]
  },
  {
   "cell_type": "code",
   "execution_count": 83,
   "id": "7014a613",
   "metadata": {},
   "outputs": [
    {
     "data": {
      "text/plain": [
       "False"
      ]
     },
     "execution_count": 83,
     "metadata": {},
     "output_type": "execute_result"
    }
   ],
   "source": [
    "def even_checker(num):\n",
    "    return True if num % 2 == 0 else False\n",
    "\n",
    "even_checker(1)"
   ]
  },
  {
   "cell_type": "code",
   "execution_count": 84,
   "id": "e666bec6",
   "metadata": {},
   "outputs": [
    {
     "data": {
      "text/plain": [
       "[0, 2, 4, 6, 8, 10, 12, 14, 16, 18]"
      ]
     },
     "execution_count": 84,
     "metadata": {},
     "output_type": "execute_result"
    }
   ],
   "source": [
    "even_numbers = list(filter(even_checker, range(20)))\n",
    "even_numbers"
   ]
  },
  {
   "cell_type": "code",
   "execution_count": 85,
   "id": "e063bc9c",
   "metadata": {},
   "outputs": [
    {
     "data": {
      "text/plain": [
       "False"
      ]
     },
     "execution_count": 85,
     "metadata": {},
     "output_type": "execute_result"
    }
   ],
   "source": [
    "def even_checker2(num):\n",
    "    return not num % 2\n",
    "even_checker2(1)"
   ]
  },
  {
   "cell_type": "code",
   "execution_count": 88,
   "id": "36a638a4",
   "metadata": {},
   "outputs": [
    {
     "data": {
      "text/plain": [
       "6"
      ]
     },
     "execution_count": 88,
     "metadata": {},
     "output_type": "execute_result"
    }
   ],
   "source": [
    "def a_checker(word):\n",
    "    return word.lower().count(\"a\")\n",
    "\n",
    "a_checker(\"andrewaaAAA\")"
   ]
  },
  {
   "cell_type": "code",
   "execution_count": 95,
   "id": "2d6a42e8",
   "metadata": {},
   "outputs": [
    {
     "name": "stdout",
     "output_type": "stream",
     "text": [
      "['Lorem', 'ipsum', 'dolor', 'sit', 'amet,', 'consectetur', 'adipiscing', 'elit.', 'Sed', 'do', 'eiusmod', 'tempor', 'incididunt', 'ut', 'labore', 'et', 'dolore', 'magna', 'aliqua.', 'Ut', 'enim', 'ad', 'minim', 'veniam,', 'quis', 'nostrud', 'exercitation', 'ullamco', 'laboris', 'nisi', 'ut', 'aliquip', 'ex', 'ea', 'commodo', 'consequat.', 'Duis', 'aute', 'irure', 'dolor', 'in', 'reprehenderit', 'in', 'voluptate', 'velit', 'esse', 'cillum', 'dolore', 'eu', 'fugiat', 'nulla', 'pariatur.', 'Excepteur', 'sint', 'occaecat', 'cupidatat', 'non', 'proident,', 'sunt', 'in', 'culpa', 'qui', 'officia', 'deserunt', 'mollit', 'anim', 'id', 'est', 'laborum.', 'Sed', 'ut', 'perspiciatis', 'unde', 'omnis', 'iste', 'natus', 'error', 'sit', 'voluptatem', 'accusantium', 'doloremque', 'laudantium,', 'totam', 'rem', 'aperiam,', 'eaque', 'ipsa', 'quae', 'ab', 'illo', 'inventore', 'veritatis', 'et', 'quasi', 'architecto', 'beatae', 'vitae', 'dicta', 'sunt', 'explicabo.', 'Nemo', 'enim', 'ipsam', 'voluptatem', 'quia', 'voluptas', 'sit', 'aspernatur', 'aut', 'odit', 'aut', 'fugit,', 'sed', 'quia', 'consequuntur', 'magni', 'dolores', 'eos', 'qui', 'ratione', 'voluptatem', 'sequi', 'nesciunt.', 'Neque', 'porro', 'quisquam', 'est,', 'qui', 'dolorem', 'ipsum', 'quia', 'dolor', 'sit', 'amet,', 'consectetur,', 'adipisci', 'velit...']\n"
     ]
    }
   ],
   "source": [
    "book = \"\"\"Lorem ipsum dolor sit amet, consectetur adipiscing elit. \\\n",
    "    Sed do eiusmod tempor incididunt ut labore et dolore magna aliqua. \\\n",
    "    Ut enim ad minim veniam, quis nostrud exercitation ullamco laboris nisi ut aliquip ex ea commodo consequat. \\\n",
    "    Duis aute irure dolor in reprehenderit in voluptate velit esse cillum dolore eu fugiat nulla pariatur. \\\n",
    "    Excepteur sint occaecat cupidatat non proident, sunt in culpa qui officia deserunt mollit anim id est laborum. \\\n",
    "    Sed ut perspiciatis unde omnis iste natus error sit voluptatem accusantium doloremque laudantium, totam rem aperiam, \\\n",
    "    eaque ipsa quae ab illo inventore veritatis et quasi architecto beatae vitae dicta sunt explicabo. \\\n",
    "    Nemo enim ipsam voluptatem quia voluptas sit aspernatur aut odit aut fugit, sed quia consequuntur magni dolores eos \\\n",
    "    qui ratione voluptatem sequi nesciunt. Neque porro quisquam est, qui dolorem ipsum quia dolor sit amet, consectetur, adipisci velit...\"\"\"\n",
    "list_book = book.split()\n",
    "print(list_book)\n"
   ]
  },
  {
   "cell_type": "code",
   "execution_count": 96,
   "id": "f63af5f5",
   "metadata": {},
   "outputs": [
    {
     "data": {
      "text/plain": [
       "['amet,',\n",
       " 'adipiscing',\n",
       " 'labore',\n",
       " 'magna',\n",
       " 'aliqua.',\n",
       " 'ad',\n",
       " 'veniam,',\n",
       " 'exercitation',\n",
       " 'ullamco',\n",
       " 'laboris',\n",
       " 'aliquip',\n",
       " 'ea',\n",
       " 'consequat.',\n",
       " 'aute',\n",
       " 'voluptate',\n",
       " 'fugiat',\n",
       " 'nulla',\n",
       " 'pariatur.',\n",
       " 'occaecat',\n",
       " 'cupidatat',\n",
       " 'culpa',\n",
       " 'officia',\n",
       " 'anim',\n",
       " 'laborum.',\n",
       " 'perspiciatis',\n",
       " 'natus',\n",
       " 'voluptatem',\n",
       " 'accusantium',\n",
       " 'laudantium,',\n",
       " 'totam',\n",
       " 'aperiam,',\n",
       " 'eaque',\n",
       " 'ipsa',\n",
       " 'quae',\n",
       " 'ab',\n",
       " 'veritatis',\n",
       " 'quasi',\n",
       " 'architecto',\n",
       " 'beatae',\n",
       " 'vitae',\n",
       " 'dicta',\n",
       " 'explicabo.',\n",
       " 'ipsam',\n",
       " 'voluptatem',\n",
       " 'quia',\n",
       " 'voluptas',\n",
       " 'aspernatur',\n",
       " 'aut',\n",
       " 'aut',\n",
       " 'quia',\n",
       " 'magni',\n",
       " 'ratione',\n",
       " 'voluptatem',\n",
       " 'quisquam',\n",
       " 'quia',\n",
       " 'amet,',\n",
       " 'adipisci']"
      ]
     },
     "execution_count": 96,
     "metadata": {},
     "output_type": "execute_result"
    }
   ],
   "source": [
    "list(filter(a_checker, list_book))"
   ]
  },
  {
   "cell_type": "code",
   "execution_count": 93,
   "id": "9101fa5c",
   "metadata": {},
   "outputs": [
    {
     "data": {
      "text/plain": [
       "{'ad',\n",
       " 'adipiscing',\n",
       " 'aliqua.',\n",
       " 'aliquip',\n",
       " 'amet,',\n",
       " 'anim',\n",
       " 'aute',\n",
       " 'consequat.',\n",
       " 'culpa',\n",
       " 'cupidatat',\n",
       " 'ea',\n",
       " 'exercitation',\n",
       " 'fugiat',\n",
       " 'labore',\n",
       " 'laboris',\n",
       " 'laborum.',\n",
       " 'magna',\n",
       " 'nulla',\n",
       " 'occaecat',\n",
       " 'officia',\n",
       " 'pariatur.',\n",
       " 'ullamco',\n",
       " 'veniam,',\n",
       " 'voluptate'}"
      ]
     },
     "execution_count": 93,
     "metadata": {},
     "output_type": "execute_result"
    }
   ],
   "source": [
    "unique_a_words = set(filter(a_checker, list_book))\n",
    "unique_a_words"
   ]
  },
  {
   "cell_type": "code",
   "execution_count": 97,
   "id": "db5a292b",
   "metadata": {},
   "outputs": [
    {
     "data": {
      "text/plain": [
       "24"
      ]
     },
     "execution_count": 97,
     "metadata": {},
     "output_type": "execute_result"
    }
   ],
   "source": [
    "len(unique_a_words) "
   ]
  },
  {
   "cell_type": "code",
   "execution_count": 98,
   "id": "6f766b37",
   "metadata": {},
   "outputs": [
    {
     "data": {
      "text/plain": [
       "['amet,',\n",
       " 'adipiscing',\n",
       " 'labore',\n",
       " 'magna',\n",
       " 'aliqua.',\n",
       " 'ad',\n",
       " 'veniam,',\n",
       " 'exercitation',\n",
       " 'ullamco',\n",
       " 'laboris',\n",
       " 'aliquip',\n",
       " 'ea',\n",
       " 'consequat.',\n",
       " 'aute',\n",
       " 'voluptate',\n",
       " 'fugiat',\n",
       " 'nulla',\n",
       " 'pariatur.',\n",
       " 'occaecat',\n",
       " 'cupidatat',\n",
       " 'culpa',\n",
       " 'officia',\n",
       " 'anim',\n",
       " 'laborum.',\n",
       " 'perspiciatis',\n",
       " 'natus',\n",
       " 'voluptatem',\n",
       " 'accusantium',\n",
       " 'laudantium,',\n",
       " 'totam',\n",
       " 'aperiam,',\n",
       " 'eaque',\n",
       " 'ipsa',\n",
       " 'quae',\n",
       " 'ab',\n",
       " 'veritatis',\n",
       " 'quasi',\n",
       " 'architecto',\n",
       " 'beatae',\n",
       " 'vitae',\n",
       " 'dicta',\n",
       " 'explicabo.',\n",
       " 'ipsam',\n",
       " 'voluptatem',\n",
       " 'quia',\n",
       " 'voluptas',\n",
       " 'aspernatur',\n",
       " 'aut',\n",
       " 'aut',\n",
       " 'quia',\n",
       " 'magni',\n",
       " 'ratione',\n",
       " 'voluptatem',\n",
       " 'quisquam',\n",
       " 'quia',\n",
       " 'amet,',\n",
       " 'adipisci']"
      ]
     },
     "execution_count": 98,
     "metadata": {},
     "output_type": "execute_result"
    }
   ],
   "source": [
    "result = []\n",
    "for word in list_book:\n",
    "    if a_checker(word):\n",
    "        result.append(word)\n",
    "\n",
    "result"
   ]
  },
  {
   "cell_type": "code",
   "execution_count": 99,
   "id": "0a57f7d9",
   "metadata": {},
   "outputs": [
    {
     "data": {
      "text/plain": [
       "True"
      ]
     },
     "execution_count": 99,
     "metadata": {},
     "output_type": "execute_result"
    }
   ],
   "source": [
    "def len_checker(word):\n",
    "    return len(word) > 5\n",
    "len_checker(\"andrewaaAAA\")"
   ]
  },
  {
   "cell_type": "code",
   "execution_count": 100,
   "id": "542aac76",
   "metadata": {},
   "outputs": [
    {
     "data": {
      "text/plain": [
       "['consectetur',\n",
       " 'adipiscing',\n",
       " 'eiusmod',\n",
       " 'tempor',\n",
       " 'incididunt',\n",
       " 'labore',\n",
       " 'dolore',\n",
       " 'aliqua.',\n",
       " 'veniam,',\n",
       " 'nostrud',\n",
       " 'exercitation',\n",
       " 'ullamco',\n",
       " 'laboris',\n",
       " 'aliquip',\n",
       " 'commodo',\n",
       " 'consequat.',\n",
       " 'reprehenderit',\n",
       " 'voluptate',\n",
       " 'cillum',\n",
       " 'dolore',\n",
       " 'fugiat',\n",
       " 'pariatur.',\n",
       " 'Excepteur',\n",
       " 'occaecat',\n",
       " 'cupidatat',\n",
       " 'proident,',\n",
       " 'officia',\n",
       " 'deserunt',\n",
       " 'mollit',\n",
       " 'laborum.',\n",
       " 'perspiciatis',\n",
       " 'voluptatem',\n",
       " 'accusantium',\n",
       " 'doloremque',\n",
       " 'laudantium,',\n",
       " 'aperiam,',\n",
       " 'inventore',\n",
       " 'veritatis',\n",
       " 'architecto',\n",
       " 'beatae',\n",
       " 'explicabo.',\n",
       " 'voluptatem',\n",
       " 'voluptas',\n",
       " 'aspernatur',\n",
       " 'fugit,',\n",
       " 'consequuntur',\n",
       " 'dolores',\n",
       " 'ratione',\n",
       " 'voluptatem',\n",
       " 'nesciunt.',\n",
       " 'quisquam',\n",
       " 'dolorem',\n",
       " 'consectetur,',\n",
       " 'adipisci',\n",
       " 'velit...']"
      ]
     },
     "execution_count": 100,
     "metadata": {},
     "output_type": "execute_result"
    }
   ],
   "source": [
    "len_filtered_list = list(filter(len_checker, list_book))\n",
    "len_filtered_list"
   ]
  },
  {
   "cell_type": "code",
   "execution_count": 101,
   "id": "f5b1a2b7",
   "metadata": {},
   "outputs": [
    {
     "name": "stdout",
     "output_type": "stream",
     "text": [
      "Help on class enumerate in module builtins:\n",
      "\n",
      "class enumerate(object)\n",
      " |  enumerate(iterable, start=0)\n",
      " |\n",
      " |  Return an enumerate object.\n",
      " |\n",
      " |    iterable\n",
      " |      an object supporting iteration\n",
      " |\n",
      " |  The enumerate object yields pairs containing a count (from start, which\n",
      " |  defaults to zero) and a value yielded by the iterable argument.\n",
      " |\n",
      " |  enumerate is useful for obtaining an indexed list:\n",
      " |      (0, seq[0]), (1, seq[1]), (2, seq[2]), ...\n",
      " |\n",
      " |  Methods defined here:\n",
      " |\n",
      " |  __getattribute__(self, name, /)\n",
      " |      Return getattr(self, name).\n",
      " |\n",
      " |  __iter__(self, /)\n",
      " |      Implement iter(self).\n",
      " |\n",
      " |  __next__(self, /)\n",
      " |      Implement next(self).\n",
      " |\n",
      " |  __reduce__(self, /)\n",
      " |      Return state information for pickling.\n",
      " |\n",
      " |  ----------------------------------------------------------------------\n",
      " |  Class methods defined here:\n",
      " |\n",
      " |  __class_getitem__(object, /)\n",
      " |      See PEP 585\n",
      " |\n",
      " |  ----------------------------------------------------------------------\n",
      " |  Static methods defined here:\n",
      " |\n",
      " |  __new__(*args, **kwargs)\n",
      " |      Create and return a new object.  See help(type) for accurate signature.\n",
      "\n"
     ]
    }
   ],
   "source": [
    "help(enumerate)"
   ]
  },
  {
   "cell_type": "code",
   "execution_count": 103,
   "id": "df626e42",
   "metadata": {},
   "outputs": [
    {
     "data": {
      "text/plain": [
       "[(1, 'c'),\n",
       " (2, 'l'),\n",
       " (3, 'a'),\n",
       " (4, 'r'),\n",
       " (5, 'u'),\n",
       " (6, 's'),\n",
       " (7, 'w'),\n",
       " (8, 'a'),\n",
       " (9, 'y')]"
      ]
     },
     "execution_count": 103,
     "metadata": {},
     "output_type": "execute_result"
    }
   ],
   "source": [
    "list(enumerate(\"clarusway\",1))"
   ]
  },
  {
   "cell_type": "code",
   "execution_count": 104,
   "id": "c0225944",
   "metadata": {},
   "outputs": [],
   "source": [
    "cities = [\n",
    "    \"New York\", \"London\", \"Tokyo\", \"Paris\", \"Berlin\", \"Sydney\", \"Melbourne\",\\\n",
    "    \"Oslo\", \"Copenhagen\", \"Stockholm\", \"Izmir\", \"Istanbul\", \"Ankara\", \"Beijing\",\\\n",
    "    \"Shanghai\", \"Shenzhen\", \"Shanghai\", \"Shanghai\", \"Shanghai\", \"Shanghai\",\\\n",
    "    \"Mumbai\", \"Delhi\", \"Shanghai\", \"Shanghai\", \"Shanghai\", \"Shanghai\", \"Shanghai\",\\\n",
    "]"
   ]
  },
  {
   "cell_type": "code",
   "execution_count": 105,
   "id": "ddef879e",
   "metadata": {},
   "outputs": [],
   "source": [
    "cities_dict = {k:v for k,v in enumerate(cities,1)}"
   ]
  },
  {
   "cell_type": "code",
   "execution_count": 107,
   "id": "a16d29a8",
   "metadata": {},
   "outputs": [
    {
     "data": {
      "text/plain": [
       "{1: 'New York',\n",
       " 2: 'London',\n",
       " 3: 'Tokyo',\n",
       " 4: 'Paris',\n",
       " 5: 'Berlin',\n",
       " 6: 'Sydney',\n",
       " 7: 'Melbourne',\n",
       " 8: 'Oslo',\n",
       " 9: 'Copenhagen',\n",
       " 10: 'Stockholm',\n",
       " 11: 'Izmir',\n",
       " 12: 'Istanbul',\n",
       " 13: 'Ankara',\n",
       " 14: 'Beijing',\n",
       " 15: 'Shanghai',\n",
       " 16: 'Shenzhen',\n",
       " 17: 'Shanghai',\n",
       " 18: 'Shanghai',\n",
       " 19: 'Shanghai',\n",
       " 20: 'Shanghai',\n",
       " 21: 'Mumbai',\n",
       " 22: 'Delhi',\n",
       " 23: 'Shanghai',\n",
       " 24: 'Shanghai',\n",
       " 25: 'Shanghai',\n",
       " 26: 'Shanghai',\n",
       " 27: 'Shanghai'}"
      ]
     },
     "execution_count": 107,
     "metadata": {},
     "output_type": "execute_result"
    }
   ],
   "source": [
    "cities_dict"
   ]
  },
  {
   "cell_type": "code",
   "execution_count": 108,
   "id": "b2274344",
   "metadata": {},
   "outputs": [
    {
     "data": {
      "text/plain": [
       "{'New York': 1,\n",
       " 'London': 2,\n",
       " 'Tokyo': 3,\n",
       " 'Paris': 4,\n",
       " 'Berlin': 5,\n",
       " 'Sydney': 6,\n",
       " 'Melbourne': 7,\n",
       " 'Oslo': 8,\n",
       " 'Copenhagen': 9,\n",
       " 'Stockholm': 10,\n",
       " 'Izmir': 11,\n",
       " 'Istanbul': 12,\n",
       " 'Ankara': 13,\n",
       " 'Beijing': 14,\n",
       " 'Shanghai': 27,\n",
       " 'Shenzhen': 16,\n",
       " 'Mumbai': 21,\n",
       " 'Delhi': 22}"
      ]
     },
     "execution_count": 108,
     "metadata": {},
     "output_type": "execute_result"
    }
   ],
   "source": [
    "cities_dict = {v:k for k,v in enumerate(cities,1)}\n",
    "cities_dict"
   ]
  },
  {
   "cell_type": "code",
   "execution_count": null,
   "id": "6a9e1436",
   "metadata": {},
   "outputs": [],
   "source": []
  }
 ],
 "metadata": {
  "kernelspec": {
   "display_name": "Python 3",
   "language": "python",
   "name": "python3"
  },
  "language_info": {
   "codemirror_mode": {
    "name": "ipython",
    "version": 3
   },
   "file_extension": ".py",
   "mimetype": "text/x-python",
   "name": "python",
   "nbconvert_exporter": "python",
   "pygments_lexer": "ipython3",
   "version": "3.13.2"
  }
 },
 "nbformat": 4,
 "nbformat_minor": 5
}
