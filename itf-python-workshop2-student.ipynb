{
 "cells": [
  {
   "cell_type": "markdown",
   "metadata": {},
   "source": [
    "### Problem 1\n",
    "\n",
    "Write a program that multiplies three numbers entered by the user. Print the output with the format method."
   ]
  },
  {
   "cell_type": "code",
   "execution_count": 4,
   "metadata": {},
   "outputs": [
    {
     "name": "stdout",
     "output_type": "stream",
     "text": [
      "24\n"
     ]
    }
   ],
   "source": [
    "num=1\n",
    "for i in range(3):\n",
    "    num*=int(input(\"Please enter a number\"))\n",
    "    \n",
    "print(num)"
   ]
  },
  {
   "cell_type": "markdown",
   "metadata": {},
   "source": [
    "### Problem 2\n",
    "\n",
    "Write a Python program to solve (x - y) * (x + y)."
   ]
  },
  {
   "cell_type": "code",
   "execution_count": 5,
   "metadata": {},
   "outputs": [
    {
     "name": "stdout",
     "output_type": "stream",
     "text": [
      "(x - y) * (x + y) = -5\n"
     ]
    }
   ],
   "source": [
    "x=2\n",
    "y=3\n",
    "print(\"(x - y) * (x + y) =\",(x - y) * (x + y))"
   ]
  },
  {
   "cell_type": "markdown",
   "metadata": {},
   "source": [
    "### Problem 3\n",
    "\n",
    "Get **word**, **seperator** and **repetition** values from the user and print the word on the screen according to the given values. \n",
    "\n",
    "Ex: word = ali sep = / repetition = 3 ----> ali/ali/ali"
   ]
  },
  {
   "cell_type": "code",
   "execution_count": 10,
   "metadata": {},
   "outputs": [
    {
     "name": "stdout",
     "output_type": "stream",
     "text": [
      "alibaba**alibaba**alibaba**alibaba**alibaba\n"
     ]
    }
   ],
   "source": [
    "word = input(\"please enter the word:\")\n",
    "sep = input(\"please enter the separator:\")\n",
    "repetition = int(input(\"please enter the number of repetitions:\"))\n",
    "\n",
    "text = \"\"\n",
    "for i in range(repetition):\n",
    "    text += word + sep\n",
    "print(text[:text.rfind(sep)])"
   ]
  },
  {
   "cell_type": "markdown",
   "metadata": {},
   "source": [
    "### Problem 4\n",
    "\n",
    "Get a sitring and an integer input from the user and get the output shown as in the example.\n",
    "\n",
    "Ex: word = Clarusway n = 3 OUTPUT = waywayway"
   ]
  },
  {
   "cell_type": "code",
   "execution_count": 12,
   "metadata": {},
   "outputs": [
    {
     "name": "stdout",
     "output_type": "stream",
     "text": [
      "waywayway"
     ]
    }
   ],
   "source": [
    "word = input(\"please enter the word:\")\n",
    "repetition = int(input(\"please enter the number of repetitions:\"))\n",
    "\n",
    "for i in range(repetition):\n",
    "    print(word[-repetition:], end=\"\")"
   ]
  },
  {
   "cell_type": "markdown",
   "metadata": {},
   "source": [
    "### Problem 5\n",
    "\n",
    "Get a number from the user. \n",
    "\n",
    "If the number is divided by 3 print *Clarus*, if it is divided by 5 print *way*, if it is divided by both 3 and 5 print *Clarusway*. \n",
    "\n",
    "If not, print the number itself."
   ]
  },
  {
   "cell_type": "code",
   "execution_count": 16,
   "metadata": {},
   "outputs": [
    {
     "name": "stdout",
     "output_type": "stream",
     "text": [
      "True\n",
      "True\n",
      "Clarusway\n"
     ]
    }
   ],
   "source": [
    "number = int(input(\"please enter a number:\"))\n",
    "# if(number%2==0 and number%3==0):\n",
    "#     print(\"The number is divisible by 2 and 3\")\n",
    "# elif (number%2==0):\n",
    "#     print(\"The number is divisible by 2\")\n",
    "# elif (number%3==0):\n",
    "#     print(\"The number is divisible by 3\")\n",
    "# else:\n",
    "#     print(\"The number is not divisible by 2 or 3\")\n",
    "print(number % 3 == 0)\n",
    "print(number % 5 == 0)\n",
    "print('Clarus' * (number % 3 == 0) + 'way' * (number % 5 == 0) or number)"
   ]
  },
  {
   "cell_type": "markdown",
   "metadata": {},
   "source": [
    "### Problem 6\n",
    "letters = \"abclarusxyz\"\n",
    "- get the word **clarus** in the string\n",
    "- get the word **cba**\n",
    "- print the last eight characters in reverse order"
   ]
  },
  {
   "cell_type": "code",
   "execution_count": 27,
   "metadata": {},
   "outputs": [
    {
     "name": "stdout",
     "output_type": "stream",
     "text": [
      "clarus\n",
      "cba\n",
      "zyxsural\n"
     ]
    }
   ],
   "source": [
    "letters = \"abclarusxyz\"\n",
    "print(letters[2:8])\n",
    "print(letters[2::-1])\n",
    "print(letters[:-9:-1])"
   ]
  },
  {
   "cell_type": "markdown",
   "metadata": {},
   "source": [
    "### Problem 7\n",
    "\n",
    "Print **Clarusway is the best** from the elements of the rand_list list.\n",
    "\n",
    "rand_list = [1,[1, 2, \"Clarus\", [2, \"way\"]], \" is the best\"]"
   ]
  },
  {
   "cell_type": "code",
   "execution_count": 28,
   "metadata": {},
   "outputs": [
    {
     "name": "stdout",
     "output_type": "stream",
     "text": [
      "Clarusway is the best\n",
      "Clarusway is the best\n"
     ]
    }
   ],
   "source": [
    "rand_list = [1,[1, 2, \"Clarus\", [2, \"way\"]], \" is the best\"]\n",
    "print(rand_list[1][2], rand_list[1][3][1], rand_list[2], sep=\"\")\n",
    "print(rand_list[1][2] + rand_list[1][3][1] + rand_list[2])"
   ]
  },
  {
   "cell_type": "markdown",
   "metadata": {},
   "source": [
    "### Problem 8\n",
    "\n",
    "Write a Python program to compute average of two given lists.\n",
    "\n",
    "nums1 = [1, 1, 3, 4, 4, 5, 6, 7]\n",
    "nums2 = [0, 1, 2, 3, 4, 4, 5, 7, 8]"
   ]
  },
  {
   "cell_type": "code",
   "execution_count": 34,
   "metadata": {},
   "outputs": [
    {
     "name": "stdout",
     "output_type": "stream",
     "text": [
      "3.875\n",
      "3.7777777777777777\n",
      "3.823529411764706\n"
     ]
    }
   ],
   "source": [
    "nums1 = [1, 1, 3, 4, 4, 5, 6, 7]\n",
    "nums2 = [0, 1, 2, 3, 4, 4, 5, 7, 8]\n",
    "print(sum(nums1)/len(nums1))\n",
    "print(sum(nums2)/len(nums2))\n",
    "print(sum(nums1 + nums2)/len(nums1 + nums2))"
   ]
  },
  {
   "cell_type": "markdown",
   "metadata": {},
   "source": []
  }
 ],
 "metadata": {
  "kernelspec": {
   "display_name": "Python 3",
   "language": "python",
   "name": "python3"
  },
  "language_info": {
   "codemirror_mode": {
    "name": "ipython",
    "version": 3
   },
   "file_extension": ".py",
   "mimetype": "text/x-python",
   "name": "python",
   "nbconvert_exporter": "python",
   "pygments_lexer": "ipython3",
   "version": "3.13.2"
  }
 },
 "nbformat": 4,
 "nbformat_minor": 2
}
