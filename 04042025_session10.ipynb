{
 "cells": [
  {
   "cell_type": "code",
   "execution_count": 1,
   "metadata": {},
   "outputs": [
    {
     "ename": "SyntaxError",
     "evalue": "invalid syntax (3682538214.py, line 1)",
     "output_type": "error",
     "traceback": [
      "\u001b[0;36m  Cell \u001b[0;32mIn[1], line 1\u001b[0;36m\u001b[0m\n\u001b[0;31m    if (1,2) print(\"dsfsda\")\u001b[0m\n\u001b[0m             ^\u001b[0m\n\u001b[0;31mSyntaxError\u001b[0m\u001b[0;31m:\u001b[0m invalid syntax\n"
     ]
    }
   ],
   "source": [
    "if (1,2) print(\"dsfsda\")"
   ]
  },
  {
   "cell_type": "code",
   "execution_count": 2,
   "metadata": {},
   "outputs": [
    {
     "name": "stdout",
     "output_type": "stream",
     "text": [
      "dsfsda\n"
     ]
    }
   ],
   "source": [
    "if (1,2): print(\"dsfsda\")"
   ]
  },
  {
   "cell_type": "code",
   "execution_count": 3,
   "metadata": {},
   "outputs": [
    {
     "name": "stdout",
     "output_type": "stream",
     "text": [
      "dsfsda\n"
     ]
    }
   ],
   "source": [
    "if (1,2): print(\"dsfsda\")\n",
    "else: print(\"else\")"
   ]
  },
  {
   "cell_type": "code",
   "execution_count": null,
   "metadata": {},
   "outputs": [
    {
     "name": "stdout",
     "output_type": "stream",
     "text": [
      "3\n",
      "4\n"
     ]
    }
   ],
   "source": [
    "my_list = [1,3,7,4,3,0,3,6,3]\n",
    "my_set = set(my_list)\n",
    "max_counted_number=0\n",
    "for letter in my_set:\n",
    "    max_counted_number = max_counted_number if max_counted_number>my_list.count(letter) else letter\n",
    "print(max_counted_number)\n",
    "print(my_list.count(max_counted_number))"
   ]
  },
  {
   "cell_type": "code",
   "execution_count": 7,
   "metadata": {},
   "outputs": [
    {
     "data": {
      "text/plain": [
       "3"
      ]
     },
     "execution_count": 7,
     "metadata": {},
     "output_type": "execute_result"
    }
   ],
   "source": [
    "my_list = [1,3,7,4,3,0,3,6,3]\n",
    "sorted(my_list, reverse = True, key=my_list.count)[0]"
   ]
  },
  {
   "cell_type": "code",
   "execution_count": 10,
   "metadata": {},
   "outputs": [
    {
     "data": {
      "text/plain": [
       "3"
      ]
     },
     "execution_count": 10,
     "metadata": {},
     "output_type": "execute_result"
    }
   ],
   "source": [
    "my_list = [1,3,7,4,3,0,3,6,3]\n",
    "sorted(my_list, key=my_list.count)[-1]"
   ]
  },
  {
   "cell_type": "code",
   "execution_count": null,
   "metadata": {},
   "outputs": [
    {
     "data": {
      "text/plain": [
       "3"
      ]
     },
     "execution_count": 8,
     "metadata": {},
     "output_type": "execute_result"
    }
   ],
   "source": [
    "my_list = [1,3,7,4,3,0,3,6,3]\n",
    "max(my_list, key=my_list.count)"
   ]
  },
  {
   "cell_type": "code",
   "execution_count": 9,
   "metadata": {},
   "outputs": [
    {
     "name": "stdout",
     "output_type": "stream",
     "text": [
      "the most frequent number is 3 and it was repeated 4 times.\n"
     ]
    }
   ],
   "source": [
    "my_list = [1,3,7,4,3,0,3,6,3]\n",
    "most_repeated = max(my_list, key=my_list.count)\n",
    "repetition = my_list.count(most_repeated)\n",
    "print(f\"the most frequent number is {most_repeated} and it was repeated {repetition} times.\")"
   ]
  },
  {
   "cell_type": "code",
   "execution_count": 11,
   "metadata": {},
   "outputs": [],
   "source": [
    "cities = [\n",
    "    # North America\n",
    "    \"New York City, USA\",\n",
    "    \"Los Angeles, USA\",\n",
    "    \"Toronto, Canada\",\n",
    "    \"Mexico City, Mexico\",\n",
    "    \"Vancouver, Canada\",\n",
    "\n",
    "    # South America\n",
    "    \"São Paulo, Brazil\",\n",
    "    \"Buenos Aires, Argentina\",\n",
    "    \"Santiago, Chile\",\n",
    "    \"Bogotá, Colombia\",\n",
    "    \"Lima, Peru\",\n",
    "\n",
    "    # Europe\n",
    "    \"London, UK\",\n",
    "    \"Paris, France\",\n",
    "    \"Berlin, Germany\",\n",
    "    \"Rome, Italy\",\n",
    "    \"Madrid, Spain\",\n",
    "    \"Amsterdam, Netherlands\",\n",
    "\n",
    "    # Asia\n",
    "    \"Tokyo, Japan\",\n",
    "    \"Seoul, South Korea\",\n",
    "    \"Beijing, China\",\n",
    "    \"Bangkok, Thailand\",\n",
    "    \"Mumbai, India\",\n",
    "    \"Dubai, UAE\",\n",
    "    \"Singapore, Singapore\",\n",
    "\n",
    "    # Africa\n",
    "    \"Cairo, Egypt\",\n",
    "    \"Lagos, Nigeria\",\n",
    "    \"Nairobi, Kenya\",\n",
    "    \"Cape Town, South Africa\",\n",
    "    \"Johannesburg, South Africa\",\n",
    "\n",
    "    # Oceania\n",
    "    \"Sydney, Australia\",\n",
    "    \"Melbourne, Australia\",\n",
    "    \"Auckland, New Zealand\",\n",
    "    \"Wellington, New Zealand\"\n",
    "]"
   ]
  },
  {
   "cell_type": "code",
   "execution_count": 12,
   "metadata": {},
   "outputs": [
    {
     "data": {
      "text/plain": [
       "'Johannesburg, South Africa'"
      ]
     },
     "execution_count": 12,
     "metadata": {},
     "output_type": "execute_result"
    }
   ],
   "source": [
    "max(cities, key=len)"
   ]
  },
  {
   "cell_type": "code",
   "execution_count": 19,
   "metadata": {},
   "outputs": [],
   "source": [
    "def a_checker(word):\n",
    "    return word.lower().count(\"a\")"
   ]
  },
  {
   "cell_type": "code",
   "execution_count": 20,
   "metadata": {},
   "outputs": [
    {
     "data": {
      "text/plain": [
       "1"
      ]
     },
     "execution_count": 20,
     "metadata": {},
     "output_type": "execute_result"
    }
   ],
   "source": [
    "a_checker(\"Andrew\")"
   ]
  },
  {
   "cell_type": "code",
   "execution_count": 13,
   "metadata": {},
   "outputs": [
    {
     "data": {
      "text/plain": [
       "['Lima, Peru',\n",
       " 'London, UK',\n",
       " 'Dubai, UAE',\n",
       " 'Rome, Italy',\n",
       " 'Tokyo, Japan',\n",
       " 'Cairo, Egypt',\n",
       " 'Paris, France',\n",
       " 'Madrid, Spain',\n",
       " 'Mumbai, India',\n",
       " 'Beijing, China',\n",
       " 'Lagos, Nigeria',\n",
       " 'Nairobi, Kenya',\n",
       " 'Toronto, Canada',\n",
       " 'Santiago, Chile',\n",
       " 'Berlin, Germany',\n",
       " 'Los Angeles, USA',\n",
       " 'Bogotá, Colombia',\n",
       " 'Vancouver, Canada',\n",
       " 'São Paulo, Brazil',\n",
       " 'Bangkok, Thailand',\n",
       " 'Sydney, Australia',\n",
       " 'New York City, USA',\n",
       " 'Seoul, South Korea',\n",
       " 'Mexico City, Mexico',\n",
       " 'Singapore, Singapore',\n",
       " 'Melbourne, Australia',\n",
       " 'Auckland, New Zealand',\n",
       " 'Amsterdam, Netherlands',\n",
       " 'Buenos Aires, Argentina',\n",
       " 'Cape Town, South Africa',\n",
       " 'Wellington, New Zealand',\n",
       " 'Johannesburg, South Africa']"
      ]
     },
     "execution_count": 13,
     "metadata": {},
     "output_type": "execute_result"
    }
   ],
   "source": [
    "sorted(cities, key=len)"
   ]
  },
  {
   "cell_type": "code",
   "execution_count": 21,
   "metadata": {},
   "outputs": [
    {
     "data": {
      "text/plain": [
       "['Mexico City, Mexico',\n",
       " 'London, UK',\n",
       " 'New York City, USA',\n",
       " 'Bogotá, Colombia',\n",
       " 'Lima, Peru',\n",
       " 'Berlin, Germany',\n",
       " 'Rome, Italy',\n",
       " 'Seoul, South Korea',\n",
       " 'Beijing, China',\n",
       " 'Cairo, Egypt',\n",
       " 'Los Angeles, USA',\n",
       " 'São Paulo, Brazil',\n",
       " 'Santiago, Chile',\n",
       " 'Paris, France',\n",
       " 'Madrid, Spain',\n",
       " 'Tokyo, Japan',\n",
       " 'Mumbai, India',\n",
       " 'Dubai, UAE',\n",
       " 'Singapore, Singapore',\n",
       " 'Lagos, Nigeria',\n",
       " 'Nairobi, Kenya',\n",
       " 'Wellington, New Zealand',\n",
       " 'Toronto, Canada',\n",
       " 'Buenos Aires, Argentina',\n",
       " 'Amsterdam, Netherlands',\n",
       " 'Bangkok, Thailand',\n",
       " 'Cape Town, South Africa',\n",
       " 'Johannesburg, South Africa',\n",
       " 'Sydney, Australia',\n",
       " 'Melbourne, Australia',\n",
       " 'Vancouver, Canada',\n",
       " 'Auckland, New Zealand']"
      ]
     },
     "execution_count": 21,
     "metadata": {},
     "output_type": "execute_result"
    }
   ],
   "source": [
    "sorted(cities, key=a_checker)"
   ]
  },
  {
   "cell_type": "code",
   "execution_count": 22,
   "metadata": {},
   "outputs": [
    {
     "data": {
      "text/plain": [
       "'Vancouver, Canada'"
      ]
     },
     "execution_count": 22,
     "metadata": {},
     "output_type": "execute_result"
    }
   ],
   "source": [
    "max(cities, key=a_checker)"
   ]
  },
  {
   "cell_type": "code",
   "execution_count": 28,
   "metadata": {},
   "outputs": [
    {
     "name": "stdout",
     "output_type": "stream",
     "text": [
      "True\n"
     ]
    }
   ],
   "source": [
    "right_hand = set(\"yuiophjklnm\")\n",
    "left_hand = set(\"qwertasdfgzxcvb\")\n",
    "text = input(\"please enter a text\") # \"aliveli\"\n",
    "print(bool(left_hand.intersection(text) and right_hand.intersection(text)))\n"
   ]
  },
  {
   "cell_type": "code",
   "execution_count": 33,
   "metadata": {},
   "outputs": [
    {
     "name": "stdout",
     "output_type": "stream",
     "text": [
      "<class 'tuple'> ('one',)\n"
     ]
    }
   ],
   "source": [
    "my_tuple = \"one\",\n",
    "print(type(my_tuple), my_tuple)"
   ]
  },
  {
   "cell_type": "code",
   "execution_count": 38,
   "metadata": {},
   "outputs": [
    {
     "name": "stdout",
     "output_type": "stream",
     "text": [
      "A+\n"
     ]
    }
   ],
   "source": [
    "score = int(input(\"Please enter you score:\"))\n",
    "if score > 90:\n",
    "    if score > 95:\n",
    "        print(\"A+\")\n",
    "    else:\n",
    "        print(\"A\")\n",
    "elif score > 80:\n",
    "    if score > 85:\n",
    "        print(\"B+\")\n",
    "    else:\n",
    "        print(\"B\")\n",
    "else:\n",
    "    print(\"below B\")"
   ]
  },
  {
   "cell_type": "code",
   "execution_count": null,
   "metadata": {},
   "outputs": [
    {
     "name": "stdout",
     "output_type": "stream",
     "text": [
      "positive\n"
     ]
    }
   ],
   "source": [
    "# ternary if statements\n",
    "\n",
    "num = 5\n",
    "\n",
    "if num > 0:\n",
    "    result = \"positive\"\n",
    "else:\n",
    "    result = \"negative\"\n",
    "\n",
    "print(result)"
   ]
  },
  {
   "cell_type": "code",
   "execution_count": 42,
   "metadata": {},
   "outputs": [
    {
     "name": "stdout",
     "output_type": "stream",
     "text": [
      "negative\n"
     ]
    }
   ],
   "source": [
    "num = -5\n",
    "result = \"positive\" if num > 0 else \"negative\"\n",
    "print(result)"
   ]
  },
  {
   "cell_type": "code",
   "execution_count": 50,
   "metadata": {},
   "outputs": [
    {
     "name": "stdout",
     "output_type": "stream",
     "text": [
      "below B\n"
     ]
    }
   ],
   "source": [
    "score = int(input(\"Please enter you score:\"))\n",
    "# if score > 90:\n",
    "#     if score > 95:\n",
    "#         print(\"A+\")\n",
    "#     else:\n",
    "#         print(\"A\")\n",
    "# elif score > 80:\n",
    "#     if score > 85:\n",
    "#         print(\"B+\")\n",
    "#     else:\n",
    "#         print(\"B\")\n",
    "# else:\n",
    "#     print(\"below B\")\n",
    "\n",
    "score_letter = \"A+\" if score >= 95 else \"A\" if score >= 90 else \"B+\" if score >= 85 else \"B\" if score > 80 else \"below B\" \n",
    "print(score_letter)"
   ]
  },
  {
   "cell_type": "code",
   "execution_count": 51,
   "metadata": {},
   "outputs": [
    {
     "name": "stdout",
     "output_type": "stream",
     "text": [
      "0\n",
      "1\n",
      "2\n",
      "3\n",
      "4\n",
      "5\n",
      "now, our number is bigger than or equal to 6\n"
     ]
    }
   ],
   "source": [
    "import time\n",
    "number = 0\n",
    "\n",
    "while number < 6:\n",
    "    print(number)\n",
    "    number += 1\n",
    "    time.sleep(2)\n",
    "print('now, our number is bigger than or equal to 6')"
   ]
  },
  {
   "cell_type": "code",
   "execution_count": 53,
   "metadata": {},
   "outputs": [
    {
     "name": "stdout",
     "output_type": "stream",
     "text": [
      "square of 0 is :  0\n",
      "square of 1 is :  1\n",
      "square of 2 is :  4\n",
      "square of 3 is :  9\n",
      "square of 4 is :  16\n"
     ]
    }
   ],
   "source": [
    "my_list = ['a', 'b', 'c', 'd', 'e']\n",
    "\n",
    "a = 0\n",
    "\n",
    "while a < len(my_list):\n",
    "    print('square of {} is : '.format(a),a**2)\n",
    "    a+=1\n",
    "\n"
   ]
  },
  {
   "cell_type": "code",
   "execution_count": 54,
   "metadata": {},
   "outputs": [
    {
     "data": {
      "text/plain": [
       "['__add__',\n",
       " '__class__',\n",
       " '__contains__',\n",
       " '__delattr__',\n",
       " '__dir__',\n",
       " '__doc__',\n",
       " '__eq__',\n",
       " '__format__',\n",
       " '__ge__',\n",
       " '__getattribute__',\n",
       " '__getitem__',\n",
       " '__getnewargs__',\n",
       " '__getstate__',\n",
       " '__gt__',\n",
       " '__hash__',\n",
       " '__init__',\n",
       " '__init_subclass__',\n",
       " '__iter__',\n",
       " '__le__',\n",
       " '__len__',\n",
       " '__lt__',\n",
       " '__mod__',\n",
       " '__mul__',\n",
       " '__ne__',\n",
       " '__new__',\n",
       " '__reduce__',\n",
       " '__reduce_ex__',\n",
       " '__repr__',\n",
       " '__rmod__',\n",
       " '__rmul__',\n",
       " '__setattr__',\n",
       " '__sizeof__',\n",
       " '__str__',\n",
       " '__subclasshook__',\n",
       " 'capitalize',\n",
       " 'casefold',\n",
       " 'center',\n",
       " 'count',\n",
       " 'encode',\n",
       " 'endswith',\n",
       " 'expandtabs',\n",
       " 'find',\n",
       " 'format',\n",
       " 'format_map',\n",
       " 'index',\n",
       " 'isalnum',\n",
       " 'isalpha',\n",
       " 'isascii',\n",
       " 'isdecimal',\n",
       " 'isdigit',\n",
       " 'isidentifier',\n",
       " 'islower',\n",
       " 'isnumeric',\n",
       " 'isprintable',\n",
       " 'isspace',\n",
       " 'istitle',\n",
       " 'isupper',\n",
       " 'join',\n",
       " 'ljust',\n",
       " 'lower',\n",
       " 'lstrip',\n",
       " 'maketrans',\n",
       " 'partition',\n",
       " 'removeprefix',\n",
       " 'removesuffix',\n",
       " 'replace',\n",
       " 'rfind',\n",
       " 'rindex',\n",
       " 'rjust',\n",
       " 'rpartition',\n",
       " 'rsplit',\n",
       " 'rstrip',\n",
       " 'split',\n",
       " 'splitlines',\n",
       " 'startswith',\n",
       " 'strip',\n",
       " 'swapcase',\n",
       " 'title',\n",
       " 'translate',\n",
       " 'upper',\n",
       " 'zfill']"
      ]
     },
     "execution_count": 54,
     "metadata": {},
     "output_type": "execute_result"
    }
   ],
   "source": [
    "dir(\"test\")"
   ]
  },
  {
   "cell_type": "code",
   "execution_count": 55,
   "metadata": {},
   "outputs": [
    {
     "name": "stdout",
     "output_type": "stream",
     "text": [
      "Help on method_descriptor:\n",
      "\n",
      "isdigit(self, /) unbound builtins.str method\n",
      "    Return True if the string is a digit string, False otherwise.\n",
      "\n",
      "    A string is a digit string if all characters in the string are digits and there\n",
      "    is at least one character in the string.\n",
      "\n"
     ]
    }
   ],
   "source": [
    "help(str.isdigit)"
   ]
  },
  {
   "cell_type": "code",
   "execution_count": 56,
   "metadata": {},
   "outputs": [
    {
     "name": "stdout",
     "output_type": "stream",
     "text": [
      "Help on method_descriptor:\n",
      "\n",
      "isnumeric(self, /) unbound builtins.str method\n",
      "    Return True if the string is a numeric string, False otherwise.\n",
      "\n",
      "    A string is numeric if all characters in the string are numeric and there is at\n",
      "    least one character in the string.\n",
      "\n"
     ]
    }
   ],
   "source": [
    "help(str.isnumeric)"
   ]
  },
  {
   "cell_type": "code",
   "execution_count": 61,
   "metadata": {},
   "outputs": [
    {
     "name": "stdout",
     "output_type": "stream",
     "text": [
      "Great! You entered a valid input. Your age is 0\n"
     ]
    }
   ],
   "source": [
    "age = input(\"Enter your age:\")\n",
    "while not age.isdigit():\n",
    "    print(\"You entered incorrectly!\")\n",
    "    age = input(\"Enter your age again please! : \")\n",
    "print(\"Great! You entered a valid input. Your age is\", age)"
   ]
  },
  {
   "cell_type": "code",
   "execution_count": 60,
   "metadata": {},
   "outputs": [
    {
     "name": "stdout",
     "output_type": "stream",
     "text": [
      "Great! You entered a valid input. Your age is 0\n"
     ]
    }
   ],
   "source": [
    "age = input(\"Enter your age:\")\n",
    "while not age.isnumeric():\n",
    "    print(\"You entered incorrectly!\")\n",
    "    age = input(\"Enter your age again please! : \")\n",
    "print(\"Great! You entered a valid input. Your age is\", age)"
   ]
  },
  {
   "cell_type": "code",
   "execution_count": 64,
   "metadata": {},
   "outputs": [
    {
     "name": "stdout",
     "output_type": "stream",
     "text": [
      "Great! You entered a valid input. Your age is 32.23\n"
     ]
    }
   ],
   "source": [
    "age = input(\"Enter your age:\")\n",
    "while (not age.replace(\".\",\"\").isdigit()) or age.count(\".\") > 1:\n",
    "    print(\"You entered incorrectly!\")\n",
    "    age = input(\"Enter your age again please! : \")\n",
    "print(\"Great! You entered a valid input. Your age is\", age)"
   ]
  },
  {
   "cell_type": "code",
   "execution_count": 65,
   "metadata": {},
   "outputs": [
    {
     "name": "stdout",
     "output_type": "stream",
     "text": [
      "Great! You entered a valid input. Your age is 34.34.34\n"
     ]
    }
   ],
   "source": [
    "age = input(\"Enter your age:\")\n",
    "while (not age.replace(\".\",\"\").isdigit()) and age.count(\".\") <= 1:\n",
    "    print(\"You entered incorrectly!\")\n",
    "    age = input(\"Enter your age again please! : \")\n",
    "print(\"Great! You entered a valid input. Your age is\", age)"
   ]
  },
  {
   "cell_type": "code",
   "execution_count": 68,
   "metadata": {},
   "outputs": [
    {
     "name": "stdout",
     "output_type": "stream",
     "text": [
      "*** Let's play the guessing game! ***\n",
      "Little higher\n",
      "Little higher\n",
      "Little lower\n",
      "Little lower\n",
      "Little lower\n",
      "Are you a mind reader!!\n"
     ]
    }
   ],
   "source": [
    "import random\n",
    "answer = random.randint(0, 100)\n",
    "question = \"What number am I thinking of?\"\n",
    "print(\"*** Let's play the guessing game! ***\")\n",
    "\n",
    "while True:\n",
    "    guess = int(input(question))\n",
    "\n",
    "    if guess < answer:\n",
    "        print(\"Little higher\")\n",
    "    elif guess > answer:\n",
    "        print(\"Little lower\")\n",
    "    else: # guess==answer\n",
    "        print(\"Are you a mind reader!!\")\n",
    "        break\n"
   ]
  },
  {
   "cell_type": "code",
   "execution_count": 69,
   "metadata": {},
   "outputs": [
    {
     "name": "stdout",
     "output_type": "stream",
     "text": [
      "*** Let's play the guessing game! ***\n",
      "Little lower\n",
      "Entered numbers are : [34]\n",
      "Little lower\n",
      "Entered numbers are : [34, 77]\n",
      "Little lower\n",
      "Entered numbers are : [34, 77, 22]\n",
      "Little lower\n",
      "Entered numbers are : [34, 77, 22, 11]\n",
      "Little higher\n",
      "Entered numbers are : [34, 77, 22, 11, 1]\n",
      "Little higher\n",
      "Entered numbers are : [34, 77, 22, 11, 1, 3]\n",
      "Little lower\n",
      "Entered numbers are : [34, 77, 22, 11, 1, 3, 6]\n",
      "Little lower\n",
      "Entered numbers are : [34, 77, 22, 11, 1, 3, 6, 5]\n",
      "Are you a mind reader!!\n"
     ]
    }
   ],
   "source": [
    "import random\n",
    "answer = random.randint(0, 100)\n",
    "question = \"What number am I thinking of?\"\n",
    "print(\"*** Let's play the guessing game! ***\")\n",
    "numbers = []\n",
    "while True:\n",
    "    guess = int(input(question))\n",
    "    numbers.append(guess)\n",
    "    if guess < answer:\n",
    "        print(\"Little higher\")\n",
    "        print(\"Entered numbers are :\", numbers)\n",
    "    elif guess > answer:\n",
    "        print(\"Little lower\")\n",
    "        print(\"Entered numbers are :\", numbers)\n",
    "    else: # guess==answer\n",
    "        print(\"Are you a mind reader!!\")\n",
    "        break"
   ]
  },
  {
   "cell_type": "code",
   "execution_count": null,
   "metadata": {},
   "outputs": [
    {
     "name": "stdout",
     "output_type": "stream",
     "text": [
      "The longest word is 26\n",
      "Length of odfh;sadhf;djsaflfasfiorgf: 26\n"
     ]
    }
   ],
   "source": [
    "sentence = input(\"Please enter the sentence: \")\n",
    "words = sentence.split()\n",
    "letter = 0\n",
    "len_longest = 0\n",
    "longest_word = \"\"\n",
    "\n",
    "while letter < len(words):\n",
    "    if len(words[letter]) > len_longest:\n",
    "        len_longest = len(words[letter])\n",
    "        longest_word = words[letter]\n",
    "    letter += 1\n",
    "\n",
    "print(f\"The longest word is {longest_word}\\nLength of {longest_word}: {len_longest}\")"
   ]
  },
  {
   "cell_type": "code",
   "execution_count": 73,
   "metadata": {},
   "outputs": [
    {
     "data": {
      "text/plain": [
       "'odfh;sadhf;djsaflfasfiorgf'"
      ]
     },
     "execution_count": 73,
     "metadata": {},
     "output_type": "execute_result"
    }
   ],
   "source": [
    "max(words, key=len)"
   ]
  },
  {
   "cell_type": "code",
   "execution_count": 76,
   "metadata": {},
   "outputs": [
    {
     "data": {
      "text/plain": [
       "'odfh;sadhf;djsaflfasfiorgf'"
      ]
     },
     "execution_count": 76,
     "metadata": {},
     "output_type": "execute_result"
    }
   ],
   "source": [
    "sorted(words, reverse=True, key=len)[0]"
   ]
  },
  {
   "cell_type": "code",
   "execution_count": null,
   "metadata": {},
   "outputs": [
    {
     "name": "stdout",
     "output_type": "stream",
     "text": [
      "1\n",
      "2\n",
      "3\n",
      "4\n",
      "5\n"
     ]
    }
   ],
   "source": [
    "for letter in [1,2,3,4,5]:\n",
    "    print(letter)"
   ]
  },
  {
   "cell_type": "code",
   "execution_count": null,
   "metadata": {},
   "outputs": [
    {
     "name": "stdout",
     "output_type": "stream",
     "text": [
      "1\n",
      "2\n",
      "3\n"
     ]
    }
   ],
   "source": [
    "numbers = [1,2,3]\n",
    "for letter in numbers:\n",
    "    print(letter)\n",
    "#     numbers.append(i) it gives infinite loop"
   ]
  },
  {
   "cell_type": "code",
   "execution_count": 83,
   "metadata": {},
   "outputs": [
    {
     "name": "stdout",
     "output_type": "stream",
     "text": [
      "spring\n",
      "summer\n",
      "automn\n",
      "winter\n"
     ]
    }
   ],
   "source": [
    "seasons = ['spring', 'summer', 'automn', 'winter']\n",
    "for season in seasons:\n",
    "    print(season)"
   ]
  },
  {
   "cell_type": "code",
   "execution_count": 84,
   "metadata": {},
   "outputs": [
    {
     "name": "stdout",
     "output_type": "stream",
     "text": [
      "Hello Ahmed\n",
      "Hello Aisha\n",
      "Hello Adam\n",
      "Hello Joseph\n",
      "Hello Gabriel\n"
     ]
    }
   ],
   "source": [
    "names = [\"Ahmed\", \"Aisha\", \"Adam\", \"Joseph\", \"Gabriel\"]\n",
    "for name in names:\n",
    "    print(\"Hello\", name)"
   ]
  },
  {
   "cell_type": "code",
   "execution_count": null,
   "metadata": {},
   "outputs": [
    {
     "name": "stdout",
     "output_type": "stream",
     "text": [
      "[0, 1, 2, 3, 4, 5]\n"
     ]
    }
   ],
   "source": [
    "numbers = []\n",
    "for letter in range(0,6):\n",
    "    numbers.append(letter)\n",
    "print(numbers)\n"
   ]
  },
  {
   "cell_type": "code",
   "execution_count": null,
   "metadata": {},
   "outputs": [
    {
     "name": "stdout",
     "output_type": "stream",
     "text": [
      "C\n",
      "l\n",
      "a\n",
      "r\n",
      "u\n",
      "s\n",
      "w\n",
      "a\n",
      "y\n"
     ]
    }
   ],
   "source": [
    "for letter in \"Clarusway\":\n",
    "    print(letter)"
   ]
  },
  {
   "cell_type": "code",
   "execution_count": null,
   "metadata": {},
   "outputs": [
    {
     "name": "stdout",
     "output_type": "stream",
     "text": [
      "C-l-a-r-u-s-w-a-y\n"
     ]
    }
   ],
   "source": [
    "word = \"Clarusway\"\n",
    "count = 0\n",
    "for letter in word:\n",
    "    count+=1\n",
    "    if(count<len(word)):\n",
    "        print(letter,end=\"-\")\n",
    "    else:\n",
    "        print(letter)"
   ]
  },
  {
   "cell_type": "code",
   "execution_count": 93,
   "metadata": {},
   "outputs": [
    {
     "name": "stdout",
     "output_type": "stream",
     "text": [
      "C-l-a-r-u-s-w-a-y\n"
     ]
    }
   ],
   "source": [
    "my_str = \"\"\n",
    "for letter in \"Clarusway\":\n",
    "\n",
    "    my_str +=letter+\"-\"\n",
    "my_str+=\"\\b\"\n",
    "print(my_str)"
   ]
  },
  {
   "cell_type": "code",
   "execution_count": null,
   "metadata": {},
   "outputs": [],
   "source": [
    "my_str = \"\"\n",
    "for letter in \"Clarusway\":\n",
    "\n",
    "    my_str +=letter+\"-\"\n",
    "my_str=my_str[:-1]\n",
    "print(my_str)"
   ]
  },
  {
   "cell_type": "code",
   "execution_count": 92,
   "metadata": {},
   "outputs": [
    {
     "name": "stdout",
     "output_type": "stream",
     "text": [
      "C-l-a-r-u-s-w-a-y"
     ]
    }
   ],
   "source": [
    "word = \"Clarusway\"\n",
    "count = 0\n",
    "for letter in word:\n",
    "    count+=1\n",
    "    if(count<len(word)):\n",
    "        letter += \"-\"\n",
    "    print(letter, end=\"\")"
   ]
  }
 ],
 "metadata": {
  "kernelspec": {
   "display_name": "Python 3",
   "language": "python",
   "name": "python3"
  },
  "language_info": {
   "codemirror_mode": {
    "name": "ipython",
    "version": 3
   },
   "file_extension": ".py",
   "mimetype": "text/x-python",
   "name": "python",
   "nbconvert_exporter": "python",
   "pygments_lexer": "ipython3",
   "version": "3.13.2"
  }
 },
 "nbformat": 4,
 "nbformat_minor": 2
}
