{
 "cells": [
  {
   "cell_type": "code",
   "execution_count": 1,
   "id": "74c8adad",
   "metadata": {},
   "outputs": [
    {
     "name": "stdout",
     "output_type": "stream",
     "text": [
      "Help on built-in function print in module builtins:\n",
      "\n",
      "print(*args, sep=' ', end='\\n', file=None, flush=False)\n",
      "    Prints the values to a stream, or to sys.stdout by default.\n",
      "\n",
      "    sep\n",
      "      string inserted between values, default a space.\n",
      "    end\n",
      "      string appended after the last value, default a newline.\n",
      "    file\n",
      "      a file-like object (stream); defaults to the current sys.stdout.\n",
      "    flush\n",
      "      whether to forcibly flush the stream.\n",
      "\n"
     ]
    }
   ],
   "source": [
    "help(print)"
   ]
  },
  {
   "cell_type": "code",
   "execution_count": 4,
   "id": "a0a38b90",
   "metadata": {},
   "outputs": [
    {
     "data": {
      "text/plain": [
       "15"
      ]
     },
     "execution_count": 4,
     "metadata": {},
     "output_type": "execute_result"
    }
   ],
   "source": [
    "def adder(a=5, b=3):\n",
    "    return a + b\n",
    "adder(b=10)"
   ]
  },
  {
   "cell_type": "code",
   "execution_count": null,
   "id": "3bc9ca40",
   "metadata": {},
   "outputs": [
    {
     "name": "stdout",
     "output_type": "stream",
     "text": [
      "-- This parrot wouldn't voom if you put a thousand volts through it.\n",
      "-- Lovely plumage, the Norwegian Blue\n",
      "-- It's  pushing up the daisies !\n"
     ]
    }
   ],
   "source": [
    "def parrot(voltage, state='a stiff', action='voom', type='Norwegian Blue'):\n",
    "    print(\"-- This parrot wouldn't\" , action, end = ' ')\n",
    "    print(\"if you put\" , str(voltage) , \"volts through it.\")\n",
    "    print(\"-- Lovely plumage, the\" ,  type)\n",
    "    print(\"-- It's \" , state , \"!\")\n",
    "\t\n",
    "# parrot(1000)                                          # 1 positional argument\n",
    "# parrot(voltage=1000)                                  # 1 keyword argument\n",
    "# parrot(voltage=1000000, action='VOOOOOM')             # 2 keyword arguments\n",
    "# parrot(action='VOOOOOM', voltage=1000000)             # 2 keyword arguments\n",
    "# parrot('a million', 'bereft of life', 'jump')         # 3 positional arguments\n",
    "parrot('a thousand', state='pushing up the daisies')  # 1 positional, 1 keyword"
   ]
  },
  {
   "cell_type": "code",
   "execution_count": 15,
   "id": "278996c6",
   "metadata": {},
   "outputs": [
    {
     "data": {
      "text/plain": [
       "'clarusway is a bootcamp'"
      ]
     },
     "execution_count": 15,
     "metadata": {},
     "output_type": "execute_result"
    }
   ],
   "source": [
    "text = \"{} is a {course}\".format(\"clarusway\", course=\"bootcamp\")\n",
    "text"
   ]
  },
  {
   "cell_type": "code",
   "execution_count": 16,
   "id": "01df20dd",
   "metadata": {},
   "outputs": [
    {
     "name": "stdout",
     "output_type": "stream",
     "text": [
      "clarusway is a bootcamp "
     ]
    }
   ],
   "source": [
    "print(\"clarusway\", \"is a bootcamp\", end=\" \")"
   ]
  },
  {
   "cell_type": "code",
   "execution_count": null,
   "id": "b4666d1c",
   "metadata": {},
   "outputs": [],
   "source": [
    "def func():\n",
    "    pass\n",
    "def func2():\n",
    "    pass\n",
    "\n"
   ]
  },
  {
   "cell_type": "code",
   "execution_count": 17,
   "id": "46a949d9",
   "metadata": {},
   "outputs": [
    {
     "ename": "KeyboardInterrupt",
     "evalue": "",
     "output_type": "error",
     "traceback": [
      "\u001b[0;31m---------------------------------------------------------------------------\u001b[0m",
      "\u001b[0;31mKeyboardInterrupt\u001b[0m                         Traceback (most recent call last)",
      "Cell \u001b[0;32mIn[17], line 6\u001b[0m\n\u001b[1;32m      3\u001b[0m \u001b[38;5;28;01melse\u001b[39;00m:\n\u001b[1;32m      4\u001b[0m     \u001b[38;5;28mprint\u001b[39m(\u001b[38;5;124m\"\u001b[39m\u001b[38;5;124melse\u001b[39m\u001b[38;5;124m\"\u001b[39m)\n\u001b[0;32m----> 6\u001b[0m \u001b[38;5;28;01mwhile\u001b[39;00m \u001b[38;5;241m1\u001b[39m:\n\u001b[1;32m      7\u001b[0m     \u001b[38;5;28;01mpass\u001b[39;00m\n\u001b[1;32m      9\u001b[0m \u001b[38;5;28;01mfor\u001b[39;00m i \u001b[38;5;129;01min\u001b[39;00m \u001b[38;5;28mrange\u001b[39m(\u001b[38;5;241m10\u001b[39m):\n",
      "\u001b[0;31mKeyboardInterrupt\u001b[0m: "
     ]
    }
   ],
   "source": [
    "if 1:\n",
    "    pass\n",
    "else:\n",
    "    print(\"else\")\n",
    "\n",
    "while 1:\n",
    "    pass\n",
    "\n",
    "for i in range(10):\n",
    "    pass"
   ]
  },
  {
   "cell_type": "code",
   "execution_count": 19,
   "id": "e6b20c20",
   "metadata": {},
   "outputs": [
    {
     "ename": "TypeError",
     "evalue": "fruiterer() takes 2 positional arguments but 3 were given",
     "output_type": "error",
     "traceback": [
      "\u001b[0;31m---------------------------------------------------------------------------\u001b[0m",
      "\u001b[0;31mTypeError\u001b[0m                                 Traceback (most recent call last)",
      "Cell \u001b[0;32mIn[19], line 4\u001b[0m\n\u001b[1;32m      1\u001b[0m \u001b[38;5;28;01mdef\u001b[39;00m\u001b[38;5;250m \u001b[39m\u001b[38;5;21mfruiterer\u001b[39m(fruit1, fruit2):\n\u001b[1;32m      2\u001b[0m     \u001b[38;5;28mprint\u001b[39m(\u001b[38;5;124m'\u001b[39m\u001b[38;5;124mI want to get\u001b[39m\u001b[38;5;124m'\u001b[39m, fruit1, \u001b[38;5;124m'\u001b[39m\u001b[38;5;124mand\u001b[39m\u001b[38;5;124m'\u001b[39m, fruit2)\n\u001b[0;32m----> 4\u001b[0m \u001b[43mfruiterer\u001b[49m\u001b[43m(\u001b[49m\u001b[38;5;124;43m'\u001b[39;49m\u001b[38;5;124;43mapple\u001b[39;49m\u001b[38;5;124;43m'\u001b[39;49m\u001b[43m,\u001b[49m\u001b[43m \u001b[49m\u001b[38;5;124;43m'\u001b[39;49m\u001b[38;5;124;43mbanana\u001b[39;49m\u001b[38;5;124;43m'\u001b[39;49m\u001b[43m,\u001b[49m\u001b[43m \u001b[49m\u001b[38;5;124;43m\"\u001b[39;49m\u001b[38;5;124;43mapple\u001b[39;49m\u001b[38;5;124;43m\"\u001b[39;49m\u001b[43m)\u001b[49m\n",
      "\u001b[0;31mTypeError\u001b[0m: fruiterer() takes 2 positional arguments but 3 were given"
     ]
    }
   ],
   "source": [
    "def fruiterer(fruit1, fruit2):\n",
    "    print('I want to get', fruit1, 'and', fruit2)\n",
    "\n",
    "fruiterer('apple', 'banana', \"apple\")"
   ]
  },
  {
   "cell_type": "code",
   "execution_count": 22,
   "id": "b6a1651c",
   "metadata": {},
   "outputs": [
    {
     "name": "stdout",
     "output_type": "stream",
     "text": [
      "I want to get apple and banana\n"
     ]
    }
   ],
   "source": [
    "def fruiterer(*fruit):\n",
    "    print('I want to get', fruit[0], 'and', fruit[1])\n",
    "\n",
    "fruiterer('apple', 'banana', \"apple\")"
   ]
  },
  {
   "cell_type": "code",
   "execution_count": 25,
   "id": "ca1be0f0",
   "metadata": {},
   "outputs": [
    {
     "name": "stdout",
     "output_type": "stream",
     "text": [
      "I want to get :\n",
      "_ banana\n",
      "_ apple\n"
     ]
    }
   ],
   "source": [
    "def fruiterer(*fruit):\n",
    "    # print(fruit,type(fruit))\n",
    "    if fruit:\n",
    "        print('I want to get :')\n",
    "        for f in fruit:\n",
    "            print(\"_\",f)\n",
    "    else:\n",
    "        print(\"Please call the function with fruit names\")\n",
    "\n",
    "fruiterer(\"banana\",\"apple\")"
   ]
  },
  {
   "cell_type": "code",
   "execution_count": null,
   "id": "9becb087",
   "metadata": {},
   "outputs": [
    {
     "name": "stdout",
     "output_type": "stream",
     "text": [
      "I want to get :\n",
      "_ banana\n",
      "_ apple\n",
      "_ orange\n",
      "_ watermelon\n",
      "_ kiwi\n"
     ]
    },
    {
     "ename": "TypeError",
     "evalue": "type() takes 1 or 3 arguments",
     "output_type": "error",
     "traceback": [
      "\u001b[0;31m---------------------------------------------------------------------------\u001b[0m",
      "\u001b[0;31mTypeError\u001b[0m                                 Traceback (most recent call last)",
      "Cell \u001b[0;32mIn[28], line 3\u001b[0m\n\u001b[1;32m      1\u001b[0m fruits \u001b[38;5;241m=\u001b[39m [\u001b[38;5;124m\"\u001b[39m\u001b[38;5;124mbanana\u001b[39m\u001b[38;5;124m\"\u001b[39m,\u001b[38;5;124m\"\u001b[39m\u001b[38;5;124mapple\u001b[39m\u001b[38;5;124m\"\u001b[39m,\u001b[38;5;124m\"\u001b[39m\u001b[38;5;124morange\u001b[39m\u001b[38;5;124m\"\u001b[39m,\u001b[38;5;124m\"\u001b[39m\u001b[38;5;124mwatermelon\u001b[39m\u001b[38;5;124m\"\u001b[39m,\u001b[38;5;124m\"\u001b[39m\u001b[38;5;124mkiwi\u001b[39m\u001b[38;5;124m\"\u001b[39m]\n\u001b[1;32m      2\u001b[0m fruiterer(\u001b[38;5;241m*\u001b[39mfruits)\n\u001b[0;32m----> 3\u001b[0m \u001b[38;5;28mprint\u001b[39m(\u001b[38;5;28mtype\u001b[39m(fruits), \u001b[38;5;28;43mtype\u001b[39;49m\u001b[43m(\u001b[49m\u001b[38;5;241;43m*\u001b[39;49m\u001b[43mfruits\u001b[49m\u001b[43m)\u001b[49m)\n",
      "\u001b[0;31mTypeError\u001b[0m: type() takes 1 or 3 arguments"
     ]
    }
   ],
   "source": [
    "fruits = [\"banana\",\"apple\",\"orange\",\"watermelon\",\"kiwi\"]\n",
    "fruiterer(*fruits)\n",
    "# asterix_fruits = (*fruits)\n",
    "# print(type(fruits), type(*fruits))"
   ]
  },
  {
   "cell_type": "code",
   "execution_count": 29,
   "id": "c222b6cc",
   "metadata": {},
   "outputs": [
    {
     "name": "stdout",
     "output_type": "stream",
     "text": [
      "evens list: [36, 66, 32, 16, 10, 30]\n",
      "odds list: [11, 33, 89, 21, 47]\n",
      "[36, 66, 32, 16, 10, 30]\n"
     ]
    }
   ],
   "source": [
    "def slicer(*num):\n",
    "    evens = []\n",
    "    odds = []\n",
    "    for i in num:\n",
    "        if i % 2 == 0:\n",
    "            evens.append(i)\n",
    "        else:\n",
    "            odds.append(i)\n",
    "    print(\"evens list:\", evens)\n",
    "    print(\"odds list:\", odds)\n",
    "    return evens, odds\n",
    "evens, odds = slicer(11,36,33,66,89,21,32,16,10,47,30)\n",
    "print(evens)"
   ]
  },
  {
   "cell_type": "code",
   "execution_count": null,
   "id": "af8adca1",
   "metadata": {},
   "outputs": [
    {
     "ename": "TypeError",
     "evalue": "unsupported operand type(s) for %: 'range' and 'int'",
     "output_type": "error",
     "traceback": [
      "\u001b[0;31m---------------------------------------------------------------------------\u001b[0m",
      "\u001b[0;31mTypeError\u001b[0m                                 Traceback (most recent call last)",
      "Cell \u001b[0;32mIn[31], line 1\u001b[0m\n\u001b[0;32m----> 1\u001b[0m evens, odds \u001b[38;5;241m=\u001b[39m \u001b[43mslicer\u001b[49m\u001b[43m(\u001b[49m\u001b[38;5;28;43mrange\u001b[39;49m\u001b[43m(\u001b[49m\u001b[38;5;241;43m100\u001b[39;49m\u001b[43m)\u001b[49m\u001b[43m,\u001b[49m\u001b[43m)\u001b[49m\n\u001b[1;32m      2\u001b[0m \u001b[38;5;28mprint\u001b[39m(evens)\n",
      "Cell \u001b[0;32mIn[29], line 5\u001b[0m, in \u001b[0;36mslicer\u001b[0;34m(*num)\u001b[0m\n\u001b[1;32m      3\u001b[0m odds \u001b[38;5;241m=\u001b[39m []\n\u001b[1;32m      4\u001b[0m \u001b[38;5;28;01mfor\u001b[39;00m i \u001b[38;5;129;01min\u001b[39;00m num:\n\u001b[0;32m----> 5\u001b[0m     \u001b[38;5;28;01mif\u001b[39;00m \u001b[43mi\u001b[49m\u001b[43m \u001b[49m\u001b[38;5;241;43m%\u001b[39;49m\u001b[43m \u001b[49m\u001b[38;5;241;43m2\u001b[39;49m \u001b[38;5;241m==\u001b[39m \u001b[38;5;241m0\u001b[39m:\n\u001b[1;32m      6\u001b[0m         evens\u001b[38;5;241m.\u001b[39mappend(i)\n\u001b[1;32m      7\u001b[0m     \u001b[38;5;28;01melse\u001b[39;00m:\n",
      "\u001b[0;31mTypeError\u001b[0m: unsupported operand type(s) for %: 'range' and 'int'"
     ]
    }
   ],
   "source": [
    "evens, odds = slicer(range(100))\n",
    "print(evens)"
   ]
  },
  {
   "cell_type": "code",
   "execution_count": 35,
   "id": "c11b1ee8",
   "metadata": {},
   "outputs": [
    {
     "ename": "TypeError",
     "evalue": "unsupported operand type(s) for %: 'range' and 'int'",
     "output_type": "error",
     "traceback": [
      "\u001b[0;31m---------------------------------------------------------------------------\u001b[0m",
      "\u001b[0;31mTypeError\u001b[0m                                 Traceback (most recent call last)",
      "Cell \u001b[0;32mIn[35], line 2\u001b[0m\n\u001b[1;32m      1\u001b[0m (\u001b[38;5;28mrange\u001b[39m(\u001b[38;5;241m100\u001b[39m),)\n\u001b[0;32m----> 2\u001b[0m \u001b[38;5;28;43mrange\u001b[39;49m\u001b[43m(\u001b[49m\u001b[38;5;241;43m100\u001b[39;49m\u001b[43m)\u001b[49m\u001b[43m \u001b[49m\u001b[38;5;241;43m%\u001b[39;49m\u001b[43m \u001b[49m\u001b[38;5;241;43m2\u001b[39;49m\n",
      "\u001b[0;31mTypeError\u001b[0m: unsupported operand type(s) for %: 'range' and 'int'"
     ]
    }
   ],
   "source": [
    "(range(100),)\n",
    "range(100) % 2"
   ]
  },
  {
   "cell_type": "code",
   "execution_count": 39,
   "id": "de6248b5",
   "metadata": {},
   "outputs": [
    {
     "name": "stdout",
     "output_type": "stream",
     "text": [
      "{'Carnivores': 'Lions', 'Herbivores': 'Cows', 'Omnivores': 'Elephants'} <class 'dict'>\n"
     ]
    }
   ],
   "source": [
    "def animals(**dictionary):\n",
    "    print(dictionary,type(dictionary))\n",
    "\n",
    "# animals(\"Lions\") # TypeError: animals() takes 0 positional arguments but 1 was given\n",
    "animals(Carnivores=\"Lions\", Herbivores=\"Cows\", Omnivores=\"Elephants\")\n"
   ]
  },
  {
   "cell_type": "code",
   "execution_count": 43,
   "id": "8aa80969",
   "metadata": {},
   "outputs": [
    {
     "name": "stdout",
     "output_type": "stream",
     "text": [
      "{'Carnivores': 'Lions', 'Herbivores': 'Cows', 'Omnivores': 'Elephants', 'Dinosaurs': 'T-Rex', 'Nomnivores': 'Humans'} <class 'dict'>\n",
      "Lions are Carnivores\n",
      "Cows are Herbivores\n",
      "Elephants are Omnivores\n",
      "T-Rex are Dinosaurs\n",
      "Humans are Nomnivores\n"
     ]
    }
   ],
   "source": [
    "def animals(**dictionary):\n",
    "    print(dictionary,type(dictionary))\n",
    "    for k, v in dictionary.items():\n",
    "        print(v, \"are\", k)\n",
    "\n",
    "animals(Carnivores=\"Lions\", Herbivores=\"Cows\", Omnivores=\"Elephants\", Dinosaurs=\"T-Rex\", Nomnivores=\"Humans\")"
   ]
  },
  {
   "cell_type": "code",
   "execution_count": 50,
   "id": "b2b4794f",
   "metadata": {},
   "outputs": [
    {
     "name": "stdout",
     "output_type": "stream",
     "text": [
      "['Beth', 'Oscar', 'Justin', 'Frank']\n",
      "[26, 42, 18, 33]\n"
     ]
    }
   ],
   "source": [
    "def organizer(**people):\n",
    "    # print(people)\n",
    "    names = [name for name in people.keys()]\n",
    "    ages = [age for age in people.values()]\n",
    "\n",
    "    print(names,ages,sep=\"\\n\")\n",
    "    # return names, ages\n",
    "\n",
    "organizer(Beth=26, Oscar=42, Justin=18, Frank=33)"
   ]
  },
  {
   "cell_type": "code",
   "execution_count": 51,
   "id": "afa768cf",
   "metadata": {},
   "outputs": [
    {
     "name": "stdout",
     "output_type": "stream",
     "text": [
      "1 2 3 4 5 6\n"
     ]
    }
   ],
   "source": [
    "print(*[1,2,3,4,5,6])"
   ]
  },
  {
   "cell_type": "code",
   "execution_count": 53,
   "id": "59ac5f50",
   "metadata": {},
   "outputs": [
    {
     "name": "stdout",
     "output_type": "stream",
     "text": [
      "1 3 5\n"
     ]
    }
   ],
   "source": [
    "print(*{1:2,3:4,5:6})"
   ]
  },
  {
   "cell_type": "code",
   "execution_count": 54,
   "id": "20aadee5",
   "metadata": {},
   "outputs": [
    {
     "name": "stdout",
     "output_type": "stream",
     "text": [
      "1\n",
      "3\n",
      "5\n"
     ]
    }
   ],
   "source": [
    "for i in {1:2,3:4,5:6}:\n",
    "    print(i)"
   ]
  },
  {
   "cell_type": "code",
   "execution_count": 55,
   "id": "407526eb",
   "metadata": {},
   "outputs": [
    {
     "ename": "TypeError",
     "evalue": "keywords must be strings",
     "output_type": "error",
     "traceback": [
      "\u001b[0;31m---------------------------------------------------------------------------\u001b[0m",
      "\u001b[0;31mTypeError\u001b[0m                                 Traceback (most recent call last)",
      "Cell \u001b[0;32mIn[55], line 1\u001b[0m\n\u001b[0;32m----> 1\u001b[0m \u001b[38;5;28;43mprint\u001b[39;49m\u001b[43m(\u001b[49m\u001b[38;5;241;43m*\u001b[39;49m\u001b[38;5;241;43m*\u001b[39;49m\u001b[43m{\u001b[49m\u001b[38;5;241;43m1\u001b[39;49m\u001b[43m:\u001b[49m\u001b[38;5;241;43m2\u001b[39;49m\u001b[43m,\u001b[49m\u001b[38;5;241;43m3\u001b[39;49m\u001b[43m:\u001b[49m\u001b[38;5;241;43m4\u001b[39;49m\u001b[43m,\u001b[49m\u001b[38;5;241;43m5\u001b[39;49m\u001b[43m:\u001b[49m\u001b[38;5;241;43m6\u001b[39;49m\u001b[43m}\u001b[49m\u001b[43m)\u001b[49m\n",
      "\u001b[0;31mTypeError\u001b[0m: keywords must be strings"
     ]
    }
   ],
   "source": [
    "print(**{1:2,3:4,5:6})"
   ]
  },
  {
   "cell_type": "code",
   "execution_count": 59,
   "id": "53b77961",
   "metadata": {},
   "outputs": [
    {
     "name": "stdout",
     "output_type": "stream",
     "text": [
      "['Beth', 'Oscar', 'Justin', 'Frank']\n",
      "[26, 42, 18, 33]\n"
     ]
    }
   ],
   "source": [
    "def organizer(**people):\n",
    "    names = [name for name in people.keys()]\n",
    "    ages = [age for age in people.values()]\n",
    "    print(names,ages,sep=\"\\n\")\n",
    "\n",
    "my_dict = {\"Beth\":26, \"Oscar\":42, \"Justin\":18, \"Frank\":33}\n",
    "organizer(**my_dict)"
   ]
  },
  {
   "cell_type": "code",
   "execution_count": 60,
   "id": "3e275914",
   "metadata": {},
   "outputs": [
    {
     "name": "stdout",
     "output_type": "stream",
     "text": [
      "1 2 3\n",
      "1+2***"
     ]
    }
   ],
   "source": [
    "print(1,2,3)\n",
    "print(*[1,2],sep=\"+\",end=\"***\")"
   ]
  },
  {
   "cell_type": "code",
   "execution_count": 65,
   "id": "f5fa1fa7",
   "metadata": {},
   "outputs": [
    {
     "name": "stdout",
     "output_type": "stream",
     "text": [
      "1$2###"
     ]
    }
   ],
   "source": [
    "my_dict = {\"sep\":\"$\", \"end\":\"###\"}\n",
    "print(*[1,2],**my_dict)"
   ]
  },
  {
   "cell_type": "code",
   "execution_count": 69,
   "id": "31b6b255",
   "metadata": {},
   "outputs": [
    {
     "ename": "TypeError",
     "evalue": "brothers() takes 3 positional arguments but 4 were given",
     "output_type": "error",
     "traceback": [
      "\u001b[0;31m---------------------------------------------------------------------------\u001b[0m",
      "\u001b[0;31mTypeError\u001b[0m                                 Traceback (most recent call last)",
      "Cell \u001b[0;32mIn[69], line 7\u001b[0m\n\u001b[1;32m      5\u001b[0m family \u001b[38;5;241m=\u001b[39m [\u001b[38;5;124m\"\u001b[39m\u001b[38;5;124mtom\u001b[39m\u001b[38;5;124m\"\u001b[39m,\u001b[38;5;124m\"\u001b[39m\u001b[38;5;124msue\u001b[39m\u001b[38;5;124m\"\u001b[39m,\u001b[38;5;124m\"\u001b[39m\u001b[38;5;124mtim\u001b[39m\u001b[38;5;124m\"\u001b[39m,\u001b[38;5;124m\"\u001b[39m\u001b[38;5;124mandrew\u001b[39m\u001b[38;5;124m\"\u001b[39m]\n\u001b[1;32m      6\u001b[0m \u001b[38;5;66;03m# brothers(family)\u001b[39;00m\n\u001b[0;32m----> 7\u001b[0m \u001b[43mbrothers\u001b[49m\u001b[43m(\u001b[49m\u001b[38;5;241;43m*\u001b[39;49m\u001b[43mfamily\u001b[49m\u001b[43m)\u001b[49m\n",
      "\u001b[0;31mTypeError\u001b[0m: brothers() takes 3 positional arguments but 4 were given"
     ]
    }
   ],
   "source": [
    "def brothers(bro1, bro2, bro3):\n",
    "    print(\"Here are the name of the brothers:\")\n",
    "    print(bro1,bro2,bro3, sep=\"\\n\")\n",
    "\n",
    "family = [\"tom\",\"sue\",\"tim\",\"andrew\"]\n",
    "# brothers(family)\n",
    "brothers(*family)"
   ]
  },
  {
   "cell_type": "code",
   "execution_count": 71,
   "id": "d9d26da2",
   "metadata": {},
   "outputs": [
    {
     "name": "stdout",
     "output_type": "stream",
     "text": [
      "Here are the name of the brothers:\n",
      "tom - sue - tim - andrew\n"
     ]
    }
   ],
   "source": [
    "def brothers(*bros):\n",
    "    print(\"Here are the name of the brothers:\")\n",
    "    print(\" - \".join(bros), sep=\"\\n\")\n",
    "\n",
    "family = [\"tom\",\"sue\",\"tim\",\"andrew\"]\n",
    "brothers(*family)"
   ]
  },
  {
   "cell_type": "code",
   "execution_count": 72,
   "id": "cc7ec6ff",
   "metadata": {},
   "outputs": [
    {
     "name": "stdout",
     "output_type": "stream",
     "text": [
      "for me, Bill Gates and Guido Van Rossum are geniuses.\n"
     ]
    }
   ],
   "source": [
    "genius = [\"Bill\", \"Rossum\", \"Guido Van\", \"Gates\"]\n",
    "def merger(arg1, arg2, arg3, arg4):\n",
    "    print(f\"for me, {arg1} {arg4} and {arg3} {arg2} are geniuses.\")\n",
    "merger(*genius)"
   ]
  },
  {
   "cell_type": "code",
   "execution_count": 76,
   "id": "8f11c9ec",
   "metadata": {},
   "outputs": [
    {
     "name": "stdout",
     "output_type": "stream",
     "text": [
      "for me, Bill Gates and Guido Van Rossum are geniuses.\n"
     ]
    }
   ],
   "source": [
    "genius = [\"Bill\", \"Rossum\", \"Guido Van\", \"Gates\"]\n",
    "def merger(args):\n",
    "    print(f\"for me, {args[0]} {args[3]} and {args[2]} {args[1]} are geniuses.\")\n",
    "merger(genius)"
   ]
  },
  {
   "cell_type": "code",
   "execution_count": null,
   "id": "6005662c",
   "metadata": {},
   "outputs": [],
   "source": [
    "genius = [\"Bill\", \"Rossum\", \"Guido Van\", \"Gates\"]\n",
    "def merger(*args):\n",
    "    print(f\"for me, {args[0]} {args[3]} and {args[2]} {args[1]} are geniuses.\")\n",
    "merger(*genius)"
   ]
  },
  {
   "cell_type": "code",
   "execution_count": 77,
   "id": "da3b76ea",
   "metadata": {},
   "outputs": [
    {
     "name": "stdout",
     "output_type": "stream",
     "text": [
      "(['Bill', 'Rossum', 'Guido Van', 'Gates'],)\n"
     ]
    },
    {
     "ename": "IndexError",
     "evalue": "tuple index out of range",
     "output_type": "error",
     "traceback": [
      "\u001b[0;31m---------------------------------------------------------------------------\u001b[0m",
      "\u001b[0;31mIndexError\u001b[0m                                Traceback (most recent call last)",
      "Cell \u001b[0;32mIn[77], line 5\u001b[0m\n\u001b[1;32m      3\u001b[0m     \u001b[38;5;28mprint\u001b[39m(args)\n\u001b[1;32m      4\u001b[0m     \u001b[38;5;28mprint\u001b[39m(\u001b[38;5;124mf\u001b[39m\u001b[38;5;124m\"\u001b[39m\u001b[38;5;124mfor me, \u001b[39m\u001b[38;5;132;01m{\u001b[39;00margs[\u001b[38;5;241m0\u001b[39m]\u001b[38;5;132;01m}\u001b[39;00m\u001b[38;5;124m \u001b[39m\u001b[38;5;132;01m{\u001b[39;00margs[\u001b[38;5;241m3\u001b[39m]\u001b[38;5;132;01m}\u001b[39;00m\u001b[38;5;124m and \u001b[39m\u001b[38;5;132;01m{\u001b[39;00margs[\u001b[38;5;241m2\u001b[39m]\u001b[38;5;132;01m}\u001b[39;00m\u001b[38;5;124m \u001b[39m\u001b[38;5;132;01m{\u001b[39;00margs[\u001b[38;5;241m1\u001b[39m]\u001b[38;5;132;01m}\u001b[39;00m\u001b[38;5;124m are geniuses.\u001b[39m\u001b[38;5;124m\"\u001b[39m)\n\u001b[0;32m----> 5\u001b[0m \u001b[43mmerger\u001b[49m\u001b[43m(\u001b[49m\u001b[43mgenius\u001b[49m\u001b[43m)\u001b[49m\n",
      "Cell \u001b[0;32mIn[77], line 4\u001b[0m, in \u001b[0;36mmerger\u001b[0;34m(*args)\u001b[0m\n\u001b[1;32m      2\u001b[0m \u001b[38;5;28;01mdef\u001b[39;00m\u001b[38;5;250m \u001b[39m\u001b[38;5;21mmerger\u001b[39m(\u001b[38;5;241m*\u001b[39margs):\n\u001b[1;32m      3\u001b[0m     \u001b[38;5;28mprint\u001b[39m(args)\n\u001b[0;32m----> 4\u001b[0m     \u001b[38;5;28mprint\u001b[39m(\u001b[38;5;124mf\u001b[39m\u001b[38;5;124m\"\u001b[39m\u001b[38;5;124mfor me, \u001b[39m\u001b[38;5;132;01m{\u001b[39;00margs[\u001b[38;5;241m0\u001b[39m]\u001b[38;5;132;01m}\u001b[39;00m\u001b[38;5;124m \u001b[39m\u001b[38;5;132;01m{\u001b[39;00m\u001b[43margs\u001b[49m\u001b[43m[\u001b[49m\u001b[38;5;241;43m3\u001b[39;49m\u001b[43m]\u001b[49m\u001b[38;5;132;01m}\u001b[39;00m\u001b[38;5;124m and \u001b[39m\u001b[38;5;132;01m{\u001b[39;00margs[\u001b[38;5;241m2\u001b[39m]\u001b[38;5;132;01m}\u001b[39;00m\u001b[38;5;124m \u001b[39m\u001b[38;5;132;01m{\u001b[39;00margs[\u001b[38;5;241m1\u001b[39m]\u001b[38;5;132;01m}\u001b[39;00m\u001b[38;5;124m are geniuses.\u001b[39m\u001b[38;5;124m\"\u001b[39m)\n",
      "\u001b[0;31mIndexError\u001b[0m: tuple index out of range"
     ]
    }
   ],
   "source": [
    "genius = [\"Bill\", \"Rossum\", \"Guido Van\", \"Gates\"]\n",
    "def merger(*args):\n",
    "    print(args)\n",
    "    print(f\"for me, {args[0]} {args[3]} and {args[2]} {args[1]} are geniuses.\")\n",
    "merger(genius)"
   ]
  },
  {
   "cell_type": "code",
   "execution_count": 82,
   "id": "c2538c4a",
   "metadata": {},
   "outputs": [
    {
     "ename": "TypeError",
     "evalue": "gene() got an unexpected keyword argument 'z'",
     "output_type": "error",
     "traceback": [
      "\u001b[0;31m---------------------------------------------------------------------------\u001b[0m",
      "\u001b[0;31mTypeError\u001b[0m                                 Traceback (most recent call last)",
      "Cell \u001b[0;32mIn[82], line 6\u001b[0m\n\u001b[1;32m      3\u001b[0m     \u001b[38;5;28mprint\u001b[39m(y, \u001b[38;5;124m\"\u001b[39m\u001b[38;5;124mbelongs to Generation Y\u001b[39m\u001b[38;5;124m\"\u001b[39m)\n\u001b[1;32m      5\u001b[0m dict_gene \u001b[38;5;241m=\u001b[39m {\u001b[38;5;124m\"\u001b[39m\u001b[38;5;124mx\u001b[39m\u001b[38;5;124m\"\u001b[39m:\u001b[38;5;124m\"\u001b[39m\u001b[38;5;124mBill Gates\u001b[39m\u001b[38;5;124m\"\u001b[39m, \u001b[38;5;124m\"\u001b[39m\u001b[38;5;124my\u001b[39m\u001b[38;5;124m\"\u001b[39m:\u001b[38;5;124m\"\u001b[39m\u001b[38;5;124mElon Musk\u001b[39m\u001b[38;5;124m\"\u001b[39m,\u001b[38;5;124m\"\u001b[39m\u001b[38;5;124mz\u001b[39m\u001b[38;5;124m\"\u001b[39m:\u001b[38;5;124m\"\u001b[39m\u001b[38;5;124mMark Zuckerberg\u001b[39m\u001b[38;5;124m\"\u001b[39m}\n\u001b[0;32m----> 6\u001b[0m \u001b[43mgene\u001b[49m\u001b[43m(\u001b[49m\u001b[38;5;241;43m*\u001b[39;49m\u001b[38;5;241;43m*\u001b[39;49m\u001b[43mdict_gene\u001b[49m\u001b[43m)\u001b[49m\n",
      "\u001b[0;31mTypeError\u001b[0m: gene() got an unexpected keyword argument 'z'"
     ]
    }
   ],
   "source": [
    "def gene(x,y):\n",
    "    print(x, \"belongs to Generation X\")\n",
    "    print(y, \"belongs to Generation Y\")\n",
    "\n",
    "dict_gene = {\"x\":\"Bill Gates\", \"y\":\"Elon Musk\",\"z\":\"Mark Zuckerberg\"}\n",
    "gene(**dict_gene)"
   ]
  },
  {
   "cell_type": "code",
   "execution_count": 83,
   "id": "447e262d",
   "metadata": {},
   "outputs": [
    {
     "name": "stdout",
     "output_type": "stream",
     "text": [
      "Bill Gates belongs to Generation X\n",
      "Elon Musk belongs to Generation Y\n"
     ]
    }
   ],
   "source": [
    "def gene(x,y,**kwargs):\n",
    "    print(x, \"belongs to Generation X\")\n",
    "    print(y, \"belongs to Generation Y\")\n",
    "\n",
    "dict_gene = {\"x\":\"Bill Gates\", \"y\":\"Elon Musk\",\"z\":\"Mark Zuckerberg\"}\n",
    "gene(**dict_gene)"
   ]
  },
  {
   "cell_type": "code",
   "execution_count": 86,
   "id": "c84c6b6d",
   "metadata": {},
   "outputs": [
    {
     "name": "stdout",
     "output_type": "stream",
     "text": [
      "{'x': 'Bill Gates', 'y': 'Elon Musk', 'z': 'Mark Zuckerberg'}\n",
      "Bill Gates belongs to Generation X\n",
      "Elon Musk belongs to Generation Y\n",
      "Mark Zuckerberg belongs to Generation Z\n",
      "{'x': 'Fred', 'y': 'Barney', 'z': 'Wilma'}\n",
      "Fred belongs to Generation X\n",
      "Barney belongs to Generation Y\n",
      "Wilma belongs to Generation Z\n"
     ]
    }
   ],
   "source": [
    "def gene(**kwargs):\n",
    "    print(kwargs)\n",
    "    for k, v in kwargs.items():\n",
    "        print(v, \"belongs to Generation\", k.upper())\n",
    "    # print(x, \"belongs to Generation X\")\n",
    "    # print(y, \"belongs to Generation Y\")\n",
    "\n",
    "dict_gene = {\"x\":\"Bill Gates\", \"y\":\"Elon Musk\",\"z\":\"Mark Zuckerberg\"}\n",
    "gene(**dict_gene)\n",
    "gene(x = \"Fred\", y = \"Barney\", z = \"Wilma\")"
   ]
  },
  {
   "cell_type": "code",
   "execution_count": 94,
   "id": "16ac98e8",
   "metadata": {},
   "outputs": [
    {
     "name": "stdout",
     "output_type": "stream",
     "text": [
      "The average of the ages is : 31.0\n"
     ]
    }
   ],
   "source": [
    "friends = {\"Ali\":28, \"Veli\":30, \"Mehmet\":35}\n",
    "def meaner(**kwargs):\n",
    "    avg =sum(kwargs.values())/len(kwargs)\n",
    "    print(\"The average of the ages is :\", avg)\n",
    "\n",
    "meaner(**friends)\n"
   ]
  },
  {
   "cell_type": "code",
   "execution_count": null,
   "id": "6c53a705",
   "metadata": {},
   "outputs": [],
   "source": [
    "def func(var1 = None, var2 = None, timeframe = \"1h\"):\n",
    "    if var1:\n",
    "        return \"You passed a value to var1\"\n",
    "    elif var2:\n",
    "        return \"a new value\""
   ]
  },
  {
   "cell_type": "code",
   "execution_count": 95,
   "id": "e18b4869",
   "metadata": {},
   "outputs": [
    {
     "data": {
      "text/plain": [
       "8.0"
      ]
     },
     "execution_count": 95,
     "metadata": {},
     "output_type": "execute_result"
    }
   ],
   "source": [
    "import math\n",
    "math.pow(2,3)"
   ]
  },
  {
   "cell_type": "code",
   "execution_count": 96,
   "id": "d6143e97",
   "metadata": {},
   "outputs": [
    {
     "name": "stdout",
     "output_type": "stream",
     "text": [
      "Help on built-in function pow in module math:\n",
      "\n",
      "pow(x, y, /)\n",
      "    Return x**y (x to the power of y).\n",
      "\n"
     ]
    }
   ],
   "source": [
    "help(math.pow)"
   ]
  },
  {
   "cell_type": "code",
   "execution_count": 97,
   "id": "e94acd8b",
   "metadata": {},
   "outputs": [
    {
     "data": {
      "text/plain": [
       "8.0"
      ]
     },
     "execution_count": 97,
     "metadata": {},
     "output_type": "execute_result"
    }
   ],
   "source": [
    "from math import *\n",
    "pow(2,3)"
   ]
  },
  {
   "cell_type": "code",
   "execution_count": 98,
   "id": "8c6c68c3",
   "metadata": {},
   "outputs": [
    {
     "name": "stdout",
     "output_type": "stream",
     "text": [
      "Help on built-in function pow in module math:\n",
      "\n",
      "pow(x, y, /)\n",
      "    Return x**y (x to the power of y).\n",
      "\n"
     ]
    }
   ],
   "source": [
    "help(pow)"
   ]
  },
  {
   "cell_type": "code",
   "execution_count": 99,
   "id": "856f34a2",
   "metadata": {},
   "outputs": [],
   "source": [
    "pow = \"test\""
   ]
  },
  {
   "cell_type": "code",
   "execution_count": 100,
   "id": "87e2ba72",
   "metadata": {},
   "outputs": [
    {
     "data": {
      "text/plain": [
       "'test'"
      ]
     },
     "execution_count": 100,
     "metadata": {},
     "output_type": "execute_result"
    }
   ],
   "source": [
    "pow"
   ]
  },
  {
   "cell_type": "code",
   "execution_count": 103,
   "id": "367773f1",
   "metadata": {},
   "outputs": [
    {
     "name": "stdout",
     "output_type": "stream",
     "text": [
      "10\n"
     ]
    },
    {
     "ename": "NameError",
     "evalue": "name 'a' is not defined",
     "output_type": "error",
     "traceback": [
      "\u001b[0;31m---------------------------------------------------------------------------\u001b[0m",
      "\u001b[0;31mNameError\u001b[0m                                 Traceback (most recent call last)",
      "Cell \u001b[0;32mIn[103], line 6\u001b[0m\n\u001b[1;32m      3\u001b[0m     \u001b[38;5;28mprint\u001b[39m(a)\n\u001b[1;32m      5\u001b[0m test()\n\u001b[0;32m----> 6\u001b[0m \u001b[43ma\u001b[49m\n",
      "\u001b[0;31mNameError\u001b[0m: name 'a' is not defined"
     ]
    }
   ],
   "source": [
    "def test():\n",
    "    a = 10\n",
    "    print(a)\n",
    "\n",
    "test()\n",
    "a"
   ]
  },
  {
   "cell_type": "code",
   "execution_count": 104,
   "id": "b3a02786",
   "metadata": {},
   "outputs": [
    {
     "name": "stdout",
     "output_type": "stream",
     "text": [
      "inner variable\n",
      "outer variable\n"
     ]
    }
   ],
   "source": [
    "my_var = 'outer variable'\n",
    "\n",
    "def func():\n",
    "    my_var = 'inner variable'\n",
    "    print(my_var)\n",
    "\n",
    "func()\n",
    "print(my_var)"
   ]
  },
  {
   "cell_type": "code",
   "execution_count": 107,
   "id": "641da4a8",
   "metadata": {},
   "outputs": [
    {
     "ename": "UnboundLocalError",
     "evalue": "cannot access local variable 'x' where it is not associated with a value",
     "output_type": "error",
     "traceback": [
      "\u001b[0;31m---------------------------------------------------------------------------\u001b[0m",
      "\u001b[0;31mUnboundLocalError\u001b[0m                         Traceback (most recent call last)",
      "Cell \u001b[0;32mIn[107], line 6\u001b[0m\n\u001b[1;32m      3\u001b[0m     x \u001b[38;5;241m=\u001b[39m x \u001b[38;5;241m*\u001b[39m \u001b[38;5;241m2\u001b[39m\n\u001b[1;32m      4\u001b[0m     \u001b[38;5;28mprint\u001b[39m(x)\n\u001b[0;32m----> 6\u001b[0m \u001b[43mfoo\u001b[49m\u001b[43m(\u001b[49m\u001b[43m)\u001b[49m\n",
      "Cell \u001b[0;32mIn[107], line 3\u001b[0m, in \u001b[0;36mfoo\u001b[0;34m()\u001b[0m\n\u001b[1;32m      2\u001b[0m \u001b[38;5;28;01mdef\u001b[39;00m\u001b[38;5;250m \u001b[39m\u001b[38;5;21mfoo\u001b[39m():\n\u001b[0;32m----> 3\u001b[0m     x \u001b[38;5;241m=\u001b[39m \u001b[43mx\u001b[49m \u001b[38;5;241m*\u001b[39m \u001b[38;5;241m2\u001b[39m\n\u001b[1;32m      4\u001b[0m     \u001b[38;5;28mprint\u001b[39m(x)\n",
      "\u001b[0;31mUnboundLocalError\u001b[0m: cannot access local variable 'x' where it is not associated with a value"
     ]
    }
   ],
   "source": [
    "x = 5 # we can access global variables from functions but we can not change them\n",
    "def foo():\n",
    "    x = x * 2\n",
    "    print(x)\n",
    "\n",
    "foo()"
   ]
  },
  {
   "cell_type": "code",
   "execution_count": 108,
   "id": "0904fb4e",
   "metadata": {},
   "outputs": [
    {
     "name": "stdout",
     "output_type": "stream",
     "text": [
      "10\n"
     ]
    }
   ],
   "source": [
    "x = 5 \n",
    "def foo():\n",
    "    global x\n",
    "    x = x * 2\n",
    "    print(x)\n",
    "\n",
    "foo()"
   ]
  },
  {
   "cell_type": "code",
   "execution_count": 109,
   "id": "57780d33",
   "metadata": {},
   "outputs": [
    {
     "name": "stdout",
     "output_type": "stream",
     "text": [
      "2\n"
     ]
    }
   ],
   "source": [
    "x = 5 \n",
    "def foo():\n",
    "    x = 1\n",
    "    x = x * 2\n",
    "    print(x)\n",
    "\n",
    "foo()"
   ]
  },
  {
   "cell_type": "code",
   "execution_count": 110,
   "id": "02a5f805",
   "metadata": {},
   "outputs": [
    {
     "name": "stdout",
     "output_type": "stream",
     "text": [
      "global\n",
      "global\n",
      "globals are valid in evreywhere\n",
      "globals are valid in evreywhere\n",
      "local\n",
      "globals are valid in evreywhere\n"
     ]
    },
    {
     "ename": "NameError",
     "evalue": "name 'local_text' is not defined",
     "output_type": "error",
     "traceback": [
      "\u001b[0;31m---------------------------------------------------------------------------\u001b[0m",
      "\u001b[0;31mNameError\u001b[0m                                 Traceback (most recent call last)",
      "Cell \u001b[0;32mIn[110], line 20\u001b[0m\n\u001b[1;32m     18\u001b[0m loc()\n\u001b[1;32m     19\u001b[0m \u001b[38;5;28mprint\u001b[39m(text)\n\u001b[0;32m---> 20\u001b[0m \u001b[38;5;28mprint\u001b[39m(\u001b[43mlocal_text\u001b[49m)\n",
      "\u001b[0;31mNameError\u001b[0m: name 'local_text' is not defined"
     ]
    }
   ],
   "source": [
    "text = \"global\"\n",
    "\n",
    "def glob():\n",
    "    print(text)\n",
    "\n",
    "glob()\n",
    "print(text)\n",
    "\n",
    "text = \"globals are valid in evreywhere\"\n",
    "\n",
    "glob()\n",
    "print(text)\n",
    "\n",
    "def loc():\n",
    "    local_text = \"local\"\n",
    "    print(local_text)\n",
    "\n",
    "loc()\n",
    "print(text)\n",
    "print(local_text)\n"
   ]
  }
 ],
 "metadata": {
  "kernelspec": {
   "display_name": "Python 3",
   "language": "python",
   "name": "python3"
  },
  "language_info": {
   "codemirror_mode": {
    "name": "ipython",
    "version": 3
   },
   "file_extension": ".py",
   "mimetype": "text/x-python",
   "name": "python",
   "nbconvert_exporter": "python",
   "pygments_lexer": "ipython3",
   "version": "3.13.2"
  }
 },
 "nbformat": 4,
 "nbformat_minor": 5
}
